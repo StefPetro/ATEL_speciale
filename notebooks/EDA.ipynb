{
 "cells": [
  {
   "cell_type": "markdown",
   "id": "2a574d9b-de6f-44b7-87ce-c6b0fadfde05",
   "metadata": {},
   "source": [
    "# 1. Imports"
   ]
  },
  {
   "cell_type": "code",
   "execution_count": 15,
   "id": "7993fedd-14de-4d64-b71b-2b641fb3a924",
   "metadata": {},
   "outputs": [],
   "source": [
    "import gc\n",
    "import re\n",
    "import numpy as np\n",
    "import pandas as pd\n",
    "from sklearn.preprocessing import MultiLabelBinarizer\n",
    "from string import punctuation\n",
    "\n",
    "import plotly.express as px\n",
    "\n",
    "import atel\n",
    "from atel.data import BookCollection"
   ]
  },
  {
   "cell_type": "markdown",
   "id": "8f009743-efaa-4f9a-a420-6fc02b47354d",
   "metadata": {},
   "source": [
    "# 2. Load data - Child Written Books"
   ]
  },
  {
   "cell_type": "code",
   "execution_count": 16,
   "id": "3b0f7144-38bd-4ef5-9f09-d1e3dad43aa5",
   "metadata": {},
   "outputs": [
    {
     "name": "stdout",
     "output_type": "stream",
     "text": [
      "Loaded from disk: ../data/book_col_271120.pkl\n",
      "Number of books: 803\n"
     ]
    }
   ],
   "source": [
    "# load data\n",
    "book_col = BookCollection(data_file='../data/book_col_271120.pkl')\n",
    "\n",
    "# Total number of books\n",
    "print(f'Number of books: {book_col.num_books}')"
   ]
  },
  {
   "cell_type": "markdown",
   "id": "595ba600-0e2a-4a06-9153-9150ef93b1ff",
   "metadata": {},
   "source": [
    "## 2.1 Get all attributes for each book"
   ]
  },
  {
   "cell_type": "code",
   "execution_count": 17,
   "id": "3c4b3007-5609-455f-8e19-879224ba1f9a",
   "metadata": {},
   "outputs": [
    {
     "name": "stdout",
     "output_type": "stream",
     "text": [
      "Book with index 509 is None\n"
     ]
    }
   ],
   "source": [
    "data = []\n",
    "\n",
    "for i, book in enumerate(book_col):\n",
    "    if book.code_dict is None:\n",
    "        print(f'Book with index {i} is None')\n",
    "        continue\n",
    "    book.code_dict['book_id'] = i \n",
    "    data.append(book.code_dict)"
   ]
  },
  {
   "cell_type": "code",
   "execution_count": 18,
   "id": "1a4d3bb2-453b-47a9-b283-b34001a59e58",
   "metadata": {},
   "outputs": [],
   "source": [
    "book_df = pd.DataFrame(data)"
   ]
  },
  {
   "cell_type": "code",
   "execution_count": 19,
   "id": "6a4f5656-8723-48fa-9dcf-3a3070d994c9",
   "metadata": {},
   "outputs": [],
   "source": [
    "list_cols = [\n",
    "    'Genre', 'Attitude', 'Stavning', 'Perspektiv', 'Tekstbånd', 'Fremstillingsform', \n",
    "    'Semantisk univers', 'Stemmer', 'Forbindere', 'Interjektioner'\n",
    "]"
   ]
  },
  {
   "cell_type": "code",
   "execution_count": 20,
   "id": "436cf3a9-47db-4efd-97b9-73a0411d1a0f",
   "metadata": {},
   "outputs": [],
   "source": [
    "## Replace empty strings with NaN values\n",
    "book_df = book_df.replace('', np.NaN)\n",
    "\n",
    "## Explode all columns\n",
    "# Exploded books\n",
    "ex_book_df = book_df.copy(deep=True)\n",
    "for col in list_cols:\n",
    "    ex_book_df = ex_book_df.explode(col)\n",
    "\n",
    "# del book_df\n",
    "# gc.collect()"
   ]
  },
  {
   "cell_type": "code",
   "execution_count": 21,
   "id": "287488a1-de52-41fc-880a-32d6af6615f6",
   "metadata": {},
   "outputs": [
    {
     "data": {
      "text/html": [
       "<div>\n",
       "<style scoped>\n",
       "    .dataframe tbody tr th:only-of-type {\n",
       "        vertical-align: middle;\n",
       "    }\n",
       "\n",
       "    .dataframe tbody tr th {\n",
       "        vertical-align: top;\n",
       "    }\n",
       "\n",
       "    .dataframe thead th {\n",
       "        text-align: right;\n",
       "    }\n",
       "</style>\n",
       "<table border=\"1\" class=\"dataframe\">\n",
       "  <thead>\n",
       "    <tr style=\"text-align: right;\">\n",
       "      <th></th>\n",
       "      <th>Genre</th>\n",
       "      <th>Attitude</th>\n",
       "      <th>Stavning</th>\n",
       "      <th>Perspektiv</th>\n",
       "      <th>Tekstbånd</th>\n",
       "      <th>Fremstillingsform</th>\n",
       "      <th>Semantisk univers</th>\n",
       "      <th>Holistisk vurdering</th>\n",
       "      <th>Stemmer</th>\n",
       "      <th>book_id</th>\n",
       "      <th>Forbindere</th>\n",
       "      <th>Interjektioner</th>\n",
       "      <th>Metaforbrug</th>\n",
       "      <th>Noter</th>\n",
       "    </tr>\n",
       "  </thead>\n",
       "  <tbody>\n",
       "    <tr>\n",
       "      <th>0</th>\n",
       "      <td>Selvportræt</td>\n",
       "      <td>Bedømmelse positiv</td>\n",
       "      <td>Semifonetisk</td>\n",
       "      <td>Eksplicit fortæller</td>\n",
       "      <td>NaN</td>\n",
       "      <td>Beskrivende</td>\n",
       "      <td>Mennesker</td>\n",
       "      <td>1</td>\n",
       "      <td>En stemme</td>\n",
       "      <td>0</td>\n",
       "      <td>NaN</td>\n",
       "      <td>NaN</td>\n",
       "      <td>NaN</td>\n",
       "      <td>NaN</td>\n",
       "    </tr>\n",
       "    <tr>\n",
       "      <th>1</th>\n",
       "      <td>Rim og remser</td>\n",
       "      <td>NaN</td>\n",
       "      <td>Fonetisk</td>\n",
       "      <td>Implicit fortæller</td>\n",
       "      <td>Semantisk</td>\n",
       "      <td>Beskrivende</td>\n",
       "      <td>Vilde dyr</td>\n",
       "      <td>1</td>\n",
       "      <td>En stemme</td>\n",
       "      <td>1</td>\n",
       "      <td>NaN</td>\n",
       "      <td>NaN</td>\n",
       "      <td>NaN</td>\n",
       "      <td>NaN</td>\n",
       "    </tr>\n",
       "    <tr>\n",
       "      <th>2</th>\n",
       "      <td>NaN</td>\n",
       "      <td>Følelse 1. person</td>\n",
       "      <td>Semifonetisk</td>\n",
       "      <td>Eksplicit fortæller</td>\n",
       "      <td>NaN</td>\n",
       "      <td>Beskrivende</td>\n",
       "      <td>Mig selv</td>\n",
       "      <td>0</td>\n",
       "      <td>En stemme</td>\n",
       "      <td>2</td>\n",
       "      <td>Tilføjelse</td>\n",
       "      <td>NaN</td>\n",
       "      <td>NaN</td>\n",
       "      <td>NaN</td>\n",
       "    </tr>\n",
       "    <tr>\n",
       "      <th>3</th>\n",
       "      <td>Hverdagsbeskrivelse</td>\n",
       "      <td>NaN</td>\n",
       "      <td>Semifonetisk</td>\n",
       "      <td>Implicit fortæller</td>\n",
       "      <td>NaN</td>\n",
       "      <td>Beskrivende</td>\n",
       "      <td>Kæledyr</td>\n",
       "      <td>1</td>\n",
       "      <td>En stemme</td>\n",
       "      <td>3</td>\n",
       "      <td>NaN</td>\n",
       "      <td>NaN</td>\n",
       "      <td>NaN</td>\n",
       "      <td>NaN</td>\n",
       "    </tr>\n",
       "    <tr>\n",
       "      <th>3</th>\n",
       "      <td>Hverdagsbeskrivelse</td>\n",
       "      <td>NaN</td>\n",
       "      <td>Fonetisk</td>\n",
       "      <td>Implicit fortæller</td>\n",
       "      <td>NaN</td>\n",
       "      <td>Beskrivende</td>\n",
       "      <td>Kæledyr</td>\n",
       "      <td>1</td>\n",
       "      <td>En stemme</td>\n",
       "      <td>3</td>\n",
       "      <td>NaN</td>\n",
       "      <td>NaN</td>\n",
       "      <td>NaN</td>\n",
       "      <td>NaN</td>\n",
       "    </tr>\n",
       "  </tbody>\n",
       "</table>\n",
       "</div>"
      ],
      "text/plain": [
       "                 Genre            Attitude      Stavning           Perspektiv  \\\n",
       "0          Selvportræt  Bedømmelse positiv  Semifonetisk  Eksplicit fortæller   \n",
       "1        Rim og remser                 NaN      Fonetisk   Implicit fortæller   \n",
       "2                  NaN   Følelse 1. person  Semifonetisk  Eksplicit fortæller   \n",
       "3  Hverdagsbeskrivelse                 NaN  Semifonetisk   Implicit fortæller   \n",
       "3  Hverdagsbeskrivelse                 NaN      Fonetisk   Implicit fortæller   \n",
       "\n",
       "   Tekstbånd Fremstillingsform Semantisk univers Holistisk vurdering  \\\n",
       "0        NaN       Beskrivende         Mennesker                   1   \n",
       "1  Semantisk       Beskrivende         Vilde dyr                   1   \n",
       "2        NaN       Beskrivende          Mig selv                   0   \n",
       "3        NaN       Beskrivende           Kæledyr                   1   \n",
       "3        NaN       Beskrivende           Kæledyr                   1   \n",
       "\n",
       "     Stemmer  book_id  Forbindere Interjektioner Metaforbrug Noter  \n",
       "0  En stemme        0         NaN            NaN         NaN   NaN  \n",
       "1  En stemme        1         NaN            NaN         NaN   NaN  \n",
       "2  En stemme        2  Tilføjelse            NaN         NaN   NaN  \n",
       "3  En stemme        3         NaN            NaN         NaN   NaN  \n",
       "3  En stemme        3         NaN            NaN         NaN   NaN  "
      ]
     },
     "execution_count": 21,
     "metadata": {},
     "output_type": "execute_result"
    }
   ],
   "source": [
    "ex_book_df.head()"
   ]
  },
  {
   "cell_type": "code",
   "execution_count": 26,
   "id": "66a211be-ad90-4a34-aba1-9f4d27d8b977",
   "metadata": {},
   "outputs": [
    {
     "name": "stderr",
     "output_type": "stream",
     "text": [
      "C:\\Users\\spetr\\AppData\\Local\\Temp\\ipykernel_20136\\1385048511.py:2: SettingWithCopyWarning:\n",
      "\n",
      "\n",
      "A value is trying to be set on a copy of a slice from a DataFrame.\n",
      "Try using .loc[row_indexer,col_indexer] = value instead\n",
      "\n",
      "See the caveats in the documentation: https://pandas.pydata.org/pandas-docs/stable/user_guide/indexing.html#returning-a-view-versus-a-copy\n",
      "\n"
     ]
    }
   ],
   "source": [
    "# Replace \"Vilde dyr \" with \"Vilde dyr\" (space difference)\n",
    "ex_book_df[ex_book_df['Semantisk univers'] == 'Vilde dyr\\xa0']['Semantisk univers'] = 'Vilde dyr'"
   ]
  },
  {
   "cell_type": "markdown",
   "id": "78bc9cca-b2aa-4615-b0e3-f5bf9f337cab",
   "metadata": {},
   "source": [
    "## 2.2 Plot distributions of classification columns"
   ]
  },
  {
   "cell_type": "code",
   "execution_count": 27,
   "id": "2b74e92b-5b24-4707-aa53-5b09402276dd",
   "metadata": {},
   "outputs": [],
   "source": [
    "def plot_distribution(category: str):\n",
    "    px.histogram(ex_book_df[['book_id', category]].drop_duplicates(), x=category)\\\n",
    "      .update_xaxes(categoryorder='total descending').show()"
   ]
  },
  {
   "cell_type": "code",
   "execution_count": 28,
   "id": "c49c431a-7e7c-4202-98a2-6e51533109ad",
   "metadata": {},
   "outputs": [
    {
     "data": {
      "application/vnd.plotly.v1+json": {
       "config": {
        "plotlyServerURL": "https://plot.ly"
       },
       "data": [
        {
         "alignmentgroup": "True",
         "bingroup": "x",
         "hovertemplate": "Genre=%{x}<br>count=%{y}<extra></extra>",
         "legendgroup": "",
         "marker": {
          "color": "#636efa",
          "pattern": {
           "shape": ""
          }
         },
         "name": "",
         "offsetgroup": "",
         "orientation": "v",
         "showlegend": false,
         "type": "histogram",
         "x": [
          "Selvportræt",
          "Rim og remser",
          null,
          "Hverdagsbeskrivelse",
          "Hverdagsbeskrivelse",
          "Særdagsberetning",
          "Hverdagsbeskrivelse",
          "Realistisk fortælling",
          "Fantasifortælling",
          "Hverdagsbeskrivelse",
          "Fantasifortælling",
          "Fantasifortælling",
          "Fantasifortælling",
          "Fagbog",
          "Billedtekster",
          "Realistisk fortælling",
          null,
          "Hverdagsbeskrivelse",
          "Hverdagsbeskrivelse",
          "Særdagsberetning",
          "Fagbog",
          "Hverdagsbeskrivelse",
          "Eventyr",
          "Hverdagsbeskrivelse",
          "Hverdagsbeskrivelse",
          "Hverdagsbeskrivelse",
          "Billedtekster",
          "Hverdagsbeskrivelse",
          "Billedtekster",
          "Særdagsberetning",
          "Fantasifortælling",
          "Fantasifortælling",
          "Hverdagsbeskrivelse",
          "Fagbog",
          "Fagbog",
          "Fagbog",
          "Fagbog",
          "Fantasifortælling",
          "Hverdagsberetning",
          "Hverdagsberetning",
          "Hverdagsbeskrivelse",
          "Hverdagsbeskrivelse",
          "Billedtekster",
          "Hverdagsberetning",
          "Hverdagsbeskrivelse",
          "Hverdagsbeskrivelse",
          "Fantasifortælling",
          "Fantasifortælling",
          "Hverdagsbeskrivelse",
          "Realistisk fortælling",
          "Realistisk fortælling",
          "Realistisk fortælling",
          "Hverdagsbeskrivelse",
          "Gyserfortælling",
          "Billedtekster",
          "Fantasifortælling",
          "Hverdagsbeskrivelse",
          "Realistisk fortælling",
          "Hverdagsbeskrivelse",
          "Fantasifortælling",
          "Fagbog",
          "Fagbog",
          "Fagbog",
          "Fantasifortælling",
          "Hverdagsberetning",
          "Realistisk fortælling",
          "Hverdagsbeskrivelse",
          "Fantasifortælling",
          "Fagbog",
          "Hverdagsberetning",
          "Hverdagsbeskrivelse",
          "Fantasifortælling",
          null,
          "Hverdagsbeskrivelse",
          "Fagbog",
          "Fagbog",
          null,
          "Hverdagsberetning",
          "Hverdagsbeskrivelse",
          "Selvportræt",
          "Billedtekster",
          "Selvportræt",
          "Fagbog",
          "Fantasifortælling",
          "Gyserfortælling",
          "Hverdagsberetning",
          "Gyserfortælling",
          "Realistisk fortælling",
          "Hverdagsberetning",
          "Realistisk fortælling",
          "Fantasifortælling",
          "Fagbog",
          "Hverdagsberetning",
          "Billedtekster",
          "Fagbog",
          "Fagbog",
          "Særdagsberetning",
          "Hverdagsberetning",
          "Billedtekster",
          "Billedtekster",
          "Fagbog",
          "Fagbog",
          "Billedtekster",
          "Fagbog",
          "Billedtekster",
          "Billedtekster",
          "Fagbog",
          "Fagbog",
          "Hverdagsbeskrivelse",
          "Billedtekster",
          "Hverdagsbeskrivelse",
          "Fantasifortælling",
          "Hverdagsbeskrivelse",
          "Ubestemmelig",
          "Fagbog",
          null,
          "Hverdagsbeskrivelse",
          "Fagbog",
          "Hverdagsbeskrivelse",
          "Hverdagsbeskrivelse",
          "Hverdagsbeskrivelse",
          "Billedtekster",
          "Hverdagsbeskrivelse",
          "Fagbog",
          "Hverdagsbeskrivelse",
          "Hverdagsberetning",
          "Billedtekster",
          "Fagbog",
          "Hverdagsberetning",
          "Billedtekster",
          "Synspunkt",
          "Særdagsberetning",
          "Særdagsberetning",
          "Særdagsberetning",
          "Hverdagsbeskrivelse",
          "Fantasifortælling",
          "Selvportræt",
          "Hverdagsbeskrivelse",
          "Hverdagsberetning",
          "Fagbog",
          "Realistisk fortælling",
          "Fantasifortælling",
          null,
          "Fagbog",
          "Billedtekster",
          "Hverdagsbeskrivelse",
          "Synspunkt",
          "Billedtekster",
          "Fantasifortælling",
          "Hverdagsbeskrivelse",
          "Fagbog",
          null,
          "Billedtekster",
          "Billedtekster",
          "Hverdagsbeskrivelse",
          "Hverdagsberetning",
          "Realistisk fortælling",
          null,
          "Hverdagsbeskrivelse",
          "Fantasifortælling",
          "Ubestemmelig",
          "Synspunkt",
          "Ubestemmelig",
          "Synspunkt",
          "Fagbog",
          "Billedtekster",
          "Billedtekster",
          "Synspunkt",
          "Særdagsberetning",
          "Ubestemmelig",
          "Fagbog",
          "Billedtekster",
          "Fagbog",
          "Fagbog",
          "Billedtekster",
          "Realistisk fortælling",
          "Hverdagsbeskrivelse",
          "Billedtekster",
          "Hverdagsbeskrivelse",
          "Fagbog",
          "Fagbog",
          "Fagbog",
          "Billedtekster",
          "Hverdagsberetning",
          "Ubestemmelig",
          "Fagbog",
          "Særdagsberetning",
          "Hverdagsbeskrivelse",
          "Fagbog",
          "Billedtekster",
          "Hverdagsberetning",
          "Billedtekster",
          "Fantasifortælling",
          "Hverdagsbeskrivelse",
          "Billedtekster",
          "Fagbog",
          "Fantasifortælling",
          "Fagbog",
          "Fagbog",
          "Billedtekster",
          "Fagbog",
          "Fagbog",
          "Fagbog",
          "Fagbog",
          "Fagbog",
          "Fagbog",
          "Fagbog",
          "Fagbog",
          "Fagbog",
          "Fagbog",
          "Fantasifortælling",
          "Hverdagsbeskrivelse",
          "Billedtekster",
          "Fagbog",
          "Fagbog",
          null,
          "Fagbog",
          "Billedtekster",
          "Billedtekster",
          "Fantasifortælling",
          "Fagbog",
          "Billedtekster",
          "Billedtekster",
          "Fagbog",
          "Fagbog",
          "Fagbog",
          "Fagbog",
          "Hverdagsberetning",
          "Fagbog",
          "Fagbog",
          "Hverdagsbeskrivelse",
          "Rim og remser",
          "Billedtekster",
          "Billedtekster",
          "Særdagsberetning",
          "Hverdagsbeskrivelse",
          "Billedtekster",
          "Fagbog",
          "Fagbog",
          null,
          "Fagbog",
          "Fagbog",
          "Billedtekster",
          "Fagbog",
          "Billedtekster",
          "Billedtekster",
          "Hverdagsberetning",
          "Fagbog",
          "Ubestemmelig",
          "Særdagsberetning",
          "Fagbog",
          "Ubestemmelig",
          "Ubestemmelig",
          "Fantasifortælling",
          "Særdagsberetning",
          "Gyserfortælling",
          "Billedtekster",
          "Fantasifortælling",
          "Realistisk fortælling",
          "Fantasifortælling",
          "Fantasifortælling",
          "Hverdagsbeskrivelse",
          "Særdagsberetning",
          "Særdagsberetning",
          "Hverdagsbeskrivelse",
          "Ubestemmelig",
          "Hverdagsbeskrivelse",
          "Hverdagsberetning",
          "Realistisk fortælling",
          "Særdagsberetning",
          "Hverdagsbeskrivelse",
          "Hverdagsbeskrivelse",
          "Fagbog",
          "Billedtekster",
          "Ubestemmelig",
          "Billedtekster",
          "Billedtekster",
          "Billedtekster",
          "Mit kæledyr",
          "Hverdagsbeskrivelse",
          "Hverdagsbeskrivelse",
          "Billedtekster",
          "Mit kæledyr",
          "Realistisk fortælling",
          "Fagbog",
          "Billedtekster",
          "Selvportræt",
          "Billedtekster",
          "Anmeldelse",
          "Hverdagsberetning",
          "Billedtekster",
          "Synspunkt",
          "Fantasifortælling",
          "Hverdagsbeskrivelse",
          "Hverdagsbeskrivelse",
          "Billedtekster",
          "Hverdagsbeskrivelse",
          "Hverdagsbeskrivelse",
          "Hverdagsbeskrivelse",
          "Fagbog",
          "Hverdagsbeskrivelse",
          "Synspunkt",
          "Fagbog",
          "Fagbog",
          "Fantasifortælling",
          "Fagbog",
          "Fantasifortælling",
          "Billedtekster",
          "Fantasifortælling",
          "Billedtekster",
          "Fagbog",
          "Fagbog",
          "Billedtekster",
          "Fagbog",
          null,
          "Ubestemmelig",
          "Fantasifortælling",
          "Hverdagsbeskrivelse",
          "Hverdagsberetning",
          "Eventyr",
          "Fantasifortælling",
          "Særdagsberetning",
          "Særdagsberetning",
          "Særdagsberetning",
          "Fantasifortælling",
          "Særdagsberetning",
          "Særdagsberetning",
          "Mit kæledyr",
          "Særdagsberetning",
          "Fagbog",
          "Særdagsberetning",
          "Realistisk fortælling",
          "Billedtekster",
          "Fantasifortælling",
          "Fantasifortælling",
          "Hverdagsberetning",
          "Billedtekster",
          "Billedtekster",
          "Fagbog",
          "Fantasifortælling",
          "Billedtekster",
          "Billedtekster",
          "Selvportræt",
          "Fagbog",
          "Mit kæledyr",
          "Selvportræt",
          "Selvportræt",
          "Hverdagsbeskrivelse",
          "Hverdagsbeskrivelse",
          "Hverdagsbeskrivelse",
          "Fantasifortælling",
          "Fagbog",
          "Billedtekster",
          "Synspunkt",
          "Billedtekster",
          "Synspunkt",
          "Fagbog",
          "Særdagsberetning",
          "Fagbog",
          "Fagbog",
          "Fagbog",
          "Ubestemmelig",
          "Hverdagsbeskrivelse",
          "Fagbog",
          "Ubestemmelig",
          "Fagbog",
          "Fagbog",
          "Billedtekster",
          "Billedtekster",
          "Fagbog",
          "Billedtekster",
          null,
          "Eventyr",
          "Hverdagsbeskrivelse",
          "Anmeldelse",
          "Ubestemmelig",
          null,
          "Selvportræt",
          "Fagbog",
          "Fagbog",
          "Ubestemmelig",
          "Billedtekster",
          "Fantasifortælling",
          "Hverdagsbeskrivelse",
          "Hverdagsbeskrivelse",
          "Selvportræt",
          "Billedtekster",
          "Rim og remser",
          "Billedtekster",
          "Rim og remser",
          "Hverdagsberetning",
          "Rim og remser",
          "Rim og remser",
          "Hverdagsbeskrivelse",
          "Billedtekster",
          "Hverdagsberetning",
          "Billedtekster",
          "Mit kæledyr",
          "Mit kæledyr",
          "Realistisk fortælling",
          "Fagbog",
          "Billedtekster",
          "Hverdagsbeskrivelse",
          "Hverdagsberetning",
          "Fagbog",
          "Fantasifortælling",
          "Fagbog",
          "Synspunkt",
          "Fagbog",
          "Fantasifortælling",
          "Fantasifortælling",
          "Billedtekster",
          "Fagbog",
          "Hverdagsbeskrivelse",
          "Ubestemmelig",
          "Fagbog",
          "Hverdagsbeskrivelse",
          "Fagbog",
          "Særdagsberetning",
          "Hverdagsbeskrivelse",
          "Mit kæledyr",
          "Fantasifortælling",
          "Fagbog",
          "Hverdagsbeskrivelse",
          "Hverdagsbeskrivelse",
          "Hverdagsbeskrivelse",
          "Hverdagsbeskrivelse",
          "Særdagsberetning",
          "Fagbog",
          "Fagbog",
          "Fagbog",
          "Mit kæledyr",
          "Hverdagsbeskrivelse",
          "Hverdagsbeskrivelse",
          "Fantasifortælling",
          "Hverdagsbeskrivelse",
          "Eventyr",
          "Ubestemmelig",
          "Hverdagsbeskrivelse",
          "Ubestemmelig",
          "Ubestemmelig",
          "Realistisk fortælling",
          "Særdagsberetning",
          "Realistisk fortælling",
          "Særdagsberetning",
          "Hverdagsberetning",
          "Selvportræt",
          "Hverdagsbeskrivelse",
          "Særdagsberetning",
          "Hverdagsbeskrivelse",
          "Hverdagsberetning",
          "Hverdagsbeskrivelse",
          "Synspunkt",
          "Realistisk fortælling",
          "Særdagsberetning",
          "Gyserfortælling",
          "Fantasifortælling",
          "Billedtekster",
          "Realistisk fortælling",
          "Fantasifortælling",
          "Realistisk fortælling",
          "Realistisk fortælling",
          "Fantasifortælling",
          "Særdagsberetning",
          "Billedtekster",
          "Hverdagsbeskrivelse",
          "Særdagsberetning",
          "Gyserfortælling",
          "Fantasifortælling",
          "Hverdagsberetning",
          "Gyserfortælling",
          "Hverdagsbeskrivelse",
          "Billedtekster",
          "Fagbog",
          "Særdagsberetning",
          "Hverdagsberetning",
          "Hverdagsbeskrivelse",
          "Hverdagsbeskrivelse",
          "Hverdagsberetning",
          "Fagbog",
          "Fantasifortælling",
          "Hverdagsbeskrivelse",
          "Hverdagsbeskrivelse",
          "Hverdagsbeskrivelse",
          "Eventyr",
          "Fantasifortælling",
          "Fantasifortælling",
          "Hverdagsbeskrivelse",
          "Fagbog",
          "Fagbog",
          "Hverdagsbeskrivelse",
          "Fagbog",
          "Hverdagsbeskrivelse",
          "Billedtekster",
          "Anmeldelse",
          "Ubestemmelig",
          "Fagbog",
          "Fagbog",
          "Fagbog",
          "Hverdagsbeskrivelse",
          "Hverdagsbeskrivelse",
          "Ubestemmelig",
          "Hverdagsbeskrivelse",
          "Hverdagsberetning",
          "Hverdagsbeskrivelse",
          "Anmeldelse",
          "Hverdagsberetning",
          "Fantasifortælling",
          "Fantasifortælling",
          "Hverdagsbeskrivelse",
          "Særdagsberetning",
          "Fantasifortælling",
          "Billedtekster",
          "Billedtekster",
          "Anmeldelse",
          "Særdagsberetning",
          "Særdagsberetning",
          "Særdagsberetning",
          "Hverdagsberetning",
          "Mit kæledyr",
          "Hverdagsberetning",
          "Hverdagsberetning",
          "Hverdagsberetning",
          "Fantasifortælling",
          "Realistisk fortælling",
          "Gyserfortælling",
          "Fagbog",
          "Fantasifortælling",
          "Realistisk fortælling",
          "Realistisk fortælling",
          "Realistisk fortælling",
          "Fantasifortælling",
          "Fantasifortælling",
          "Realistisk fortælling",
          "Anmeldelse",
          "Realistisk fortælling",
          "Fagbog",
          "Fagbog",
          "Billedtekster",
          "Fagbog",
          "Hverdagsbeskrivelse",
          "Fagbog",
          "Anmeldelse",
          "Særdagsberetning",
          "Særdagsberetning",
          "Anmeldelse",
          "Særdagsberetning",
          "Fagbog",
          "Billedtekster",
          "Hverdagsberetning",
          "Fagbog",
          "Fagbog",
          "Rim og remser",
          "Særdagsberetning",
          "Særdagsberetning",
          "Særdagsberetning",
          "Fagbog",
          "Hverdagsbeskrivelse",
          "Særdagsberetning",
          "Fantasifortælling",
          "Hverdagsberetning",
          "Billedtekster",
          "Eventyr",
          "Selvportræt",
          "Fantasifortælling",
          "Fagbog",
          "Fagbog",
          "Fagbog",
          "Synspunkt",
          "Fagbog",
          "Hverdagsberetning",
          "Fagbog",
          "Eventyr",
          "Særdagsberetning",
          "Hverdagsbeskrivelse",
          "Hverdagsbeskrivelse",
          "Billedtekster",
          "Fagbog",
          "Hverdagsberetning",
          "Særdagsberetning",
          "Billedtekster",
          "Hverdagsberetning",
          "Hverdagsberetning",
          "Hverdagsberetning",
          "Fantasifortælling",
          "Fantasifortælling",
          "Fantasifortælling",
          "Hverdagsbeskrivelse",
          "Billedtekster",
          "Fagbog",
          "Billedtekster",
          "Fagbog",
          "Billedtekster",
          "Fagbog",
          "Særdagsberetning",
          "Hverdagsbeskrivelse",
          "Fantasifortælling",
          "Særdagsberetning",
          "Fagbog",
          "Selvportræt",
          "Rim og remser",
          "Særdagsberetning",
          "Realistisk fortælling",
          "Særdagsberetning",
          "Hverdagsbeskrivelse",
          "Eventyr",
          "Billedtekster",
          "Billedtekster",
          "Hverdagsbeskrivelse",
          "Billedtekster",
          "Hverdagsbeskrivelse",
          null,
          "Billedtekster",
          "Særdagsberetning",
          "Hverdagsberetning",
          "Fagbog",
          "Synspunkt",
          "Fagbog",
          "Fantasifortælling",
          "Ubestemmelig",
          "Hverdagsbeskrivelse",
          "Realistisk fortælling",
          "Fantasifortælling",
          "Hverdagsbeskrivelse",
          "Fagbog",
          "Hverdagsberetning",
          "Fantasifortælling",
          "Fantasifortælling",
          "Gyserfortælling",
          "Fagbog",
          "Hverdagsbeskrivelse",
          "Fagbog",
          "Ubestemmelig",
          "Fantasifortælling",
          "Realistisk fortælling",
          "Realistisk fortælling",
          "Ubestemmelig",
          "Gyserfortælling",
          "Fantasifortælling",
          "Fagbog",
          "Synspunkt",
          "Hverdagsbeskrivelse",
          "Fagbog",
          "Billedtekster",
          "Fagbog",
          "Ubestemmelig",
          "Fagbog",
          "Fagbog",
          "Fagbog",
          "Ubestemmelig",
          "Særdagsberetning",
          "Synspunkt",
          "Fagbog",
          "Realistisk fortælling",
          "Billedtekster",
          "Hverdagsbeskrivelse",
          "Fagbog",
          "Fagbog",
          "Synspunkt",
          "Eventyr",
          "Særdagsberetning",
          "Eventyr",
          "Fagbog",
          "Realistisk fortælling",
          "Fagbog",
          "Fagbog",
          "Ubestemmelig",
          "Rim og remser",
          "Hverdagsbeskrivelse",
          "Fagbog",
          "Fagbog",
          "Hverdagsberetning",
          "Fagbog",
          "Fagbog",
          "Hverdagsbeskrivelse",
          "Fagbog",
          "Fagbog",
          "Gyserfortælling",
          "Mit kæledyr",
          "Fagbog",
          "Hverdagsbeskrivelse",
          "Ubestemmelig",
          "Billedtekster",
          "Anmeldelse",
          "Særdagsberetning",
          "Hverdagsbeskrivelse",
          "Rim og remser",
          "Særdagsberetning",
          "Mit kæledyr",
          "Rim og remser",
          "Hverdagsberetning",
          "Særdagsberetning",
          "Rim og remser",
          "Eventyr",
          "Eventyr",
          "Eventyr",
          "Eventyr",
          "Eventyr",
          "Særdagsberetning",
          "Fantasifortælling",
          "Eventyr",
          "Eventyr",
          "Rim og remser",
          "Fantasifortælling",
          null,
          "Fantasifortælling",
          "Fantasifortælling",
          "Hverdagsbeskrivelse",
          "Fantasifortælling",
          "Ubestemmelig",
          "Synspunkt",
          "Billedtekster",
          "Hverdagsberetning",
          "Fagbog",
          "Realistisk fortælling",
          "Anmeldelse",
          "Billedtekster",
          "Fantasifortælling",
          "Fantasifortælling",
          "Hverdagsbeskrivelse",
          "Fagbog",
          "Hverdagsbeskrivelse",
          "Hverdagsbeskrivelse",
          "Særdagsberetning",
          "Særdagsberetning",
          "Fagbog",
          "Fagbog",
          "Fagbog",
          "Hverdagsbeskrivelse",
          "Realistisk fortælling",
          "Realistisk fortælling",
          "Særdagsberetning",
          "Hverdagsbeskrivelse",
          "Hverdagsbeskrivelse",
          "Selvportræt",
          "Fagbog",
          "Fantasifortælling",
          "Realistisk fortælling",
          "Billedtekster",
          "Ubestemmelig",
          "Fagbog",
          "Hverdagsbeskrivelse",
          "Hverdagsberetning",
          "Fagbog",
          "Fagbog",
          "Synspunkt",
          "Særdagsberetning",
          "Synspunkt",
          "Fagbog",
          "Ubestemmelig",
          "Selvportræt",
          "Fagbog",
          "Fagbog",
          "Fantasifortælling",
          "Fantasifortælling",
          "Realistisk fortælling",
          "Billedtekster",
          "Synspunkt",
          "Fantasifortælling",
          "Fagbog",
          "Fagbog",
          "Fagbog",
          "Billedtekster",
          "Hverdagsbeskrivelse",
          "Synspunkt",
          "Synspunkt",
          "Fagbog",
          "Fagbog",
          "Hverdagsbeskrivelse",
          "Fantasifortælling",
          "Hverdagsbeskrivelse",
          "Fagbog",
          "Fagbog",
          "Fagbog",
          "Fagbog",
          "Hverdagsbeskrivelse",
          "Hverdagsbeskrivelse",
          "Fagbog",
          "Billedtekster",
          "Realistisk fortælling",
          "Realistisk fortælling",
          "Hverdagsbeskrivelse",
          "Hverdagsberetning",
          "Realistisk fortælling",
          "Billedtekster",
          "Hverdagsberetning",
          "Hverdagsbeskrivelse",
          "Hverdagsbeskrivelse",
          "Fagbog",
          "Billedtekster",
          "Hverdagsbeskrivelse",
          "Fagbog",
          "Eventyr",
          "Billedtekster",
          "Hverdagsberetning",
          "Særdagsberetning",
          "Hverdagsbeskrivelse",
          "Billedtekster",
          "Realistisk fortælling",
          "Hverdagsbeskrivelse",
          "Hverdagsbeskrivelse",
          "Hverdagsbeskrivelse",
          "Rim og remser",
          "Fagbog",
          "Særdagsberetning",
          "Hverdagsbeskrivelse",
          "Hverdagsbeskrivelse",
          "Hverdagsberetning"
         ],
         "xaxis": "x",
         "yaxis": "y"
        }
       ],
       "layout": {
        "barmode": "relative",
        "legend": {
         "tracegroupgap": 0
        },
        "margin": {
         "t": 60
        },
        "template": {
         "data": {
          "bar": [
           {
            "error_x": {
             "color": "#2a3f5f"
            },
            "error_y": {
             "color": "#2a3f5f"
            },
            "marker": {
             "line": {
              "color": "#E5ECF6",
              "width": 0.5
             },
             "pattern": {
              "fillmode": "overlay",
              "size": 10,
              "solidity": 0.2
             }
            },
            "type": "bar"
           }
          ],
          "barpolar": [
           {
            "marker": {
             "line": {
              "color": "#E5ECF6",
              "width": 0.5
             },
             "pattern": {
              "fillmode": "overlay",
              "size": 10,
              "solidity": 0.2
             }
            },
            "type": "barpolar"
           }
          ],
          "carpet": [
           {
            "aaxis": {
             "endlinecolor": "#2a3f5f",
             "gridcolor": "white",
             "linecolor": "white",
             "minorgridcolor": "white",
             "startlinecolor": "#2a3f5f"
            },
            "baxis": {
             "endlinecolor": "#2a3f5f",
             "gridcolor": "white",
             "linecolor": "white",
             "minorgridcolor": "white",
             "startlinecolor": "#2a3f5f"
            },
            "type": "carpet"
           }
          ],
          "choropleth": [
           {
            "colorbar": {
             "outlinewidth": 0,
             "ticks": ""
            },
            "type": "choropleth"
           }
          ],
          "contour": [
           {
            "colorbar": {
             "outlinewidth": 0,
             "ticks": ""
            },
            "colorscale": [
             [
              0,
              "#0d0887"
             ],
             [
              0.1111111111111111,
              "#46039f"
             ],
             [
              0.2222222222222222,
              "#7201a8"
             ],
             [
              0.3333333333333333,
              "#9c179e"
             ],
             [
              0.4444444444444444,
              "#bd3786"
             ],
             [
              0.5555555555555556,
              "#d8576b"
             ],
             [
              0.6666666666666666,
              "#ed7953"
             ],
             [
              0.7777777777777778,
              "#fb9f3a"
             ],
             [
              0.8888888888888888,
              "#fdca26"
             ],
             [
              1,
              "#f0f921"
             ]
            ],
            "type": "contour"
           }
          ],
          "contourcarpet": [
           {
            "colorbar": {
             "outlinewidth": 0,
             "ticks": ""
            },
            "type": "contourcarpet"
           }
          ],
          "heatmap": [
           {
            "colorbar": {
             "outlinewidth": 0,
             "ticks": ""
            },
            "colorscale": [
             [
              0,
              "#0d0887"
             ],
             [
              0.1111111111111111,
              "#46039f"
             ],
             [
              0.2222222222222222,
              "#7201a8"
             ],
             [
              0.3333333333333333,
              "#9c179e"
             ],
             [
              0.4444444444444444,
              "#bd3786"
             ],
             [
              0.5555555555555556,
              "#d8576b"
             ],
             [
              0.6666666666666666,
              "#ed7953"
             ],
             [
              0.7777777777777778,
              "#fb9f3a"
             ],
             [
              0.8888888888888888,
              "#fdca26"
             ],
             [
              1,
              "#f0f921"
             ]
            ],
            "type": "heatmap"
           }
          ],
          "heatmapgl": [
           {
            "colorbar": {
             "outlinewidth": 0,
             "ticks": ""
            },
            "colorscale": [
             [
              0,
              "#0d0887"
             ],
             [
              0.1111111111111111,
              "#46039f"
             ],
             [
              0.2222222222222222,
              "#7201a8"
             ],
             [
              0.3333333333333333,
              "#9c179e"
             ],
             [
              0.4444444444444444,
              "#bd3786"
             ],
             [
              0.5555555555555556,
              "#d8576b"
             ],
             [
              0.6666666666666666,
              "#ed7953"
             ],
             [
              0.7777777777777778,
              "#fb9f3a"
             ],
             [
              0.8888888888888888,
              "#fdca26"
             ],
             [
              1,
              "#f0f921"
             ]
            ],
            "type": "heatmapgl"
           }
          ],
          "histogram": [
           {
            "marker": {
             "pattern": {
              "fillmode": "overlay",
              "size": 10,
              "solidity": 0.2
             }
            },
            "type": "histogram"
           }
          ],
          "histogram2d": [
           {
            "colorbar": {
             "outlinewidth": 0,
             "ticks": ""
            },
            "colorscale": [
             [
              0,
              "#0d0887"
             ],
             [
              0.1111111111111111,
              "#46039f"
             ],
             [
              0.2222222222222222,
              "#7201a8"
             ],
             [
              0.3333333333333333,
              "#9c179e"
             ],
             [
              0.4444444444444444,
              "#bd3786"
             ],
             [
              0.5555555555555556,
              "#d8576b"
             ],
             [
              0.6666666666666666,
              "#ed7953"
             ],
             [
              0.7777777777777778,
              "#fb9f3a"
             ],
             [
              0.8888888888888888,
              "#fdca26"
             ],
             [
              1,
              "#f0f921"
             ]
            ],
            "type": "histogram2d"
           }
          ],
          "histogram2dcontour": [
           {
            "colorbar": {
             "outlinewidth": 0,
             "ticks": ""
            },
            "colorscale": [
             [
              0,
              "#0d0887"
             ],
             [
              0.1111111111111111,
              "#46039f"
             ],
             [
              0.2222222222222222,
              "#7201a8"
             ],
             [
              0.3333333333333333,
              "#9c179e"
             ],
             [
              0.4444444444444444,
              "#bd3786"
             ],
             [
              0.5555555555555556,
              "#d8576b"
             ],
             [
              0.6666666666666666,
              "#ed7953"
             ],
             [
              0.7777777777777778,
              "#fb9f3a"
             ],
             [
              0.8888888888888888,
              "#fdca26"
             ],
             [
              1,
              "#f0f921"
             ]
            ],
            "type": "histogram2dcontour"
           }
          ],
          "mesh3d": [
           {
            "colorbar": {
             "outlinewidth": 0,
             "ticks": ""
            },
            "type": "mesh3d"
           }
          ],
          "parcoords": [
           {
            "line": {
             "colorbar": {
              "outlinewidth": 0,
              "ticks": ""
             }
            },
            "type": "parcoords"
           }
          ],
          "pie": [
           {
            "automargin": true,
            "type": "pie"
           }
          ],
          "scatter": [
           {
            "fillpattern": {
             "fillmode": "overlay",
             "size": 10,
             "solidity": 0.2
            },
            "type": "scatter"
           }
          ],
          "scatter3d": [
           {
            "line": {
             "colorbar": {
              "outlinewidth": 0,
              "ticks": ""
             }
            },
            "marker": {
             "colorbar": {
              "outlinewidth": 0,
              "ticks": ""
             }
            },
            "type": "scatter3d"
           }
          ],
          "scattercarpet": [
           {
            "marker": {
             "colorbar": {
              "outlinewidth": 0,
              "ticks": ""
             }
            },
            "type": "scattercarpet"
           }
          ],
          "scattergeo": [
           {
            "marker": {
             "colorbar": {
              "outlinewidth": 0,
              "ticks": ""
             }
            },
            "type": "scattergeo"
           }
          ],
          "scattergl": [
           {
            "marker": {
             "colorbar": {
              "outlinewidth": 0,
              "ticks": ""
             }
            },
            "type": "scattergl"
           }
          ],
          "scattermapbox": [
           {
            "marker": {
             "colorbar": {
              "outlinewidth": 0,
              "ticks": ""
             }
            },
            "type": "scattermapbox"
           }
          ],
          "scatterpolar": [
           {
            "marker": {
             "colorbar": {
              "outlinewidth": 0,
              "ticks": ""
             }
            },
            "type": "scatterpolar"
           }
          ],
          "scatterpolargl": [
           {
            "marker": {
             "colorbar": {
              "outlinewidth": 0,
              "ticks": ""
             }
            },
            "type": "scatterpolargl"
           }
          ],
          "scatterternary": [
           {
            "marker": {
             "colorbar": {
              "outlinewidth": 0,
              "ticks": ""
             }
            },
            "type": "scatterternary"
           }
          ],
          "surface": [
           {
            "colorbar": {
             "outlinewidth": 0,
             "ticks": ""
            },
            "colorscale": [
             [
              0,
              "#0d0887"
             ],
             [
              0.1111111111111111,
              "#46039f"
             ],
             [
              0.2222222222222222,
              "#7201a8"
             ],
             [
              0.3333333333333333,
              "#9c179e"
             ],
             [
              0.4444444444444444,
              "#bd3786"
             ],
             [
              0.5555555555555556,
              "#d8576b"
             ],
             [
              0.6666666666666666,
              "#ed7953"
             ],
             [
              0.7777777777777778,
              "#fb9f3a"
             ],
             [
              0.8888888888888888,
              "#fdca26"
             ],
             [
              1,
              "#f0f921"
             ]
            ],
            "type": "surface"
           }
          ],
          "table": [
           {
            "cells": {
             "fill": {
              "color": "#EBF0F8"
             },
             "line": {
              "color": "white"
             }
            },
            "header": {
             "fill": {
              "color": "#C8D4E3"
             },
             "line": {
              "color": "white"
             }
            },
            "type": "table"
           }
          ]
         },
         "layout": {
          "annotationdefaults": {
           "arrowcolor": "#2a3f5f",
           "arrowhead": 0,
           "arrowwidth": 1
          },
          "autotypenumbers": "strict",
          "coloraxis": {
           "colorbar": {
            "outlinewidth": 0,
            "ticks": ""
           }
          },
          "colorscale": {
           "diverging": [
            [
             0,
             "#8e0152"
            ],
            [
             0.1,
             "#c51b7d"
            ],
            [
             0.2,
             "#de77ae"
            ],
            [
             0.3,
             "#f1b6da"
            ],
            [
             0.4,
             "#fde0ef"
            ],
            [
             0.5,
             "#f7f7f7"
            ],
            [
             0.6,
             "#e6f5d0"
            ],
            [
             0.7,
             "#b8e186"
            ],
            [
             0.8,
             "#7fbc41"
            ],
            [
             0.9,
             "#4d9221"
            ],
            [
             1,
             "#276419"
            ]
           ],
           "sequential": [
            [
             0,
             "#0d0887"
            ],
            [
             0.1111111111111111,
             "#46039f"
            ],
            [
             0.2222222222222222,
             "#7201a8"
            ],
            [
             0.3333333333333333,
             "#9c179e"
            ],
            [
             0.4444444444444444,
             "#bd3786"
            ],
            [
             0.5555555555555556,
             "#d8576b"
            ],
            [
             0.6666666666666666,
             "#ed7953"
            ],
            [
             0.7777777777777778,
             "#fb9f3a"
            ],
            [
             0.8888888888888888,
             "#fdca26"
            ],
            [
             1,
             "#f0f921"
            ]
           ],
           "sequentialminus": [
            [
             0,
             "#0d0887"
            ],
            [
             0.1111111111111111,
             "#46039f"
            ],
            [
             0.2222222222222222,
             "#7201a8"
            ],
            [
             0.3333333333333333,
             "#9c179e"
            ],
            [
             0.4444444444444444,
             "#bd3786"
            ],
            [
             0.5555555555555556,
             "#d8576b"
            ],
            [
             0.6666666666666666,
             "#ed7953"
            ],
            [
             0.7777777777777778,
             "#fb9f3a"
            ],
            [
             0.8888888888888888,
             "#fdca26"
            ],
            [
             1,
             "#f0f921"
            ]
           ]
          },
          "colorway": [
           "#636efa",
           "#EF553B",
           "#00cc96",
           "#ab63fa",
           "#FFA15A",
           "#19d3f3",
           "#FF6692",
           "#B6E880",
           "#FF97FF",
           "#FECB52"
          ],
          "font": {
           "color": "#2a3f5f"
          },
          "geo": {
           "bgcolor": "white",
           "lakecolor": "white",
           "landcolor": "#E5ECF6",
           "showlakes": true,
           "showland": true,
           "subunitcolor": "white"
          },
          "hoverlabel": {
           "align": "left"
          },
          "hovermode": "closest",
          "mapbox": {
           "style": "light"
          },
          "paper_bgcolor": "white",
          "plot_bgcolor": "#E5ECF6",
          "polar": {
           "angularaxis": {
            "gridcolor": "white",
            "linecolor": "white",
            "ticks": ""
           },
           "bgcolor": "#E5ECF6",
           "radialaxis": {
            "gridcolor": "white",
            "linecolor": "white",
            "ticks": ""
           }
          },
          "scene": {
           "xaxis": {
            "backgroundcolor": "#E5ECF6",
            "gridcolor": "white",
            "gridwidth": 2,
            "linecolor": "white",
            "showbackground": true,
            "ticks": "",
            "zerolinecolor": "white"
           },
           "yaxis": {
            "backgroundcolor": "#E5ECF6",
            "gridcolor": "white",
            "gridwidth": 2,
            "linecolor": "white",
            "showbackground": true,
            "ticks": "",
            "zerolinecolor": "white"
           },
           "zaxis": {
            "backgroundcolor": "#E5ECF6",
            "gridcolor": "white",
            "gridwidth": 2,
            "linecolor": "white",
            "showbackground": true,
            "ticks": "",
            "zerolinecolor": "white"
           }
          },
          "shapedefaults": {
           "line": {
            "color": "#2a3f5f"
           }
          },
          "ternary": {
           "aaxis": {
            "gridcolor": "white",
            "linecolor": "white",
            "ticks": ""
           },
           "baxis": {
            "gridcolor": "white",
            "linecolor": "white",
            "ticks": ""
           },
           "bgcolor": "#E5ECF6",
           "caxis": {
            "gridcolor": "white",
            "linecolor": "white",
            "ticks": ""
           }
          },
          "title": {
           "x": 0.05
          },
          "xaxis": {
           "automargin": true,
           "gridcolor": "white",
           "linecolor": "white",
           "ticks": "",
           "title": {
            "standoff": 15
           },
           "zerolinecolor": "white",
           "zerolinewidth": 2
          },
          "yaxis": {
           "automargin": true,
           "gridcolor": "white",
           "linecolor": "white",
           "ticks": "",
           "title": {
            "standoff": 15
           },
           "zerolinecolor": "white",
           "zerolinewidth": 2
          }
         }
        },
        "xaxis": {
         "anchor": "y",
         "categoryorder": "total descending",
         "domain": [
          0,
          1
         ],
         "title": {
          "text": "Genre"
         }
        },
        "yaxis": {
         "anchor": "x",
         "domain": [
          0,
          1
         ],
         "title": {
          "text": "count"
         }
        }
       }
      },
      "text/html": [
       "<div>                            <div id=\"16b3ee11-e6b0-4454-ba9c-481292b06a4f\" class=\"plotly-graph-div\" style=\"height:525px; width:100%;\"></div>            <script type=\"text/javascript\">                require([\"plotly\"], function(Plotly) {                    window.PLOTLYENV=window.PLOTLYENV || {};                                    if (document.getElementById(\"16b3ee11-e6b0-4454-ba9c-481292b06a4f\")) {                    Plotly.newPlot(                        \"16b3ee11-e6b0-4454-ba9c-481292b06a4f\",                        [{\"alignmentgroup\":\"True\",\"bingroup\":\"x\",\"hovertemplate\":\"Genre=%{x}<br>count=%{y}<extra></extra>\",\"legendgroup\":\"\",\"marker\":{\"color\":\"#636efa\",\"pattern\":{\"shape\":\"\"}},\"name\":\"\",\"offsetgroup\":\"\",\"orientation\":\"v\",\"showlegend\":false,\"x\":[\"Selvportr\\u00e6t\",\"Rim og remser\",null,\"Hverdagsbeskrivelse\",\"Hverdagsbeskrivelse\",\"S\\u00e6rdagsberetning\",\"Hverdagsbeskrivelse\",\"Realistisk fort\\u00e6lling\",\"Fantasifort\\u00e6lling\",\"Hverdagsbeskrivelse\",\"Fantasifort\\u00e6lling\",\"Fantasifort\\u00e6lling\",\"Fantasifort\\u00e6lling\",\"Fagbog\",\"Billedtekster\",\"Realistisk fort\\u00e6lling\",null,\"Hverdagsbeskrivelse\",\"Hverdagsbeskrivelse\",\"S\\u00e6rdagsberetning\",\"Fagbog\",\"Hverdagsbeskrivelse\",\"Eventyr\",\"Hverdagsbeskrivelse\",\"Hverdagsbeskrivelse\",\"Hverdagsbeskrivelse\",\"Billedtekster\",\"Hverdagsbeskrivelse\",\"Billedtekster\",\"S\\u00e6rdagsberetning\",\"Fantasifort\\u00e6lling\",\"Fantasifort\\u00e6lling\",\"Hverdagsbeskrivelse\",\"Fagbog\",\"Fagbog\",\"Fagbog\",\"Fagbog\",\"Fantasifort\\u00e6lling\",\"Hverdagsberetning\",\"Hverdagsberetning\",\"Hverdagsbeskrivelse\",\"Hverdagsbeskrivelse\",\"Billedtekster\",\"Hverdagsberetning\",\"Hverdagsbeskrivelse\",\"Hverdagsbeskrivelse\",\"Fantasifort\\u00e6lling\",\"Fantasifort\\u00e6lling\",\"Hverdagsbeskrivelse\",\"Realistisk fort\\u00e6lling\",\"Realistisk fort\\u00e6lling\",\"Realistisk fort\\u00e6lling\",\"Hverdagsbeskrivelse\",\"Gyserfort\\u00e6lling\",\"Billedtekster\",\"Fantasifort\\u00e6lling\",\"Hverdagsbeskrivelse\",\"Realistisk fort\\u00e6lling\",\"Hverdagsbeskrivelse\",\"Fantasifort\\u00e6lling\",\"Fagbog\",\"Fagbog\",\"Fagbog\",\"Fantasifort\\u00e6lling\",\"Hverdagsberetning\",\"Realistisk fort\\u00e6lling\",\"Hverdagsbeskrivelse\",\"Fantasifort\\u00e6lling\",\"Fagbog\",\"Hverdagsberetning\",\"Hverdagsbeskrivelse\",\"Fantasifort\\u00e6lling\",null,\"Hverdagsbeskrivelse\",\"Fagbog\",\"Fagbog\",null,\"Hverdagsberetning\",\"Hverdagsbeskrivelse\",\"Selvportr\\u00e6t\",\"Billedtekster\",\"Selvportr\\u00e6t\",\"Fagbog\",\"Fantasifort\\u00e6lling\",\"Gyserfort\\u00e6lling\",\"Hverdagsberetning\",\"Gyserfort\\u00e6lling\",\"Realistisk fort\\u00e6lling\",\"Hverdagsberetning\",\"Realistisk fort\\u00e6lling\",\"Fantasifort\\u00e6lling\",\"Fagbog\",\"Hverdagsberetning\",\"Billedtekster\",\"Fagbog\",\"Fagbog\",\"S\\u00e6rdagsberetning\",\"Hverdagsberetning\",\"Billedtekster\",\"Billedtekster\",\"Fagbog\",\"Fagbog\",\"Billedtekster\",\"Fagbog\",\"Billedtekster\",\"Billedtekster\",\"Fagbog\",\"Fagbog\",\"Hverdagsbeskrivelse\",\"Billedtekster\",\"Hverdagsbeskrivelse\",\"Fantasifort\\u00e6lling\",\"Hverdagsbeskrivelse\",\"Ubestemmelig\",\"Fagbog\",null,\"Hverdagsbeskrivelse\",\"Fagbog\",\"Hverdagsbeskrivelse\",\"Hverdagsbeskrivelse\",\"Hverdagsbeskrivelse\",\"Billedtekster\",\"Hverdagsbeskrivelse\",\"Fagbog\",\"Hverdagsbeskrivelse\",\"Hverdagsberetning\",\"Billedtekster\",\"Fagbog\",\"Hverdagsberetning\",\"Billedtekster\",\"Synspunkt\",\"S\\u00e6rdagsberetning\",\"S\\u00e6rdagsberetning\",\"S\\u00e6rdagsberetning\",\"Hverdagsbeskrivelse\",\"Fantasifort\\u00e6lling\",\"Selvportr\\u00e6t\",\"Hverdagsbeskrivelse\",\"Hverdagsberetning\",\"Fagbog\",\"Realistisk fort\\u00e6lling\",\"Fantasifort\\u00e6lling\",null,\"Fagbog\",\"Billedtekster\",\"Hverdagsbeskrivelse\",\"Synspunkt\",\"Billedtekster\",\"Fantasifort\\u00e6lling\",\"Hverdagsbeskrivelse\",\"Fagbog\",null,\"Billedtekster\",\"Billedtekster\",\"Hverdagsbeskrivelse\",\"Hverdagsberetning\",\"Realistisk fort\\u00e6lling\",null,\"Hverdagsbeskrivelse\",\"Fantasifort\\u00e6lling\",\"Ubestemmelig\",\"Synspunkt\",\"Ubestemmelig\",\"Synspunkt\",\"Fagbog\",\"Billedtekster\",\"Billedtekster\",\"Synspunkt\",\"S\\u00e6rdagsberetning\",\"Ubestemmelig\",\"Fagbog\",\"Billedtekster\",\"Fagbog\",\"Fagbog\",\"Billedtekster\",\"Realistisk fort\\u00e6lling\",\"Hverdagsbeskrivelse\",\"Billedtekster\",\"Hverdagsbeskrivelse\",\"Fagbog\",\"Fagbog\",\"Fagbog\",\"Billedtekster\",\"Hverdagsberetning\",\"Ubestemmelig\",\"Fagbog\",\"S\\u00e6rdagsberetning\",\"Hverdagsbeskrivelse\",\"Fagbog\",\"Billedtekster\",\"Hverdagsberetning\",\"Billedtekster\",\"Fantasifort\\u00e6lling\",\"Hverdagsbeskrivelse\",\"Billedtekster\",\"Fagbog\",\"Fantasifort\\u00e6lling\",\"Fagbog\",\"Fagbog\",\"Billedtekster\",\"Fagbog\",\"Fagbog\",\"Fagbog\",\"Fagbog\",\"Fagbog\",\"Fagbog\",\"Fagbog\",\"Fagbog\",\"Fagbog\",\"Fagbog\",\"Fantasifort\\u00e6lling\",\"Hverdagsbeskrivelse\",\"Billedtekster\",\"Fagbog\",\"Fagbog\",null,\"Fagbog\",\"Billedtekster\",\"Billedtekster\",\"Fantasifort\\u00e6lling\",\"Fagbog\",\"Billedtekster\",\"Billedtekster\",\"Fagbog\",\"Fagbog\",\"Fagbog\",\"Fagbog\",\"Hverdagsberetning\",\"Fagbog\",\"Fagbog\",\"Hverdagsbeskrivelse\",\"Rim og remser\",\"Billedtekster\",\"Billedtekster\",\"S\\u00e6rdagsberetning\",\"Hverdagsbeskrivelse\",\"Billedtekster\",\"Fagbog\",\"Fagbog\",null,\"Fagbog\",\"Fagbog\",\"Billedtekster\",\"Fagbog\",\"Billedtekster\",\"Billedtekster\",\"Hverdagsberetning\",\"Fagbog\",\"Ubestemmelig\",\"S\\u00e6rdagsberetning\",\"Fagbog\",\"Ubestemmelig\",\"Ubestemmelig\",\"Fantasifort\\u00e6lling\",\"S\\u00e6rdagsberetning\",\"Gyserfort\\u00e6lling\",\"Billedtekster\",\"Fantasifort\\u00e6lling\",\"Realistisk fort\\u00e6lling\",\"Fantasifort\\u00e6lling\",\"Fantasifort\\u00e6lling\",\"Hverdagsbeskrivelse\",\"S\\u00e6rdagsberetning\",\"S\\u00e6rdagsberetning\",\"Hverdagsbeskrivelse\",\"Ubestemmelig\",\"Hverdagsbeskrivelse\",\"Hverdagsberetning\",\"Realistisk fort\\u00e6lling\",\"S\\u00e6rdagsberetning\",\"Hverdagsbeskrivelse\",\"Hverdagsbeskrivelse\",\"Fagbog\",\"Billedtekster\",\"Ubestemmelig\",\"Billedtekster\",\"Billedtekster\",\"Billedtekster\",\"Mit k\\u00e6ledyr\",\"Hverdagsbeskrivelse\",\"Hverdagsbeskrivelse\",\"Billedtekster\",\"Mit k\\u00e6ledyr\",\"Realistisk fort\\u00e6lling\",\"Fagbog\",\"Billedtekster\",\"Selvportr\\u00e6t\",\"Billedtekster\",\"Anmeldelse\",\"Hverdagsberetning\",\"Billedtekster\",\"Synspunkt\",\"Fantasifort\\u00e6lling\",\"Hverdagsbeskrivelse\",\"Hverdagsbeskrivelse\",\"Billedtekster\",\"Hverdagsbeskrivelse\",\"Hverdagsbeskrivelse\",\"Hverdagsbeskrivelse\",\"Fagbog\",\"Hverdagsbeskrivelse\",\"Synspunkt\",\"Fagbog\",\"Fagbog\",\"Fantasifort\\u00e6lling\",\"Fagbog\",\"Fantasifort\\u00e6lling\",\"Billedtekster\",\"Fantasifort\\u00e6lling\",\"Billedtekster\",\"Fagbog\",\"Fagbog\",\"Billedtekster\",\"Fagbog\",null,\"Ubestemmelig\",\"Fantasifort\\u00e6lling\",\"Hverdagsbeskrivelse\",\"Hverdagsberetning\",\"Eventyr\",\"Fantasifort\\u00e6lling\",\"S\\u00e6rdagsberetning\",\"S\\u00e6rdagsberetning\",\"S\\u00e6rdagsberetning\",\"Fantasifort\\u00e6lling\",\"S\\u00e6rdagsberetning\",\"S\\u00e6rdagsberetning\",\"Mit k\\u00e6ledyr\",\"S\\u00e6rdagsberetning\",\"Fagbog\",\"S\\u00e6rdagsberetning\",\"Realistisk fort\\u00e6lling\",\"Billedtekster\",\"Fantasifort\\u00e6lling\",\"Fantasifort\\u00e6lling\",\"Hverdagsberetning\",\"Billedtekster\",\"Billedtekster\",\"Fagbog\",\"Fantasifort\\u00e6lling\",\"Billedtekster\",\"Billedtekster\",\"Selvportr\\u00e6t\",\"Fagbog\",\"Mit k\\u00e6ledyr\",\"Selvportr\\u00e6t\",\"Selvportr\\u00e6t\",\"Hverdagsbeskrivelse\",\"Hverdagsbeskrivelse\",\"Hverdagsbeskrivelse\",\"Fantasifort\\u00e6lling\",\"Fagbog\",\"Billedtekster\",\"Synspunkt\",\"Billedtekster\",\"Synspunkt\",\"Fagbog\",\"S\\u00e6rdagsberetning\",\"Fagbog\",\"Fagbog\",\"Fagbog\",\"Ubestemmelig\",\"Hverdagsbeskrivelse\",\"Fagbog\",\"Ubestemmelig\",\"Fagbog\",\"Fagbog\",\"Billedtekster\",\"Billedtekster\",\"Fagbog\",\"Billedtekster\",null,\"Eventyr\",\"Hverdagsbeskrivelse\",\"Anmeldelse\",\"Ubestemmelig\",null,\"Selvportr\\u00e6t\",\"Fagbog\",\"Fagbog\",\"Ubestemmelig\",\"Billedtekster\",\"Fantasifort\\u00e6lling\",\"Hverdagsbeskrivelse\",\"Hverdagsbeskrivelse\",\"Selvportr\\u00e6t\",\"Billedtekster\",\"Rim og remser\",\"Billedtekster\",\"Rim og remser\",\"Hverdagsberetning\",\"Rim og remser\",\"Rim og remser\",\"Hverdagsbeskrivelse\",\"Billedtekster\",\"Hverdagsberetning\",\"Billedtekster\",\"Mit k\\u00e6ledyr\",\"Mit k\\u00e6ledyr\",\"Realistisk fort\\u00e6lling\",\"Fagbog\",\"Billedtekster\",\"Hverdagsbeskrivelse\",\"Hverdagsberetning\",\"Fagbog\",\"Fantasifort\\u00e6lling\",\"Fagbog\",\"Synspunkt\",\"Fagbog\",\"Fantasifort\\u00e6lling\",\"Fantasifort\\u00e6lling\",\"Billedtekster\",\"Fagbog\",\"Hverdagsbeskrivelse\",\"Ubestemmelig\",\"Fagbog\",\"Hverdagsbeskrivelse\",\"Fagbog\",\"S\\u00e6rdagsberetning\",\"Hverdagsbeskrivelse\",\"Mit k\\u00e6ledyr\",\"Fantasifort\\u00e6lling\",\"Fagbog\",\"Hverdagsbeskrivelse\",\"Hverdagsbeskrivelse\",\"Hverdagsbeskrivelse\",\"Hverdagsbeskrivelse\",\"S\\u00e6rdagsberetning\",\"Fagbog\",\"Fagbog\",\"Fagbog\",\"Mit k\\u00e6ledyr\",\"Hverdagsbeskrivelse\",\"Hverdagsbeskrivelse\",\"Fantasifort\\u00e6lling\",\"Hverdagsbeskrivelse\",\"Eventyr\",\"Ubestemmelig\",\"Hverdagsbeskrivelse\",\"Ubestemmelig\",\"Ubestemmelig\",\"Realistisk fort\\u00e6lling\",\"S\\u00e6rdagsberetning\",\"Realistisk fort\\u00e6lling\",\"S\\u00e6rdagsberetning\",\"Hverdagsberetning\",\"Selvportr\\u00e6t\",\"Hverdagsbeskrivelse\",\"S\\u00e6rdagsberetning\",\"Hverdagsbeskrivelse\",\"Hverdagsberetning\",\"Hverdagsbeskrivelse\",\"Synspunkt\",\"Realistisk fort\\u00e6lling\",\"S\\u00e6rdagsberetning\",\"Gyserfort\\u00e6lling\",\"Fantasifort\\u00e6lling\",\"Billedtekster\",\"Realistisk fort\\u00e6lling\",\"Fantasifort\\u00e6lling\",\"Realistisk fort\\u00e6lling\",\"Realistisk fort\\u00e6lling\",\"Fantasifort\\u00e6lling\",\"S\\u00e6rdagsberetning\",\"Billedtekster\",\"Hverdagsbeskrivelse\",\"S\\u00e6rdagsberetning\",\"Gyserfort\\u00e6lling\",\"Fantasifort\\u00e6lling\",\"Hverdagsberetning\",\"Gyserfort\\u00e6lling\",\"Hverdagsbeskrivelse\",\"Billedtekster\",\"Fagbog\",\"S\\u00e6rdagsberetning\",\"Hverdagsberetning\",\"Hverdagsbeskrivelse\",\"Hverdagsbeskrivelse\",\"Hverdagsberetning\",\"Fagbog\",\"Fantasifort\\u00e6lling\",\"Hverdagsbeskrivelse\",\"Hverdagsbeskrivelse\",\"Hverdagsbeskrivelse\",\"Eventyr\",\"Fantasifort\\u00e6lling\",\"Fantasifort\\u00e6lling\",\"Hverdagsbeskrivelse\",\"Fagbog\",\"Fagbog\",\"Hverdagsbeskrivelse\",\"Fagbog\",\"Hverdagsbeskrivelse\",\"Billedtekster\",\"Anmeldelse\",\"Ubestemmelig\",\"Fagbog\",\"Fagbog\",\"Fagbog\",\"Hverdagsbeskrivelse\",\"Hverdagsbeskrivelse\",\"Ubestemmelig\",\"Hverdagsbeskrivelse\",\"Hverdagsberetning\",\"Hverdagsbeskrivelse\",\"Anmeldelse\",\"Hverdagsberetning\",\"Fantasifort\\u00e6lling\",\"Fantasifort\\u00e6lling\",\"Hverdagsbeskrivelse\",\"S\\u00e6rdagsberetning\",\"Fantasifort\\u00e6lling\",\"Billedtekster\",\"Billedtekster\",\"Anmeldelse\",\"S\\u00e6rdagsberetning\",\"S\\u00e6rdagsberetning\",\"S\\u00e6rdagsberetning\",\"Hverdagsberetning\",\"Mit k\\u00e6ledyr\",\"Hverdagsberetning\",\"Hverdagsberetning\",\"Hverdagsberetning\",\"Fantasifort\\u00e6lling\",\"Realistisk fort\\u00e6lling\",\"Gyserfort\\u00e6lling\",\"Fagbog\",\"Fantasifort\\u00e6lling\",\"Realistisk fort\\u00e6lling\",\"Realistisk fort\\u00e6lling\",\"Realistisk fort\\u00e6lling\",\"Fantasifort\\u00e6lling\",\"Fantasifort\\u00e6lling\",\"Realistisk fort\\u00e6lling\",\"Anmeldelse\",\"Realistisk fort\\u00e6lling\",\"Fagbog\",\"Fagbog\",\"Billedtekster\",\"Fagbog\",\"Hverdagsbeskrivelse\",\"Fagbog\",\"Anmeldelse\",\"S\\u00e6rdagsberetning\",\"S\\u00e6rdagsberetning\",\"Anmeldelse\",\"S\\u00e6rdagsberetning\",\"Fagbog\",\"Billedtekster\",\"Hverdagsberetning\",\"Fagbog\",\"Fagbog\",\"Rim og remser\",\"S\\u00e6rdagsberetning\",\"S\\u00e6rdagsberetning\",\"S\\u00e6rdagsberetning\",\"Fagbog\",\"Hverdagsbeskrivelse\",\"S\\u00e6rdagsberetning\",\"Fantasifort\\u00e6lling\",\"Hverdagsberetning\",\"Billedtekster\",\"Eventyr\",\"Selvportr\\u00e6t\",\"Fantasifort\\u00e6lling\",\"Fagbog\",\"Fagbog\",\"Fagbog\",\"Synspunkt\",\"Fagbog\",\"Hverdagsberetning\",\"Fagbog\",\"Eventyr\",\"S\\u00e6rdagsberetning\",\"Hverdagsbeskrivelse\",\"Hverdagsbeskrivelse\",\"Billedtekster\",\"Fagbog\",\"Hverdagsberetning\",\"S\\u00e6rdagsberetning\",\"Billedtekster\",\"Hverdagsberetning\",\"Hverdagsberetning\",\"Hverdagsberetning\",\"Fantasifort\\u00e6lling\",\"Fantasifort\\u00e6lling\",\"Fantasifort\\u00e6lling\",\"Hverdagsbeskrivelse\",\"Billedtekster\",\"Fagbog\",\"Billedtekster\",\"Fagbog\",\"Billedtekster\",\"Fagbog\",\"S\\u00e6rdagsberetning\",\"Hverdagsbeskrivelse\",\"Fantasifort\\u00e6lling\",\"S\\u00e6rdagsberetning\",\"Fagbog\",\"Selvportr\\u00e6t\",\"Rim og remser\",\"S\\u00e6rdagsberetning\",\"Realistisk fort\\u00e6lling\",\"S\\u00e6rdagsberetning\",\"Hverdagsbeskrivelse\",\"Eventyr\",\"Billedtekster\",\"Billedtekster\",\"Hverdagsbeskrivelse\",\"Billedtekster\",\"Hverdagsbeskrivelse\",null,\"Billedtekster\",\"S\\u00e6rdagsberetning\",\"Hverdagsberetning\",\"Fagbog\",\"Synspunkt\",\"Fagbog\",\"Fantasifort\\u00e6lling\",\"Ubestemmelig\",\"Hverdagsbeskrivelse\",\"Realistisk fort\\u00e6lling\",\"Fantasifort\\u00e6lling\",\"Hverdagsbeskrivelse\",\"Fagbog\",\"Hverdagsberetning\",\"Fantasifort\\u00e6lling\",\"Fantasifort\\u00e6lling\",\"Gyserfort\\u00e6lling\",\"Fagbog\",\"Hverdagsbeskrivelse\",\"Fagbog\",\"Ubestemmelig\",\"Fantasifort\\u00e6lling\",\"Realistisk fort\\u00e6lling\",\"Realistisk fort\\u00e6lling\",\"Ubestemmelig\",\"Gyserfort\\u00e6lling\",\"Fantasifort\\u00e6lling\",\"Fagbog\",\"Synspunkt\",\"Hverdagsbeskrivelse\",\"Fagbog\",\"Billedtekster\",\"Fagbog\",\"Ubestemmelig\",\"Fagbog\",\"Fagbog\",\"Fagbog\",\"Ubestemmelig\",\"S\\u00e6rdagsberetning\",\"Synspunkt\",\"Fagbog\",\"Realistisk fort\\u00e6lling\",\"Billedtekster\",\"Hverdagsbeskrivelse\",\"Fagbog\",\"Fagbog\",\"Synspunkt\",\"Eventyr\",\"S\\u00e6rdagsberetning\",\"Eventyr\",\"Fagbog\",\"Realistisk fort\\u00e6lling\",\"Fagbog\",\"Fagbog\",\"Ubestemmelig\",\"Rim og remser\",\"Hverdagsbeskrivelse\",\"Fagbog\",\"Fagbog\",\"Hverdagsberetning\",\"Fagbog\",\"Fagbog\",\"Hverdagsbeskrivelse\",\"Fagbog\",\"Fagbog\",\"Gyserfort\\u00e6lling\",\"Mit k\\u00e6ledyr\",\"Fagbog\",\"Hverdagsbeskrivelse\",\"Ubestemmelig\",\"Billedtekster\",\"Anmeldelse\",\"S\\u00e6rdagsberetning\",\"Hverdagsbeskrivelse\",\"Rim og remser\",\"S\\u00e6rdagsberetning\",\"Mit k\\u00e6ledyr\",\"Rim og remser\",\"Hverdagsberetning\",\"S\\u00e6rdagsberetning\",\"Rim og remser\",\"Eventyr\",\"Eventyr\",\"Eventyr\",\"Eventyr\",\"Eventyr\",\"S\\u00e6rdagsberetning\",\"Fantasifort\\u00e6lling\",\"Eventyr\",\"Eventyr\",\"Rim og remser\",\"Fantasifort\\u00e6lling\",null,\"Fantasifort\\u00e6lling\",\"Fantasifort\\u00e6lling\",\"Hverdagsbeskrivelse\",\"Fantasifort\\u00e6lling\",\"Ubestemmelig\",\"Synspunkt\",\"Billedtekster\",\"Hverdagsberetning\",\"Fagbog\",\"Realistisk fort\\u00e6lling\",\"Anmeldelse\",\"Billedtekster\",\"Fantasifort\\u00e6lling\",\"Fantasifort\\u00e6lling\",\"Hverdagsbeskrivelse\",\"Fagbog\",\"Hverdagsbeskrivelse\",\"Hverdagsbeskrivelse\",\"S\\u00e6rdagsberetning\",\"S\\u00e6rdagsberetning\",\"Fagbog\",\"Fagbog\",\"Fagbog\",\"Hverdagsbeskrivelse\",\"Realistisk fort\\u00e6lling\",\"Realistisk fort\\u00e6lling\",\"S\\u00e6rdagsberetning\",\"Hverdagsbeskrivelse\",\"Hverdagsbeskrivelse\",\"Selvportr\\u00e6t\",\"Fagbog\",\"Fantasifort\\u00e6lling\",\"Realistisk fort\\u00e6lling\",\"Billedtekster\",\"Ubestemmelig\",\"Fagbog\",\"Hverdagsbeskrivelse\",\"Hverdagsberetning\",\"Fagbog\",\"Fagbog\",\"Synspunkt\",\"S\\u00e6rdagsberetning\",\"Synspunkt\",\"Fagbog\",\"Ubestemmelig\",\"Selvportr\\u00e6t\",\"Fagbog\",\"Fagbog\",\"Fantasifort\\u00e6lling\",\"Fantasifort\\u00e6lling\",\"Realistisk fort\\u00e6lling\",\"Billedtekster\",\"Synspunkt\",\"Fantasifort\\u00e6lling\",\"Fagbog\",\"Fagbog\",\"Fagbog\",\"Billedtekster\",\"Hverdagsbeskrivelse\",\"Synspunkt\",\"Synspunkt\",\"Fagbog\",\"Fagbog\",\"Hverdagsbeskrivelse\",\"Fantasifort\\u00e6lling\",\"Hverdagsbeskrivelse\",\"Fagbog\",\"Fagbog\",\"Fagbog\",\"Fagbog\",\"Hverdagsbeskrivelse\",\"Hverdagsbeskrivelse\",\"Fagbog\",\"Billedtekster\",\"Realistisk fort\\u00e6lling\",\"Realistisk fort\\u00e6lling\",\"Hverdagsbeskrivelse\",\"Hverdagsberetning\",\"Realistisk fort\\u00e6lling\",\"Billedtekster\",\"Hverdagsberetning\",\"Hverdagsbeskrivelse\",\"Hverdagsbeskrivelse\",\"Fagbog\",\"Billedtekster\",\"Hverdagsbeskrivelse\",\"Fagbog\",\"Eventyr\",\"Billedtekster\",\"Hverdagsberetning\",\"S\\u00e6rdagsberetning\",\"Hverdagsbeskrivelse\",\"Billedtekster\",\"Realistisk fort\\u00e6lling\",\"Hverdagsbeskrivelse\",\"Hverdagsbeskrivelse\",\"Hverdagsbeskrivelse\",\"Rim og remser\",\"Fagbog\",\"S\\u00e6rdagsberetning\",\"Hverdagsbeskrivelse\",\"Hverdagsbeskrivelse\",\"Hverdagsberetning\"],\"xaxis\":\"x\",\"yaxis\":\"y\",\"type\":\"histogram\"}],                        {\"template\":{\"data\":{\"histogram2dcontour\":[{\"type\":\"histogram2dcontour\",\"colorbar\":{\"outlinewidth\":0,\"ticks\":\"\"},\"colorscale\":[[0.0,\"#0d0887\"],[0.1111111111111111,\"#46039f\"],[0.2222222222222222,\"#7201a8\"],[0.3333333333333333,\"#9c179e\"],[0.4444444444444444,\"#bd3786\"],[0.5555555555555556,\"#d8576b\"],[0.6666666666666666,\"#ed7953\"],[0.7777777777777778,\"#fb9f3a\"],[0.8888888888888888,\"#fdca26\"],[1.0,\"#f0f921\"]]}],\"choropleth\":[{\"type\":\"choropleth\",\"colorbar\":{\"outlinewidth\":0,\"ticks\":\"\"}}],\"histogram2d\":[{\"type\":\"histogram2d\",\"colorbar\":{\"outlinewidth\":0,\"ticks\":\"\"},\"colorscale\":[[0.0,\"#0d0887\"],[0.1111111111111111,\"#46039f\"],[0.2222222222222222,\"#7201a8\"],[0.3333333333333333,\"#9c179e\"],[0.4444444444444444,\"#bd3786\"],[0.5555555555555556,\"#d8576b\"],[0.6666666666666666,\"#ed7953\"],[0.7777777777777778,\"#fb9f3a\"],[0.8888888888888888,\"#fdca26\"],[1.0,\"#f0f921\"]]}],\"heatmap\":[{\"type\":\"heatmap\",\"colorbar\":{\"outlinewidth\":0,\"ticks\":\"\"},\"colorscale\":[[0.0,\"#0d0887\"],[0.1111111111111111,\"#46039f\"],[0.2222222222222222,\"#7201a8\"],[0.3333333333333333,\"#9c179e\"],[0.4444444444444444,\"#bd3786\"],[0.5555555555555556,\"#d8576b\"],[0.6666666666666666,\"#ed7953\"],[0.7777777777777778,\"#fb9f3a\"],[0.8888888888888888,\"#fdca26\"],[1.0,\"#f0f921\"]]}],\"heatmapgl\":[{\"type\":\"heatmapgl\",\"colorbar\":{\"outlinewidth\":0,\"ticks\":\"\"},\"colorscale\":[[0.0,\"#0d0887\"],[0.1111111111111111,\"#46039f\"],[0.2222222222222222,\"#7201a8\"],[0.3333333333333333,\"#9c179e\"],[0.4444444444444444,\"#bd3786\"],[0.5555555555555556,\"#d8576b\"],[0.6666666666666666,\"#ed7953\"],[0.7777777777777778,\"#fb9f3a\"],[0.8888888888888888,\"#fdca26\"],[1.0,\"#f0f921\"]]}],\"contourcarpet\":[{\"type\":\"contourcarpet\",\"colorbar\":{\"outlinewidth\":0,\"ticks\":\"\"}}],\"contour\":[{\"type\":\"contour\",\"colorbar\":{\"outlinewidth\":0,\"ticks\":\"\"},\"colorscale\":[[0.0,\"#0d0887\"],[0.1111111111111111,\"#46039f\"],[0.2222222222222222,\"#7201a8\"],[0.3333333333333333,\"#9c179e\"],[0.4444444444444444,\"#bd3786\"],[0.5555555555555556,\"#d8576b\"],[0.6666666666666666,\"#ed7953\"],[0.7777777777777778,\"#fb9f3a\"],[0.8888888888888888,\"#fdca26\"],[1.0,\"#f0f921\"]]}],\"surface\":[{\"type\":\"surface\",\"colorbar\":{\"outlinewidth\":0,\"ticks\":\"\"},\"colorscale\":[[0.0,\"#0d0887\"],[0.1111111111111111,\"#46039f\"],[0.2222222222222222,\"#7201a8\"],[0.3333333333333333,\"#9c179e\"],[0.4444444444444444,\"#bd3786\"],[0.5555555555555556,\"#d8576b\"],[0.6666666666666666,\"#ed7953\"],[0.7777777777777778,\"#fb9f3a\"],[0.8888888888888888,\"#fdca26\"],[1.0,\"#f0f921\"]]}],\"mesh3d\":[{\"type\":\"mesh3d\",\"colorbar\":{\"outlinewidth\":0,\"ticks\":\"\"}}],\"scatter\":[{\"fillpattern\":{\"fillmode\":\"overlay\",\"size\":10,\"solidity\":0.2},\"type\":\"scatter\"}],\"parcoords\":[{\"type\":\"parcoords\",\"line\":{\"colorbar\":{\"outlinewidth\":0,\"ticks\":\"\"}}}],\"scatterpolargl\":[{\"type\":\"scatterpolargl\",\"marker\":{\"colorbar\":{\"outlinewidth\":0,\"ticks\":\"\"}}}],\"bar\":[{\"error_x\":{\"color\":\"#2a3f5f\"},\"error_y\":{\"color\":\"#2a3f5f\"},\"marker\":{\"line\":{\"color\":\"#E5ECF6\",\"width\":0.5},\"pattern\":{\"fillmode\":\"overlay\",\"size\":10,\"solidity\":0.2}},\"type\":\"bar\"}],\"scattergeo\":[{\"type\":\"scattergeo\",\"marker\":{\"colorbar\":{\"outlinewidth\":0,\"ticks\":\"\"}}}],\"scatterpolar\":[{\"type\":\"scatterpolar\",\"marker\":{\"colorbar\":{\"outlinewidth\":0,\"ticks\":\"\"}}}],\"histogram\":[{\"marker\":{\"pattern\":{\"fillmode\":\"overlay\",\"size\":10,\"solidity\":0.2}},\"type\":\"histogram\"}],\"scattergl\":[{\"type\":\"scattergl\",\"marker\":{\"colorbar\":{\"outlinewidth\":0,\"ticks\":\"\"}}}],\"scatter3d\":[{\"type\":\"scatter3d\",\"line\":{\"colorbar\":{\"outlinewidth\":0,\"ticks\":\"\"}},\"marker\":{\"colorbar\":{\"outlinewidth\":0,\"ticks\":\"\"}}}],\"scattermapbox\":[{\"type\":\"scattermapbox\",\"marker\":{\"colorbar\":{\"outlinewidth\":0,\"ticks\":\"\"}}}],\"scatterternary\":[{\"type\":\"scatterternary\",\"marker\":{\"colorbar\":{\"outlinewidth\":0,\"ticks\":\"\"}}}],\"scattercarpet\":[{\"type\":\"scattercarpet\",\"marker\":{\"colorbar\":{\"outlinewidth\":0,\"ticks\":\"\"}}}],\"carpet\":[{\"aaxis\":{\"endlinecolor\":\"#2a3f5f\",\"gridcolor\":\"white\",\"linecolor\":\"white\",\"minorgridcolor\":\"white\",\"startlinecolor\":\"#2a3f5f\"},\"baxis\":{\"endlinecolor\":\"#2a3f5f\",\"gridcolor\":\"white\",\"linecolor\":\"white\",\"minorgridcolor\":\"white\",\"startlinecolor\":\"#2a3f5f\"},\"type\":\"carpet\"}],\"table\":[{\"cells\":{\"fill\":{\"color\":\"#EBF0F8\"},\"line\":{\"color\":\"white\"}},\"header\":{\"fill\":{\"color\":\"#C8D4E3\"},\"line\":{\"color\":\"white\"}},\"type\":\"table\"}],\"barpolar\":[{\"marker\":{\"line\":{\"color\":\"#E5ECF6\",\"width\":0.5},\"pattern\":{\"fillmode\":\"overlay\",\"size\":10,\"solidity\":0.2}},\"type\":\"barpolar\"}],\"pie\":[{\"automargin\":true,\"type\":\"pie\"}]},\"layout\":{\"autotypenumbers\":\"strict\",\"colorway\":[\"#636efa\",\"#EF553B\",\"#00cc96\",\"#ab63fa\",\"#FFA15A\",\"#19d3f3\",\"#FF6692\",\"#B6E880\",\"#FF97FF\",\"#FECB52\"],\"font\":{\"color\":\"#2a3f5f\"},\"hovermode\":\"closest\",\"hoverlabel\":{\"align\":\"left\"},\"paper_bgcolor\":\"white\",\"plot_bgcolor\":\"#E5ECF6\",\"polar\":{\"bgcolor\":\"#E5ECF6\",\"angularaxis\":{\"gridcolor\":\"white\",\"linecolor\":\"white\",\"ticks\":\"\"},\"radialaxis\":{\"gridcolor\":\"white\",\"linecolor\":\"white\",\"ticks\":\"\"}},\"ternary\":{\"bgcolor\":\"#E5ECF6\",\"aaxis\":{\"gridcolor\":\"white\",\"linecolor\":\"white\",\"ticks\":\"\"},\"baxis\":{\"gridcolor\":\"white\",\"linecolor\":\"white\",\"ticks\":\"\"},\"caxis\":{\"gridcolor\":\"white\",\"linecolor\":\"white\",\"ticks\":\"\"}},\"coloraxis\":{\"colorbar\":{\"outlinewidth\":0,\"ticks\":\"\"}},\"colorscale\":{\"sequential\":[[0.0,\"#0d0887\"],[0.1111111111111111,\"#46039f\"],[0.2222222222222222,\"#7201a8\"],[0.3333333333333333,\"#9c179e\"],[0.4444444444444444,\"#bd3786\"],[0.5555555555555556,\"#d8576b\"],[0.6666666666666666,\"#ed7953\"],[0.7777777777777778,\"#fb9f3a\"],[0.8888888888888888,\"#fdca26\"],[1.0,\"#f0f921\"]],\"sequentialminus\":[[0.0,\"#0d0887\"],[0.1111111111111111,\"#46039f\"],[0.2222222222222222,\"#7201a8\"],[0.3333333333333333,\"#9c179e\"],[0.4444444444444444,\"#bd3786\"],[0.5555555555555556,\"#d8576b\"],[0.6666666666666666,\"#ed7953\"],[0.7777777777777778,\"#fb9f3a\"],[0.8888888888888888,\"#fdca26\"],[1.0,\"#f0f921\"]],\"diverging\":[[0,\"#8e0152\"],[0.1,\"#c51b7d\"],[0.2,\"#de77ae\"],[0.3,\"#f1b6da\"],[0.4,\"#fde0ef\"],[0.5,\"#f7f7f7\"],[0.6,\"#e6f5d0\"],[0.7,\"#b8e186\"],[0.8,\"#7fbc41\"],[0.9,\"#4d9221\"],[1,\"#276419\"]]},\"xaxis\":{\"gridcolor\":\"white\",\"linecolor\":\"white\",\"ticks\":\"\",\"title\":{\"standoff\":15},\"zerolinecolor\":\"white\",\"automargin\":true,\"zerolinewidth\":2},\"yaxis\":{\"gridcolor\":\"white\",\"linecolor\":\"white\",\"ticks\":\"\",\"title\":{\"standoff\":15},\"zerolinecolor\":\"white\",\"automargin\":true,\"zerolinewidth\":2},\"scene\":{\"xaxis\":{\"backgroundcolor\":\"#E5ECF6\",\"gridcolor\":\"white\",\"linecolor\":\"white\",\"showbackground\":true,\"ticks\":\"\",\"zerolinecolor\":\"white\",\"gridwidth\":2},\"yaxis\":{\"backgroundcolor\":\"#E5ECF6\",\"gridcolor\":\"white\",\"linecolor\":\"white\",\"showbackground\":true,\"ticks\":\"\",\"zerolinecolor\":\"white\",\"gridwidth\":2},\"zaxis\":{\"backgroundcolor\":\"#E5ECF6\",\"gridcolor\":\"white\",\"linecolor\":\"white\",\"showbackground\":true,\"ticks\":\"\",\"zerolinecolor\":\"white\",\"gridwidth\":2}},\"shapedefaults\":{\"line\":{\"color\":\"#2a3f5f\"}},\"annotationdefaults\":{\"arrowcolor\":\"#2a3f5f\",\"arrowhead\":0,\"arrowwidth\":1},\"geo\":{\"bgcolor\":\"white\",\"landcolor\":\"#E5ECF6\",\"subunitcolor\":\"white\",\"showland\":true,\"showlakes\":true,\"lakecolor\":\"white\"},\"title\":{\"x\":0.05},\"mapbox\":{\"style\":\"light\"}}},\"xaxis\":{\"anchor\":\"y\",\"domain\":[0.0,1.0],\"title\":{\"text\":\"Genre\"},\"categoryorder\":\"total descending\"},\"yaxis\":{\"anchor\":\"x\",\"domain\":[0.0,1.0],\"title\":{\"text\":\"count\"}},\"legend\":{\"tracegroupgap\":0},\"margin\":{\"t\":60},\"barmode\":\"relative\"},                        {\"responsive\": true}                    ).then(function(){\n",
       "                            \n",
       "var gd = document.getElementById('16b3ee11-e6b0-4454-ba9c-481292b06a4f');\n",
       "var x = new MutationObserver(function (mutations, observer) {{\n",
       "        var display = window.getComputedStyle(gd).display;\n",
       "        if (!display || display === 'none') {{\n",
       "            console.log([gd, 'removed!']);\n",
       "            Plotly.purge(gd);\n",
       "            observer.disconnect();\n",
       "        }}\n",
       "}});\n",
       "\n",
       "// Listen for the removal of the full notebook cells\n",
       "var notebookContainer = gd.closest('#notebook-container');\n",
       "if (notebookContainer) {{\n",
       "    x.observe(notebookContainer, {childList: true});\n",
       "}}\n",
       "\n",
       "// Listen for the clearing of the current output cell\n",
       "var outputEl = gd.closest('.output');\n",
       "if (outputEl) {{\n",
       "    x.observe(outputEl, {childList: true});\n",
       "}}\n",
       "\n",
       "                        })                };                });            </script>        </div>"
      ]
     },
     "metadata": {},
     "output_type": "display_data"
    }
   ],
   "source": [
    "plot_distribution('Genre')"
   ]
  },
  {
   "cell_type": "markdown",
   "id": "5ef9be2a-64ee-4432-8134-13dac947c65c",
   "metadata": {},
   "source": [
    "## 2.3 Get all senteces of each book"
   ]
  },
  {
   "cell_type": "code",
   "execution_count": 48,
   "id": "78483349-6ed8-4fd7-b3bc-1305d99bbf95",
   "metadata": {},
   "outputs": [],
   "source": [
    "def print_book_sentences(book_id: int):\n",
    "    print(book_col[book_id].get_fulltext())"
   ]
  },
  {
   "cell_type": "code",
   "execution_count": 37,
   "id": "475c3e90-9bfb-48d0-b08d-e16cfbb8e7ed",
   "metadata": {},
   "outputs": [],
   "source": [
    "def clean_book_text(book: atel.data.Book):\n",
    "    s = book.get_fulltext() \n",
    "    s = s.replace('\\t', ' ').replace('\\n', ' ')\n",
    "    s = re.sub('[^[a-zA-Z0-9æøåÆØÅ\\s]', ' ', s)\n",
    "    s = re.sub('\\s+', ' ', s)  # removes trailing whitespaces\n",
    "    s = s.lower().strip()\n",
    "    \n",
    "    return s"
   ]
  },
  {
   "cell_type": "code",
   "execution_count": 52,
   "id": "cad8fa87-eabd-4715-baa6-cf1d1c87c5c6",
   "metadata": {},
   "outputs": [],
   "source": [
    "def clean_book_collection_texts(book_col: atel.data.BookCollection, include_empty_texts: bool=False):\n",
    "    book_ids = []\n",
    "    texts    = []\n",
    "    \n",
    "    for i, book in enumerate(book_col):\n",
    "        s = clean_book_text(book)\n",
    "        \n",
    "        if not include_empty_texts and s != '':\n",
    "            texts.append(s)\n",
    "            book_ids.append(i)\n",
    "    \n",
    "    return book_ids, texts"
   ]
  },
  {
   "cell_type": "code",
   "execution_count": null,
   "id": "2318ccac-6513-46c8-bba8-b01011a31af4",
   "metadata": {},
   "outputs": [],
   "source": []
  },
  {
   "cell_type": "code",
   "execution_count": null,
   "id": "feb2d4d7-e491-4095-8ee5-305d927ae03a",
   "metadata": {},
   "outputs": [],
   "source": []
  },
  {
   "cell_type": "code",
   "execution_count": null,
   "id": "acab3448-b86a-4a87-9921-c40febd44367",
   "metadata": {},
   "outputs": [],
   "source": []
  }
 ],
 "metadata": {
  "kernelspec": {
   "display_name": "Python 3 (ipykernel)",
   "language": "python",
   "name": "python3"
  },
  "language_info": {
   "codemirror_mode": {
    "name": "ipython",
    "version": 3
   },
   "file_extension": ".py",
   "mimetype": "text/x-python",
   "name": "python",
   "nbconvert_exporter": "python",
   "pygments_lexer": "ipython3",
   "version": "3.8.10 (tags/v3.8.10:3d8993a, May  3 2021, 11:48:03) [MSC v.1928 64 bit (AMD64)]"
  },
  "toc": {
   "base_numbering": 1,
   "nav_menu": {},
   "number_sections": false,
   "sideBar": true,
   "skip_h1_title": true,
   "title_cell": "Table of Contents",
   "title_sidebar": "Contents",
   "toc_cell": false,
   "toc_position": {},
   "toc_section_display": true,
   "toc_window_display": false
  },
  "vscode": {
   "interpreter": {
    "hash": "000d89547fc55ae922e486db18b5beb8a5f917b898b89eb599cdd184a9733888"
   }
  }
 },
 "nbformat": 4,
 "nbformat_minor": 5
}
