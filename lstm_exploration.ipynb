{
 "cells": [
  {
   "cell_type": "code",
   "execution_count": 1,
   "id": "9736a990-775a-43e9-9ee3-98aa7513ad5e",
   "metadata": {},
   "outputs": [],
   "source": [
    "import numpy as np\n",
    "from atel.data import BookCollection\n",
    "from data_clean import set_seed\n",
    "from lstm_model import lstm_data, lstm_text\n",
    "import torch\n",
    "import pytorch_lightning as pl\n",
    "from pytorch_lightning import Trainer\n",
    "from torchmetrics.functional import accuracy\n",
    "from torchmetrics.functional.classification import multilabel_accuracy\n",
    "import fasttext\n",
    "from data_clean import *\n",
    "import warnings\n",
    "warnings.filterwarnings(\"ignore\", \".*does not have many workers.*\")"
   ]
  },
  {
   "cell_type": "code",
   "execution_count": 2,
   "id": "2d93a9ea-3b5c-436b-aeb4-87e1fd4a31a4",
   "metadata": {},
   "outputs": [],
   "source": [
    "import yaml\n",
    "from yaml import CLoader\n",
    "with open('target_problem_type.yaml', 'r', encoding='utf-8') as f:\n",
    "    test = yaml.load(f, Loader=CLoader)"
   ]
  },
  {
   "cell_type": "code",
   "execution_count": 3,
   "id": "2945e5bc-af12-417d-bbe5-f9a81c4fd9f4",
   "metadata": {},
   "outputs": [
    {
     "data": {
      "text/plain": [
       "{'Genre': 'multilabel',\n",
       " 'Tekstbånd': 'multilabel',\n",
       " 'Fremstillingsform': 'multilabel',\n",
       " 'Semantisk univers': 'multilabel',\n",
       " 'Stemmer': 'multilabel',\n",
       " 'Perspektiv': 'multiclass',\n",
       " 'Holistisk vurdering': 'multiclass'}"
      ]
     },
     "execution_count": 3,
     "metadata": {},
     "output_type": "execute_result"
    }
   ],
   "source": [
    "test"
   ]
  },
  {
   "cell_type": "code",
   "execution_count": 4,
   "id": "b23802be-8c9c-4a55-bebe-041e48c7c2c1",
   "metadata": {},
   "outputs": [],
   "source": [
    "SEED = 42\n",
    "NUM_EPOCHS = 3"
   ]
  },
  {
   "cell_type": "code",
   "execution_count": 5,
   "id": "33750bdc-562d-4251-9485-975dd9a42b0e",
   "metadata": {},
   "outputs": [
    {
     "name": "stdout",
     "output_type": "stream",
     "text": [
      "Loaded from disk: ./data/book_col_271120.pkl\n"
     ]
    }
   ],
   "source": [
    "## Load the data\n",
    "book_col = BookCollection(data_file=\"./data/book_col_271120.pkl\")"
   ]
  },
  {
   "cell_type": "code",
   "execution_count": 6,
   "id": "2d7da6c9-40d1-4e7c-b7ff-70d739129348",
   "metadata": {},
   "outputs": [
    {
     "name": "stdout",
     "output_type": "stream",
     "text": [
      "Loading fastText model...\n",
      "Loading complete!\n"
     ]
    },
    {
     "name": "stderr",
     "output_type": "stream",
     "text": [
      "Warning : `load_model` does not return WordVectorModel or SupervisedModel any more, but a `FastText` object which is very similar.\n"
     ]
    }
   ],
   "source": [
    "## Load fastText model\n",
    "# https://fasttext.cc/docs/en/crawl-vectors.html\n",
    "print('Loading fastText model...')\n",
    "ft = fasttext.load_model('fasttext_model/cc.da.300.bin')  # Download from fastTexts website\n",
    "print('Loading complete!')"
   ]
  },
  {
   "cell_type": "code",
   "execution_count": 22,
   "id": "b48074ee-0eb2-4cc5-9472-f070c7979f05",
   "metadata": {},
   "outputs": [],
   "source": [
    "settings = {\n",
    "    'multi_label': True,\n",
    "    'n_features': 300, \n",
    "    \"hidden_size\": 128,\n",
    "    \"num_layers\": 4,\n",
    "    'l1_size': 512,\n",
    "    'l2_size': 256,\n",
    "    \"dropout\": 0.2,\n",
    "    \"batch_size\": 64,\n",
    "    \"learning_rate\" : 1e-5,\n",
    "    \"output_size\": 5\n",
    "}\n",
    "\n",
    "num_folds = 10\n",
    "results1 = []\n",
    "results2 = []\n",
    "target_col = 'Semantisk univers'"
   ]
  },
  {
   "cell_type": "code",
   "execution_count": 23,
   "id": "fe83d7fb-1e1c-4534-8230-6bdd71712537",
   "metadata": {},
   "outputs": [
    {
     "name": "stdout",
     "output_type": "stream",
     "text": [
      "Seed has been set to 42\n",
      "Set to multi label classification\n"
     ]
    }
   ],
   "source": [
    "k=0\n",
    "set_seed(SEED)\n",
    "\n",
    "model = lstm_text(**settings)\n",
    "data = lstm_data(\n",
    "    book_col=book_col, \n",
    "    target_col=target_col, \n",
    "    ft=ft, \n",
    "    batch_size=settings['batch_size'], \n",
    "    seq_len=128,\n",
    "    seed=SEED,\n",
    "    k=k\n",
    ")"
   ]
  },
  {
   "cell_type": "code",
   "execution_count": 24,
   "id": "0e3ec7c2-7f9c-4b7e-9288-ec7afcff2a72",
   "metadata": {},
   "outputs": [],
   "source": [
    "data.prepare_data()\n",
    "data.setup()"
   ]
  },
  {
   "cell_type": "code",
   "execution_count": 25,
   "id": "0560dabc-c4f0-4992-9307-7e12c665864d",
   "metadata": {},
   "outputs": [],
   "source": [
    "book_colsample = next(iter(data.train_dataloader()))"
   ]
  },
  {
   "cell_type": "code",
   "execution_count": 26,
   "id": "8e3ca757-9460-4f0e-bd26-365dfdcec475",
   "metadata": {},
   "outputs": [],
   "source": [
    "book_ids, texts = clean_book_collection_texts(book_col, lowercase=False)"
   ]
  },
  {
   "cell_type": "code",
   "execution_count": 27,
   "id": "edb214d8-a3bd-4b5d-aa11-e33f1b7f8de2",
   "metadata": {},
   "outputs": [],
   "source": [
    "book_ids, X = get_fasttext_embeddings(book_col, ft, 128)"
   ]
  },
  {
   "cell_type": "code",
   "execution_count": 28,
   "id": "12078360-f5bd-49cb-ab45-bfc866e88549",
   "metadata": {},
   "outputs": [],
   "source": [
    "target_ids, targets, labels = get_labels(book_col, target_col)\n",
    "\n",
    "mask = torch.isin(torch.from_numpy(target_ids), torch.from_numpy(book_ids))\n",
    "y = torch.from_numpy(targets[mask]).float()"
   ]
  },
  {
   "cell_type": "code",
   "execution_count": 29,
   "id": "382475ab-b7ad-4a81-8562-f6ccc2146a39",
   "metadata": {},
   "outputs": [],
   "source": [
    "import torch\n",
    "sig = torch.nn.Sigmoid()"
   ]
  },
  {
   "cell_type": "code",
   "execution_count": 43,
   "id": "a6b912a0-782e-4ca3-a78d-f082dac941d5",
   "metadata": {},
   "outputs": [],
   "source": [
    "def compute_metrics(preds, targets, logit_func, multi_label, current='train'):\n",
    "    \"\"\" Function that compute relevant metrics to log \"\"\"\n",
    "    if multi_label:\n",
    "        preds = logit_func(preds)\n",
    "        acc_micro = accuracy(preds, targets, subset_accuracy=True)\n",
    "        acc_macro = multilabel_accuracy(preds, targets, num_labels=targets.shape[1])\n",
    "\n",
    "        metrics = {\n",
    "            f'{current}_step_acc_micro': acc_micro,\n",
    "            f'{current}_step_acc_macro': acc_macro\n",
    "        }\n",
    "    else:\n",
    "        preds = logit_func(preds)\n",
    "        acc = accuracy(preds, targets)\n",
    "\n",
    "        metrics = {f'{current}_acc_step': acc}\n",
    "\n",
    "    return metrics"
   ]
  },
  {
   "cell_type": "code",
   "execution_count": 44,
   "id": "284d2b95-0175-461b-bfb9-47e444e84dda",
   "metadata": {},
   "outputs": [],
   "source": [
    "preds = model(book_colsample[0])\n",
    "y = book_colsample[1].int()"
   ]
  },
  {
   "cell_type": "code",
   "execution_count": 45,
   "id": "462bcdfd-3045-43fe-9ac2-0dbcfa15793d",
   "metadata": {},
   "outputs": [
    {
     "data": {
      "text/plain": [
       "torch.Size([64, 5])"
      ]
     },
     "execution_count": 45,
     "metadata": {},
     "output_type": "execute_result"
    }
   ],
   "source": [
    "preds.shape"
   ]
  },
  {
   "cell_type": "code",
   "execution_count": 46,
   "id": "9978fec1-cad0-4755-a9f2-795357a1102e",
   "metadata": {},
   "outputs": [
    {
     "data": {
      "text/plain": [
       "{'val_step_acc_micro': tensor(0.), 'val_step_acc_macro': tensor(0.2813)}"
      ]
     },
     "execution_count": 46,
     "metadata": {},
     "output_type": "execute_result"
    }
   ],
   "source": [
    "compute_metrics(preds, y, sig, True, 'val')"
   ]
  },
  {
   "cell_type": "code",
   "execution_count": 17,
   "id": "0102ace4-5e91-4572-8ff0-5bd271f59ed0",
   "metadata": {},
   "outputs": [
    {
     "name": "stderr",
     "output_type": "stream",
     "text": [
      "d:\\github\\atel_speciale\\venv\\lib\\site-packages\\pytorch_lightning\\trainer\\connectors\\accelerator_connector.py:447: LightningDeprecationWarning: Setting `Trainer(gpus=1)` is deprecated in v1.7 and will be removed in v2.0. Please use `Trainer(accelerator='gpu', devices=1)` instead.\n",
      "  rank_zero_deprecation(\n",
      "GPU available: True (cuda), used: True\n",
      "TPU available: False, using: 0 TPU cores\n",
      "IPU available: False, using: 0 IPUs\n",
      "HPU available: False, using: 0 HPUs\n",
      "d:\\github\\atel_speciale\\venv\\lib\\site-packages\\pytorch_lightning\\callbacks\\model_checkpoint.py:616: UserWarning: Checkpoint directory D:\\Github\\ATEL_speciale\\checkpoints exists and is not empty.\n",
      "  rank_zero_warn(f\"Checkpoint directory {dirpath} exists and is not empty.\")\n",
      "LOCAL_RANK: 0 - CUDA_VISIBLE_DEVICES: [0]\n",
      "\n",
      "  | Name       | Type              | Params\n",
      "-------------------------------------------------\n",
      "0 | lstm       | LSTM              | 38.5 M\n",
      "1 | dropout    | Dropout           | 0     \n",
      "2 | l1         | Linear            | 2.1 M \n",
      "3 | out_layer  | Linear            | 10.8 K\n",
      "4 | loss_func  | BCEWithLogitsLoss | 0     \n",
      "5 | accuracy   | Accuracy          | 0     \n",
      "6 | logit_func | Sigmoid           | 0     \n",
      "-------------------------------------------------\n",
      "40.6 M    Trainable params\n",
      "0         Non-trainable params\n",
      "40.6 M    Total params\n",
      "162.443   Total estimated model params size (MB)\n"
     ]
    },
    {
     "name": "stdout",
     "output_type": "stream",
     "text": [
      "Epoch 0:  89%|███████████████████████████████████████████████████████████████████████████████████████████████████████████████████████████████████████████▍                | 59/66 [00:29<00:03,  1.97it/s, loss=0.689]\n",
      "Validation: 0it [00:00, ?it/s]\u001b[A\n",
      "Validation:   0%|                                                                                                                                                                               | 0/7 [00:00<?, ?it/s]\u001b[A\n",
      "Validation DataLoader 0:   0%|                                                                                                                                                                  | 0/7 [00:00<?, ?it/s]\u001b[A\n",
      "Epoch 0:  91%|█████████████████████████████████████████████████████████████████████████████████████████████████████████████████████████████████████████████▊              | 60/66 [00:30<00:03,  1.99it/s, loss=0.689]\u001b[A\n",
      "Epoch 0:  92%|████████████████████████████████████████████████████████████████████████████████████████████████████████████████████████████████████████████████▏           | 61/66 [00:30<00:02,  2.01it/s, loss=0.689]\u001b[A\n",
      "Epoch 0:  94%|██████████████████████████████████████████████████████████████████████████████████████████████████████████████████████████████████████████████████▌         | 62/66 [00:30<00:01,  2.02it/s, loss=0.689]\u001b[A\n",
      "Epoch 0:  95%|████████████████████████████████████████████████████████████████████████████████████████████████████████████████████████████████████████████████████▉       | 63/66 [00:30<00:01,  2.04it/s, loss=0.689]\u001b[A\n",
      "Epoch 0:  97%|███████████████████████████████████████████████████████████████████████████████████████████████████████████████████████████████████████████████████████▎    | 64/66 [00:31<00:00,  2.06it/s, loss=0.689]\u001b[A\n",
      "Epoch 0:  98%|█████████████████████████████████████████████████████████████████████████████████████████████████████████████████████████████████████████████████████████▋  | 65/66 [00:31<00:00,  2.07it/s, loss=0.689]\u001b[A\n",
      "Epoch 0: 100%|████████████████████████████████████████████████████████████████████████████████████████████████████████████████████████████████████████████████████████████| 66/66 [00:31<00:00,  2.09it/s, loss=0.689]\u001b[A\n",
      "Epoch 1:  89%|███████████████████████████████████████████████████████████████████████████████████████████████████████████████████████████████████████████▍                | 59/66 [00:29<00:03,  1.99it/s, loss=0.281]\u001b[A\n",
      "Validation: 0it [00:00, ?it/s]\u001b[A\n",
      "Validation:   0%|                                                                                                                                                                               | 0/7 [00:00<?, ?it/s]\u001b[A\n",
      "Validation DataLoader 0:   0%|                                                                                                                                                                  | 0/7 [00:00<?, ?it/s]\u001b[A\n",
      "Epoch 1:  91%|█████████████████████████████████████████████████████████████████████████████████████████████████████████████████████████████████████████████▊              | 60/66 [00:29<00:02,  2.00it/s, loss=0.281]\u001b[A\n",
      "Epoch 1:  92%|████████████████████████████████████████████████████████████████████████████████████████████████████████████████████████████████████████████████▏           | 61/66 [00:30<00:02,  2.02it/s, loss=0.281]\u001b[A\n",
      "Epoch 1:  94%|██████████████████████████████████████████████████████████████████████████████████████████████████████████████████████████████████████████████████▌         | 62/66 [00:30<00:01,  2.04it/s, loss=0.281]\u001b[A\n",
      "Epoch 1:  95%|████████████████████████████████████████████████████████████████████████████████████████████████████████████████████████████████████████████████████▉       | 63/66 [00:30<00:01,  2.05it/s, loss=0.281]\u001b[A\n",
      "Epoch 1:  97%|███████████████████████████████████████████████████████████████████████████████████████████████████████████████████████████████████████████████████████▎    | 64/66 [00:30<00:00,  2.07it/s, loss=0.281]\u001b[A\n",
      "Epoch 1:  98%|█████████████████████████████████████████████████████████████████████████████████████████████████████████████████████████████████████████████████████████▋  | 65/66 [00:31<00:00,  2.09it/s, loss=0.281]\u001b[A\n",
      "Epoch 1: 100%|████████████████████████████████████████████████████████████████████████████████████████████████████████████████████████████████████████████████████████████| 66/66 [00:31<00:00,  2.10it/s, loss=0.281]\u001b[A\n",
      "Epoch 2:  89%|███████████████████████████████████████████████████████████████████████████████████████████████████████████████████████████████████████████▍                | 59/66 [00:29<00:03,  1.99it/s, loss=0.205]\u001b[A\n",
      "Validation: 0it [00:00, ?it/s]\u001b[A\n",
      "Validation:   0%|                                                                                                                                                                               | 0/7 [00:00<?, ?it/s]\u001b[A\n",
      "Validation DataLoader 0:   0%|                                                                                                                                                                  | 0/7 [00:00<?, ?it/s]\u001b[A\n",
      "Epoch 2:  91%|█████████████████████████████████████████████████████████████████████████████████████████████████████████████████████████████████████████████▊              | 60/66 [00:29<00:02,  2.01it/s, loss=0.205]\u001b[A\n",
      "Epoch 2:  92%|████████████████████████████████████████████████████████████████████████████████████████████████████████████████████████████████████████████████▏           | 61/66 [00:30<00:02,  2.03it/s, loss=0.205]\u001b[A\n",
      "Epoch 2:  94%|██████████████████████████████████████████████████████████████████████████████████████████████████████████████████████████████████████████████████▌         | 62/66 [00:30<00:01,  2.04it/s, loss=0.205]\u001b[A\n",
      "Epoch 2:  95%|████████████████████████████████████████████████████████████████████████████████████████████████████████████████████████████████████████████████████▉       | 63/66 [00:30<00:01,  2.06it/s, loss=0.205]\u001b[A\n",
      "Epoch 2:  97%|███████████████████████████████████████████████████████████████████████████████████████████████████████████████████████████████████████████████████████▎    | 64/66 [00:30<00:00,  2.08it/s, loss=0.205]\u001b[A\n",
      "Epoch 2:  98%|█████████████████████████████████████████████████████████████████████████████████████████████████████████████████████████████████████████████████████████▋  | 65/66 [00:31<00:00,  2.09it/s, loss=0.205]\u001b[A\n",
      "Epoch 2: 100%|████████████████████████████████████████████████████████████████████████████████████████████████████████████████████████████████████████████████████████████| 66/66 [00:31<00:00,  2.11it/s, loss=0.205]\u001b[A\n",
      "Epoch 2: 100%|████████████████████████████████████████████████████████████████████████████████████████████████████████████████████████████████████████████████████████████| 66/66 [00:31<00:00,  2.11it/s, loss=0.205]\u001b[A"
     ]
    },
    {
     "name": "stderr",
     "output_type": "stream",
     "text": [
      "`Trainer.fit` stopped: `max_epochs=3` reached.\n"
     ]
    },
    {
     "name": "stdout",
     "output_type": "stream",
     "text": [
      "Epoch 2: 100%|████████████████████████████████████████████████████████████████████████████████████████████████████████████████████████████████████████████████████████████| 66/66 [00:34<00:00,  1.93it/s, loss=0.205]\n"
     ]
    },
    {
     "name": "stderr",
     "output_type": "stream",
     "text": [
      "LOCAL_RANK: 0 - CUDA_VISIBLE_DEVICES: [0]\n"
     ]
    },
    {
     "name": "stdout",
     "output_type": "stream",
     "text": [
      "Validation DataLoader 0: 100%|██████████████████████████████████████████████████████████████████████████████████████████████████████████████████████████████████████████████████████████| 7/7 [00:01<00:00,  4.27it/s]\n",
      "───────────────────────────────────────────────────────────────────────────────────────────────────────────────────────────────────────────────────────────────────────────────────────────────────────────────────────\n",
      "     Validate metric           DataLoader 0\n",
      "───────────────────────────────────────────────────────────────────────────────────────────────────────────────────────────────────────────────────────────────────────────────────────────────────────────────────────\n",
      "       avg_val_acc          0.01190476305782795\n",
      "      avg_val_loss          0.1966143101453781\n",
      "      val_acc_step         0.012820512987673283\n",
      "      val_loss_step         0.19722263514995575\n",
      "───────────────────────────────────────────────────────────────────────────────────────────────────────────────────────────────────────────────────────────────────────────────────────────────────────────────────────\n"
     ]
    }
   ],
   "source": [
    "logger = pl.loggers.TensorBoardLogger(save_dir='lightning_logs', name=f'{target_col}-cv{k}-max_epoch_{NUM_EPOCHS}')\n",
    "\n",
    "trainer = Trainer(\n",
    "    max_epochs = NUM_EPOCHS,\n",
    "    gpus = 1 if torch.cuda.is_available() else 0,\n",
    "    log_every_n_steps = 1,\n",
    "    logger = None\n",
    ")\n",
    "trainer.fit(model, data)\n",
    "\n",
    "val_scores = trainer.validate(model, data)[0]"
   ]
  },
  {
   "cell_type": "code",
   "execution_count": null,
   "id": "207a75e7-6519-42e3-8720-df030966800d",
   "metadata": {},
   "outputs": [],
   "source": []
  }
 ],
 "metadata": {
  "kernelspec": {
   "display_name": "Python 3.8.10 ('venv': venv)",
   "language": "python",
   "name": "python3"
  },
  "language_info": {
   "codemirror_mode": {
    "name": "ipython",
    "version": 3
   },
   "file_extension": ".py",
   "mimetype": "text/x-python",
   "name": "python",
   "nbconvert_exporter": "python",
   "pygments_lexer": "ipython3",
   "version": "3.8.10"
  },
  "vscode": {
   "interpreter": {
    "hash": "000d89547fc55ae922e486db18b5beb8a5f917b898b89eb599cdd184a9733888"
   }
  }
 },
 "nbformat": 4,
 "nbformat_minor": 5
}
