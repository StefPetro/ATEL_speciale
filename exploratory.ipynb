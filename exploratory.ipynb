{
 "cells": [
  {
   "cell_type": "markdown",
   "metadata": {},
   "source": [
    "# Exploratory Data Analysis"
   ]
  },
  {
   "cell_type": "code",
   "execution_count": 76,
   "metadata": {},
   "outputs": [],
   "source": [
    "import matplotlib.pyplot as plt\n",
    "import numpy as np\n",
    "import pandas as pd"
   ]
  },
  {
   "cell_type": "code",
   "execution_count": 2,
   "metadata": {},
   "outputs": [
    {
     "name": "stdout",
     "output_type": "stream",
     "text": [
      "Loaded from disk: ./book_col_271120.pkl\n"
     ]
    }
   ],
   "source": [
    "# packages and load\n",
    "from atel.data import BookCollection\n",
    "book_col = BookCollection(data_file='./book_col_271120.pkl')"
   ]
  },
  {
   "cell_type": "code",
   "execution_count": 3,
   "metadata": {},
   "outputs": [
    {
     "name": "stdout",
     "output_type": "stream",
     "text": [
      "Number of books: 803\n"
     ]
    }
   ],
   "source": [
    "# Total number of books\n",
    "print(f'Number of books: {book_col.num_books}')"
   ]
  },
  {
   "cell_type": "code",
   "execution_count": 4,
   "metadata": {},
   "outputs": [
    {
     "name": "stdout",
     "output_type": "stream",
     "text": [
      "\tGenre                    \t['Selvportræt']\n",
      "\tAttitude                 \t['Bedømmelse positiv']\n",
      "\tStavning                 \t['Semifonetisk']\n",
      "\tPerspektiv               \tEksplicit fortæller\n",
      "\tTekstbånd                \t\n",
      "\tFremstillingsform        \t['Beskrivende']\n",
      "\tSemantisk univers        \t['Mennesker']\n",
      "\tHolistisk vurdering      \t1\n",
      "\tStemmer                  \t['En stemme']\n"
     ]
    }
   ],
   "source": [
    "for key, value in book_col[0].code_dict.items():\n",
    "    print(f\"\\t{key:25s}\\t{value}\")"
   ]
  },
  {
   "cell_type": "code",
   "execution_count": 108,
   "metadata": {},
   "outputs": [
    {
     "name": "stdout",
     "output_type": "stream",
     "text": [
      "509\n"
     ]
    }
   ],
   "source": [
    "features = []\n",
    "\n",
    "for i in range(book_col.num_books):\n",
    "    if book_col[i].code_dict is None:\n",
    "        print(i)\n",
    "        continue\n",
    "    else:\n",
    "        features.append(book_col[i].code_dict)"
   ]
  },
  {
   "cell_type": "markdown",
   "metadata": {},
   "source": [
    "Here, we notice that book with index 509 does not have a `code_dict` describing the features"
   ]
  },
  {
   "cell_type": "code",
   "execution_count": 120,
   "metadata": {},
   "outputs": [],
   "source": [
    "feat_df = pd.DataFrame(features)"
   ]
  },
  {
   "cell_type": "code",
   "execution_count": 182,
   "metadata": {},
   "outputs": [
    {
     "data": {
      "text/html": [
       "<div>\n",
       "<style scoped>\n",
       "    .dataframe tbody tr th:only-of-type {\n",
       "        vertical-align: middle;\n",
       "    }\n",
       "\n",
       "    .dataframe tbody tr th {\n",
       "        vertical-align: top;\n",
       "    }\n",
       "\n",
       "    .dataframe thead th {\n",
       "        text-align: right;\n",
       "    }\n",
       "</style>\n",
       "<table border=\"1\" class=\"dataframe\">\n",
       "  <thead>\n",
       "    <tr style=\"text-align: right;\">\n",
       "      <th></th>\n",
       "      <th>Genre</th>\n",
       "      <th>Attitude</th>\n",
       "      <th>Stavning</th>\n",
       "      <th>Perspektiv</th>\n",
       "      <th>Tekstbånd</th>\n",
       "      <th>Fremstillingsform</th>\n",
       "      <th>Semantisk univers</th>\n",
       "      <th>Holistisk vurdering</th>\n",
       "      <th>Stemmer</th>\n",
       "      <th>Forbindere</th>\n",
       "      <th>Interjektioner</th>\n",
       "      <th>Metaforbrug</th>\n",
       "      <th>Noter</th>\n",
       "    </tr>\n",
       "  </thead>\n",
       "  <tbody>\n",
       "    <tr>\n",
       "      <th>0</th>\n",
       "      <td>[Selvportræt]</td>\n",
       "      <td>[Bedømmelse positiv]</td>\n",
       "      <td>[Semifonetisk]</td>\n",
       "      <td>Eksplicit fortæller</td>\n",
       "      <td></td>\n",
       "      <td>[Beskrivende]</td>\n",
       "      <td>[Mennesker]</td>\n",
       "      <td>1</td>\n",
       "      <td>[En stemme]</td>\n",
       "      <td>NaN</td>\n",
       "      <td>NaN</td>\n",
       "      <td>NaN</td>\n",
       "      <td>NaN</td>\n",
       "    </tr>\n",
       "    <tr>\n",
       "      <th>1</th>\n",
       "      <td>[Rim og remser]</td>\n",
       "      <td>NaN</td>\n",
       "      <td>[Fonetisk]</td>\n",
       "      <td>Implicit fortæller</td>\n",
       "      <td>[Semantisk]</td>\n",
       "      <td>[Beskrivende]</td>\n",
       "      <td>[Vilde dyr]</td>\n",
       "      <td>1</td>\n",
       "      <td>[En stemme]</td>\n",
       "      <td>NaN</td>\n",
       "      <td>NaN</td>\n",
       "      <td>NaN</td>\n",
       "      <td>NaN</td>\n",
       "    </tr>\n",
       "    <tr>\n",
       "      <th>2</th>\n",
       "      <td></td>\n",
       "      <td>[Følelse 1. person]</td>\n",
       "      <td>[Semifonetisk]</td>\n",
       "      <td>Eksplicit fortæller</td>\n",
       "      <td>NaN</td>\n",
       "      <td>[Beskrivende]</td>\n",
       "      <td>[Mig selv]</td>\n",
       "      <td>0</td>\n",
       "      <td>[En stemme]</td>\n",
       "      <td>[Tilføjelse]</td>\n",
       "      <td>NaN</td>\n",
       "      <td>NaN</td>\n",
       "      <td>NaN</td>\n",
       "    </tr>\n",
       "    <tr>\n",
       "      <th>3</th>\n",
       "      <td>[Hverdagsbeskrivelse]</td>\n",
       "      <td>NaN</td>\n",
       "      <td>[Semifonetisk, Fonetisk]</td>\n",
       "      <td>Implicit fortæller</td>\n",
       "      <td>NaN</td>\n",
       "      <td>[Beskrivende]</td>\n",
       "      <td>[Kæledyr]</td>\n",
       "      <td>1</td>\n",
       "      <td>[En stemme]</td>\n",
       "      <td>NaN</td>\n",
       "      <td>NaN</td>\n",
       "      <td>NaN</td>\n",
       "      <td>NaN</td>\n",
       "    </tr>\n",
       "    <tr>\n",
       "      <th>4</th>\n",
       "      <td>[Hverdagsbeskrivelse]</td>\n",
       "      <td>[Følelse 3. person]</td>\n",
       "      <td>[Konventionel skrivning]</td>\n",
       "      <td>Implicit fortæller</td>\n",
       "      <td>NaN</td>\n",
       "      <td>[Beskrivende]</td>\n",
       "      <td>[Familie]</td>\n",
       "      <td>2</td>\n",
       "      <td>[En stemme]</td>\n",
       "      <td>NaN</td>\n",
       "      <td>[Attitude]</td>\n",
       "      <td>NaN</td>\n",
       "      <td>NaN</td>\n",
       "    </tr>\n",
       "    <tr>\n",
       "      <th>...</th>\n",
       "      <td>...</td>\n",
       "      <td>...</td>\n",
       "      <td>...</td>\n",
       "      <td>...</td>\n",
       "      <td>...</td>\n",
       "      <td>...</td>\n",
       "      <td>...</td>\n",
       "      <td>...</td>\n",
       "      <td>...</td>\n",
       "      <td>...</td>\n",
       "      <td>...</td>\n",
       "      <td>...</td>\n",
       "      <td>...</td>\n",
       "    </tr>\n",
       "    <tr>\n",
       "      <th>797</th>\n",
       "      <td>[Fagbog]</td>\n",
       "      <td>[Bedømmelse positiv, Vurdering positiv]</td>\n",
       "      <td>[Overgangsskrivning]</td>\n",
       "      <td>Implicit fortæller</td>\n",
       "      <td>[Pronominel]</td>\n",
       "      <td>[Beskrivende]</td>\n",
       "      <td>[Bøger, film, musik, computerspil]</td>\n",
       "      <td>3</td>\n",
       "      <td>[Flere konkrete stemmer]</td>\n",
       "      <td>[Tid, Modsætning]</td>\n",
       "      <td>NaN</td>\n",
       "      <td>NaN</td>\n",
       "      <td>NaN</td>\n",
       "    </tr>\n",
       "    <tr>\n",
       "      <th>798</th>\n",
       "      <td>[Særdagsberetning]</td>\n",
       "      <td>[Vurdering positiv]</td>\n",
       "      <td>[Konventionel skrivning]</td>\n",
       "      <td>Eksplicit fortæller</td>\n",
       "      <td>[Pronominel]</td>\n",
       "      <td>[Berettende, Instruerende, Holdningstilkendegi...</td>\n",
       "      <td>[Oplevelse]</td>\n",
       "      <td>5</td>\n",
       "      <td>[En stemme]</td>\n",
       "      <td>[Tid, Årsag, Modsætning, Tilføjelse]</td>\n",
       "      <td>NaN</td>\n",
       "      <td>NaN</td>\n",
       "      <td>NaN</td>\n",
       "    </tr>\n",
       "    <tr>\n",
       "      <th>799</th>\n",
       "      <td>[Hverdagsbeskrivelse]</td>\n",
       "      <td>[Bedømmelse positiv]</td>\n",
       "      <td>[Konventionel skrivning]</td>\n",
       "      <td>Implicit fortæller</td>\n",
       "      <td>NaN</td>\n",
       "      <td>[Holdningstilkendegivelse]</td>\n",
       "      <td>[Kæledyr]</td>\n",
       "      <td>1</td>\n",
       "      <td>[En stemme]</td>\n",
       "      <td>NaN</td>\n",
       "      <td>NaN</td>\n",
       "      <td>NaN</td>\n",
       "      <td>NaN</td>\n",
       "    </tr>\n",
       "    <tr>\n",
       "      <th>800</th>\n",
       "      <td>[Hverdagsbeskrivelse]</td>\n",
       "      <td>NaN</td>\n",
       "      <td>[Konventionel skrivning]</td>\n",
       "      <td>Eksplicit fortæller</td>\n",
       "      <td>NaN</td>\n",
       "      <td>[Beskrivende]</td>\n",
       "      <td>[Skole]</td>\n",
       "      <td>2</td>\n",
       "      <td>[En stemme]</td>\n",
       "      <td>[Modsætning]</td>\n",
       "      <td>NaN</td>\n",
       "      <td>NaN</td>\n",
       "      <td>NaN</td>\n",
       "    </tr>\n",
       "    <tr>\n",
       "      <th>801</th>\n",
       "      <td>[Hverdagsberetning]</td>\n",
       "      <td>[Følelse 1. person]</td>\n",
       "      <td>[Konventionel skrivning]</td>\n",
       "      <td>Eksplicit fortæller</td>\n",
       "      <td>[Pronominel]</td>\n",
       "      <td>[Berettende]</td>\n",
       "      <td>[Skole]</td>\n",
       "      <td>4</td>\n",
       "      <td>[En stemme]</td>\n",
       "      <td>[Tid, Tilføjelse]</td>\n",
       "      <td>NaN</td>\n",
       "      <td>NaN</td>\n",
       "      <td>NaN</td>\n",
       "    </tr>\n",
       "  </tbody>\n",
       "</table>\n",
       "<p>802 rows × 13 columns</p>\n",
       "</div>"
      ],
      "text/plain": [
       "                     Genre                                 Attitude  \\\n",
       "0            [Selvportræt]                     [Bedømmelse positiv]   \n",
       "1          [Rim og remser]                                      NaN   \n",
       "2                                               [Følelse 1. person]   \n",
       "3    [Hverdagsbeskrivelse]                                      NaN   \n",
       "4    [Hverdagsbeskrivelse]                      [Følelse 3. person]   \n",
       "..                     ...                                      ...   \n",
       "797               [Fagbog]  [Bedømmelse positiv, Vurdering positiv]   \n",
       "798     [Særdagsberetning]                      [Vurdering positiv]   \n",
       "799  [Hverdagsbeskrivelse]                     [Bedømmelse positiv]   \n",
       "800  [Hverdagsbeskrivelse]                                      NaN   \n",
       "801    [Hverdagsberetning]                      [Følelse 1. person]   \n",
       "\n",
       "                     Stavning           Perspektiv     Tekstbånd  \\\n",
       "0              [Semifonetisk]  Eksplicit fortæller                 \n",
       "1                  [Fonetisk]   Implicit fortæller   [Semantisk]   \n",
       "2              [Semifonetisk]  Eksplicit fortæller           NaN   \n",
       "3    [Semifonetisk, Fonetisk]   Implicit fortæller           NaN   \n",
       "4    [Konventionel skrivning]   Implicit fortæller           NaN   \n",
       "..                        ...                  ...           ...   \n",
       "797      [Overgangsskrivning]   Implicit fortæller  [Pronominel]   \n",
       "798  [Konventionel skrivning]  Eksplicit fortæller  [Pronominel]   \n",
       "799  [Konventionel skrivning]   Implicit fortæller           NaN   \n",
       "800  [Konventionel skrivning]  Eksplicit fortæller           NaN   \n",
       "801  [Konventionel skrivning]  Eksplicit fortæller  [Pronominel]   \n",
       "\n",
       "                                     Fremstillingsform  \\\n",
       "0                                        [Beskrivende]   \n",
       "1                                        [Beskrivende]   \n",
       "2                                        [Beskrivende]   \n",
       "3                                        [Beskrivende]   \n",
       "4                                        [Beskrivende]   \n",
       "..                                                 ...   \n",
       "797                                      [Beskrivende]   \n",
       "798  [Berettende, Instruerende, Holdningstilkendegi...   \n",
       "799                         [Holdningstilkendegivelse]   \n",
       "800                                      [Beskrivende]   \n",
       "801                                       [Berettende]   \n",
       "\n",
       "                      Semantisk univers Holistisk vurdering  \\\n",
       "0                           [Mennesker]                   1   \n",
       "1                           [Vilde dyr]                   1   \n",
       "2                            [Mig selv]                   0   \n",
       "3                             [Kæledyr]                   1   \n",
       "4                             [Familie]                   2   \n",
       "..                                  ...                 ...   \n",
       "797  [Bøger, film, musik, computerspil]                   3   \n",
       "798                         [Oplevelse]                   5   \n",
       "799                           [Kæledyr]                   1   \n",
       "800                             [Skole]                   2   \n",
       "801                             [Skole]                   4   \n",
       "\n",
       "                      Stemmer                            Forbindere  \\\n",
       "0                 [En stemme]                                   NaN   \n",
       "1                 [En stemme]                                   NaN   \n",
       "2                 [En stemme]                          [Tilføjelse]   \n",
       "3                 [En stemme]                                   NaN   \n",
       "4                 [En stemme]                                   NaN   \n",
       "..                        ...                                   ...   \n",
       "797  [Flere konkrete stemmer]                     [Tid, Modsætning]   \n",
       "798               [En stemme]  [Tid, Årsag, Modsætning, Tilføjelse]   \n",
       "799               [En stemme]                                   NaN   \n",
       "800               [En stemme]                          [Modsætning]   \n",
       "801               [En stemme]                     [Tid, Tilføjelse]   \n",
       "\n",
       "    Interjektioner Metaforbrug Noter  \n",
       "0              NaN         NaN   NaN  \n",
       "1              NaN         NaN   NaN  \n",
       "2              NaN         NaN   NaN  \n",
       "3              NaN         NaN   NaN  \n",
       "4       [Attitude]         NaN   NaN  \n",
       "..             ...         ...   ...  \n",
       "797            NaN         NaN   NaN  \n",
       "798            NaN         NaN   NaN  \n",
       "799            NaN         NaN   NaN  \n",
       "800            NaN         NaN   NaN  \n",
       "801            NaN         NaN   NaN  \n",
       "\n",
       "[802 rows x 13 columns]"
      ]
     },
     "execution_count": 182,
     "metadata": {},
     "output_type": "execute_result"
    }
   ],
   "source": [
    "feat_df"
   ]
  },
  {
   "cell_type": "markdown",
   "metadata": {},
   "source": [
    "We see that some of the features have lists as values, e.g. one book can belong to multiple genres, accordingly to the PDF that is given as a supplement. These features are `Genre`, `Attitude`, `Stavning`, `Perspektiv`, `Tekstbånd`, `Fremstillingsform`, `Semantisk univers`, `Stemmer`, `Forbindere`, `Interjektioner`.\n",
    "\n",
    "Let us take a closer look at how many of these exactly belong to multiple categories:"
   ]
  },
  {
   "cell_type": "code",
   "execution_count": 195,
   "metadata": {},
   "outputs": [
    {
     "data": {
      "text/plain": [
       "1    781\n",
       "0     15\n",
       "2      6\n",
       "Name: Genre, dtype: int64"
      ]
     },
     "execution_count": 195,
     "metadata": {},
     "output_type": "execute_result"
    }
   ],
   "source": [
    "feat_df.Genre.map(lambda x: len(x) if type(x) == list else 0).value_counts()"
   ]
  },
  {
   "cell_type": "code",
   "execution_count": 196,
   "metadata": {},
   "outputs": [
    {
     "data": {
      "text/plain": [
       "0    351\n",
       "1    279\n",
       "2    111\n",
       "3     53\n",
       "4      7\n",
       "5      1\n",
       "Name: Attitude, dtype: int64"
      ]
     },
     "execution_count": 196,
     "metadata": {},
     "output_type": "execute_result"
    }
   ],
   "source": [
    "feat_df.Attitude.map(lambda x: len(x) if type(x) == list else 0).value_counts()"
   ]
  },
  {
   "cell_type": "code",
   "execution_count": 197,
   "metadata": {},
   "outputs": [
    {
     "data": {
      "text/plain": [
       "1    780\n",
       "2     12\n",
       "0     10\n",
       "Name: Stavning, dtype: int64"
      ]
     },
     "execution_count": 197,
     "metadata": {},
     "output_type": "execute_result"
    }
   ],
   "source": [
    "feat_df.Stavning.map(lambda x: len(x) if type(x) == list else 0).value_counts()"
   ]
  },
  {
   "cell_type": "code",
   "execution_count": 181,
   "metadata": {},
   "outputs": [
    {
     "data": {
      "text/plain": [
       "1    277\n",
       "0    205\n",
       "2    204\n",
       "3     96\n",
       "4     20\n",
       "Name: Tekstbånd, dtype: int64"
      ]
     },
     "execution_count": 181,
     "metadata": {},
     "output_type": "execute_result"
    }
   ],
   "source": [
    "feat_df.Tekstbånd.map(lambda x: len(x) if type(x) == list else 0).value_counts()"
   ]
  },
  {
   "cell_type": "code",
   "execution_count": 198,
   "metadata": {},
   "outputs": [
    {
     "data": {
      "text/plain": [
       "1    582\n",
       "2    147\n",
       "0     45\n",
       "3     28\n",
       "Name: Fremstillingsform, dtype: int64"
      ]
     },
     "execution_count": 198,
     "metadata": {},
     "output_type": "execute_result"
    }
   ],
   "source": [
    "feat_df.Fremstillingsform.map(lambda x: len(x) if type(x) == list else 0).value_counts()"
   ]
  },
  {
   "cell_type": "code",
   "execution_count": 200,
   "metadata": {},
   "outputs": [
    {
     "data": {
      "text/plain": [
       "1    739\n",
       "2     40\n",
       "0     16\n",
       "3      6\n",
       "4      1\n",
       "Name: Semantisk univers, dtype: int64"
      ]
     },
     "execution_count": 200,
     "metadata": {},
     "output_type": "execute_result"
    }
   ],
   "source": [
    "feat_df['Semantisk univers'].map(lambda x: len(x) if type(x) == list else 0).value_counts()"
   ]
  },
  {
   "cell_type": "code",
   "execution_count": 201,
   "metadata": {},
   "outputs": [
    {
     "data": {
      "text/plain": [
       "1    790\n",
       "0      8\n",
       "2      4\n",
       "Name: Stemmer, dtype: int64"
      ]
     },
     "execution_count": 201,
     "metadata": {},
     "output_type": "execute_result"
    }
   ],
   "source": [
    "feat_df.Stemmer.map(lambda x: len(x) if type(x) == list else 0).value_counts()"
   ]
  },
  {
   "cell_type": "code",
   "execution_count": 202,
   "metadata": {},
   "outputs": [
    {
     "data": {
      "text/plain": [
       "0    430\n",
       "1    208\n",
       "2     98\n",
       "3     42\n",
       "4     20\n",
       "5      4\n",
       "Name: Forbindere, dtype: int64"
      ]
     },
     "execution_count": 202,
     "metadata": {},
     "output_type": "execute_result"
    }
   ],
   "source": [
    "feat_df.Forbindere.map(lambda x: len(x) if type(x) == list else 0).value_counts()"
   ]
  },
  {
   "cell_type": "code",
   "execution_count": 203,
   "metadata": {},
   "outputs": [
    {
     "data": {
      "text/plain": [
       "0    656\n",
       "1    130\n",
       "2     16\n",
       "Name: Interjektioner, dtype: int64"
      ]
     },
     "execution_count": 203,
     "metadata": {},
     "output_type": "execute_result"
    }
   ],
   "source": [
    "feat_df.Interjektioner.map(lambda x: len(x) if type(x) == list else 0).value_counts()"
   ]
  },
  {
   "cell_type": "markdown",
   "metadata": {},
   "source": [
    "*Hvad ser vi?*"
   ]
  },
  {
   "cell_type": "code",
   "execution_count": 180,
   "metadata": {},
   "outputs": [
    {
     "data": {
      "text/plain": [
       "Implicit fortæller     480\n",
       "Eksplicit fortæller    322\n",
       "Name: Perspektiv, dtype: int64"
      ]
     },
     "execution_count": 180,
     "metadata": {},
     "output_type": "execute_result"
    }
   ],
   "source": [
    "feat_df.Perspektiv.value_counts()"
   ]
  },
  {
   "cell_type": "code",
   "execution_count": 205,
   "metadata": {},
   "outputs": [
    {
     "data": {
      "text/plain": [
       "<AxesSubplot:>"
      ]
     },
     "execution_count": 205,
     "metadata": {},
     "output_type": "execute_result"
    },
    {
     "data": {
      "image/png": "[encoded data removed]",
      "text/plain": [
       "<Figure size 432x288 with 1 Axes>"
      ]
     },
     "metadata": {
      "needs_background": "light"
     },
     "output_type": "display_data"
    }
   ],
   "source": [
    "feat_df.Perspektiv.value_counts().plot(kind='bar')"
   ]
  },
  {
   "cell_type": "code",
   "execution_count": null,
   "metadata": {},
   "outputs": [],
   "source": []
  }
 ],
 "metadata": {
  "kernelspec": {
   "display_name": "Python 3 (ipykernel)",
   "language": "python",
   "name": "python3"
  },
  "language_info": {
   "codemirror_mode": {
    "name": "ipython",
    "version": 3
   },
   "file_extension": ".py",
   "mimetype": "text/x-python",
   "name": "python",
   "nbconvert_exporter": "python",
   "pygments_lexer": "ipython3",
   "version": "3.9.7"
  },
  "toc": {
   "base_numbering": 1,
   "nav_menu": {},
   "number_sections": false,
   "sideBar": true,
   "skip_h1_title": true,
   "title_cell": "Table of Contents",
   "title_sidebar": "Contents",
   "toc_cell": false,
   "toc_position": {},
   "toc_section_display": true,
   "toc_window_display": false
  },
  "vscode": {
   "interpreter": {
    "hash": "e3c2552d543767c7021039955f1dae6c5ac216b32eea80d25433b50ae5abd1f9"
   }
  }
 },
 "nbformat": 4,
 "nbformat_minor": 2
}
