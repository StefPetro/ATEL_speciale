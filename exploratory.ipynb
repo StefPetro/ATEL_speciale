{
 "cells": [
  {
   "cell_type": "markdown",
   "metadata": {},
   "source": [
    "# Exploratory Data Analysis"
   ]
  },
  {
   "cell_type": "code",
   "execution_count": 1,
   "metadata": {},
   "outputs": [
    {
     "name": "stdout",
     "output_type": "stream",
     "text": [
      "Loaded from disk: ./book_col_271120.pkl\n"
     ]
    }
   ],
   "source": [
    "# packages and load\n",
    "from atel.data import BookCollection\n",
    "book_col = BookCollection(data_file='./book_col_271120.pkl')"
   ]
  },
  {
   "cell_type": "code",
   "execution_count": 2,
   "metadata": {},
   "outputs": [
    {
     "name": "stdout",
     "output_type": "stream",
     "text": [
      "Number of books: 803\n"
     ]
    }
   ],
   "source": [
    "# Total number of books\n",
    "print(f'Number of books: {book_col.num_books}')"
   ]
  },
  {
   "cell_type": "code",
   "execution_count": 17,
   "metadata": {},
   "outputs": [
    {
     "name": "stdout",
     "output_type": "stream",
     "text": [
      "\tGenre                    \t['Selvportræt']\n",
      "\tAttitude                 \t['Bedømmelse positiv']\n",
      "\tStavning                 \t['Semifonetisk']\n",
      "\tPerspektiv               \tEksplicit fortæller\n",
      "\tTekstbånd                \t\n",
      "\tFremstillingsform        \t['Beskrivende']\n",
      "\tSemantisk univers        \t['Mennesker']\n",
      "\tHolistisk vurdering      \t1\n",
      "\tStemmer                  \t['En stemme']\n"
     ]
    }
   ],
   "source": [
    "for key, value in book_col[0].code_dict.items():\n",
    "    print(f\"\\t{key:25s}\\t{value}\")"
   ]
  },
  {
   "cell_type": "code",
   "execution_count": 34,
   "metadata": {},
   "outputs": [
    {
     "data": {
      "text/plain": [
       "[['Selvportræt'], ['Rim og remser']]"
      ]
     },
     "execution_count": 34,
     "metadata": {},
     "output_type": "execute_result"
    }
   ],
   "source": [
    "[book_col[i].code_dict['Genre'][:] for i in range(2)]"
   ]
  },
  {
   "cell_type": "code",
   "execution_count": 30,
   "metadata": {},
   "outputs": [
    {
     "data": {
      "text/plain": [
       "803"
      ]
     },
     "execution_count": 30,
     "metadata": {},
     "output_type": "execute_result"
    }
   ],
   "source": [
    "803"
   ]
  },
  {
   "cell_type": "code",
   "execution_count": null,
   "metadata": {},
   "outputs": [],
   "source": []
  }
 ],
 "metadata": {
  "kernelspec": {
   "display_name": "Python 3.9.12 ('thesis')",
   "language": "python",
   "name": "python3"
  },
  "language_info": {
   "codemirror_mode": {
    "name": "ipython",
    "version": 3
   },
   "file_extension": ".py",
   "mimetype": "text/x-python",
   "name": "python",
   "nbconvert_exporter": "python",
   "pygments_lexer": "ipython3",
   "version": "3.9.12"
  },
  "orig_nbformat": 4,
  "vscode": {
   "interpreter": {
    "hash": "e3c2552d543767c7021039955f1dae6c5ac216b32eea80d25433b50ae5abd1f9"
   }
  }
 },
 "nbformat": 4,
 "nbformat_minor": 2
}
