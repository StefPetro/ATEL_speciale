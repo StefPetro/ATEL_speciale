{
 "cells": [
  {
   "cell_type": "code",
   "execution_count": 3,
   "id": "7993fedd-14de-4d64-b71b-2b641fb3a924",
   "metadata": {},
   "outputs": [],
   "source": [
    "import gc\n",
    "import numpy as np\n",
    "import pandas as pd\n",
    "from sklearn.preprocessing import MultiLabelBinarizer\n",
    "\n",
    "import plotly.express as px\n",
    "\n",
    "from atel.data import BookCollection"
   ]
  },
  {
   "cell_type": "code",
   "execution_count": 4,
   "id": "3b0f7144-38bd-4ef5-9f09-d1e3dad43aa5",
   "metadata": {},
   "outputs": [
    {
     "name": "stdout",
     "output_type": "stream",
     "text": [
      "Loaded from disk: ./book_col_271120.pkl\n",
      "Number of books: 803\n"
     ]
    }
   ],
   "source": [
    "# load data\n",
    "book_col = BookCollection(data_file='./book_col_271120.pkl')\n",
    "\n",
    "# Total number of books\n",
    "print(f'Number of books: {book_col.num_books}')"
   ]
  },
  {
   "cell_type": "code",
   "execution_count": 5,
   "id": "3c4b3007-5609-455f-8e19-879224ba1f9a",
   "metadata": {},
   "outputs": [
    {
     "name": "stdout",
     "output_type": "stream",
     "text": [
      "Book with index 509 is None\n"
     ]
    }
   ],
   "source": [
    "data = []\n",
    "\n",
    "for i, book in enumerate(book_col):\n",
    "    if book.code_dict is None:\n",
    "        print(f'Book with index {i} is None')\n",
    "        continue\n",
    "    book.code_dict['book_id'] = i \n",
    "    data.append(book.code_dict)"
   ]
  },
  {
   "cell_type": "code",
   "execution_count": 53,
   "id": "1a4d3bb2-453b-47a9-b283-b34001a59e58",
   "metadata": {},
   "outputs": [],
   "source": [
    "book_df = pd.DataFrame(data)"
   ]
  },
  {
   "cell_type": "code",
   "execution_count": 54,
   "id": "6a4f5656-8723-48fa-9dcf-3a3070d994c9",
   "metadata": {},
   "outputs": [],
   "source": [
    "list_cols = [\n",
    "    'Genre', 'Attitude', 'Stavning', 'Perspektiv', 'Tekstbånd', 'Fremstillingsform', \n",
    "    'Semantisk univers', 'Stemmer', 'Forbindere', 'Interjektioner'\n",
    "]"
   ]
  },
  {
   "cell_type": "code",
   "execution_count": 55,
   "id": "436cf3a9-47db-4efd-97b9-73a0411d1a0f",
   "metadata": {},
   "outputs": [
    {
     "data": {
      "text/plain": [
       "488"
      ]
     },
     "execution_count": 55,
     "metadata": {},
     "output_type": "execute_result"
    }
   ],
   "source": [
    "## Replace empty strings with NaN values\n",
    "book_df = book_df.replace('', np.NaN)\n",
    "\n",
    "## Explode all columns\n",
    "# Exploded books\n",
    "ex_book_df = book_df.copy(deep=True)\n",
    "for col in list_cols:\n",
    "    ex_book_df = ex_book_df.explode(col)\n",
    "\n",
    "del book_df\n",
    "gc.collect()"
   ]
  },
  {
   "cell_type": "code",
   "execution_count": 56,
   "id": "287488a1-de52-41fc-880a-32d6af6615f6",
   "metadata": {},
   "outputs": [
    {
     "data": {
      "text/html": [
       "<div>\n",
       "<style scoped>\n",
       "    .dataframe tbody tr th:only-of-type {\n",
       "        vertical-align: middle;\n",
       "    }\n",
       "\n",
       "    .dataframe tbody tr th {\n",
       "        vertical-align: top;\n",
       "    }\n",
       "\n",
       "    .dataframe thead th {\n",
       "        text-align: right;\n",
       "    }\n",
       "</style>\n",
       "<table border=\"1\" class=\"dataframe\">\n",
       "  <thead>\n",
       "    <tr style=\"text-align: right;\">\n",
       "      <th></th>\n",
       "      <th>Genre</th>\n",
       "      <th>Attitude</th>\n",
       "      <th>Stavning</th>\n",
       "      <th>Perspektiv</th>\n",
       "      <th>Tekstbånd</th>\n",
       "      <th>Fremstillingsform</th>\n",
       "      <th>Semantisk univers</th>\n",
       "      <th>Holistisk vurdering</th>\n",
       "      <th>Stemmer</th>\n",
       "      <th>book_id</th>\n",
       "      <th>Forbindere</th>\n",
       "      <th>Interjektioner</th>\n",
       "      <th>Metaforbrug</th>\n",
       "      <th>Noter</th>\n",
       "    </tr>\n",
       "  </thead>\n",
       "  <tbody>\n",
       "    <tr>\n",
       "      <th>0</th>\n",
       "      <td>Selvportræt</td>\n",
       "      <td>Bedømmelse positiv</td>\n",
       "      <td>Semifonetisk</td>\n",
       "      <td>Eksplicit fortæller</td>\n",
       "      <td>NaN</td>\n",
       "      <td>Beskrivende</td>\n",
       "      <td>Mennesker</td>\n",
       "      <td>1</td>\n",
       "      <td>En stemme</td>\n",
       "      <td>0</td>\n",
       "      <td>NaN</td>\n",
       "      <td>NaN</td>\n",
       "      <td>NaN</td>\n",
       "      <td>NaN</td>\n",
       "    </tr>\n",
       "    <tr>\n",
       "      <th>1</th>\n",
       "      <td>Rim og remser</td>\n",
       "      <td>NaN</td>\n",
       "      <td>Fonetisk</td>\n",
       "      <td>Implicit fortæller</td>\n",
       "      <td>Semantisk</td>\n",
       "      <td>Beskrivende</td>\n",
       "      <td>Vilde dyr</td>\n",
       "      <td>1</td>\n",
       "      <td>En stemme</td>\n",
       "      <td>1</td>\n",
       "      <td>NaN</td>\n",
       "      <td>NaN</td>\n",
       "      <td>NaN</td>\n",
       "      <td>NaN</td>\n",
       "    </tr>\n",
       "    <tr>\n",
       "      <th>2</th>\n",
       "      <td>NaN</td>\n",
       "      <td>Følelse 1. person</td>\n",
       "      <td>Semifonetisk</td>\n",
       "      <td>Eksplicit fortæller</td>\n",
       "      <td>NaN</td>\n",
       "      <td>Beskrivende</td>\n",
       "      <td>Mig selv</td>\n",
       "      <td>0</td>\n",
       "      <td>En stemme</td>\n",
       "      <td>2</td>\n",
       "      <td>Tilføjelse</td>\n",
       "      <td>NaN</td>\n",
       "      <td>NaN</td>\n",
       "      <td>NaN</td>\n",
       "    </tr>\n",
       "    <tr>\n",
       "      <th>3</th>\n",
       "      <td>Hverdagsbeskrivelse</td>\n",
       "      <td>NaN</td>\n",
       "      <td>Semifonetisk</td>\n",
       "      <td>Implicit fortæller</td>\n",
       "      <td>NaN</td>\n",
       "      <td>Beskrivende</td>\n",
       "      <td>Kæledyr</td>\n",
       "      <td>1</td>\n",
       "      <td>En stemme</td>\n",
       "      <td>3</td>\n",
       "      <td>NaN</td>\n",
       "      <td>NaN</td>\n",
       "      <td>NaN</td>\n",
       "      <td>NaN</td>\n",
       "    </tr>\n",
       "    <tr>\n",
       "      <th>3</th>\n",
       "      <td>Hverdagsbeskrivelse</td>\n",
       "      <td>NaN</td>\n",
       "      <td>Fonetisk</td>\n",
       "      <td>Implicit fortæller</td>\n",
       "      <td>NaN</td>\n",
       "      <td>Beskrivende</td>\n",
       "      <td>Kæledyr</td>\n",
       "      <td>1</td>\n",
       "      <td>En stemme</td>\n",
       "      <td>3</td>\n",
       "      <td>NaN</td>\n",
       "      <td>NaN</td>\n",
       "      <td>NaN</td>\n",
       "      <td>NaN</td>\n",
       "    </tr>\n",
       "  </tbody>\n",
       "</table>\n",
       "</div>"
      ],
      "text/plain": [
       "                 Genre            Attitude      Stavning           Perspektiv  \\\n",
       "0          Selvportræt  Bedømmelse positiv  Semifonetisk  Eksplicit fortæller   \n",
       "1        Rim og remser                 NaN      Fonetisk   Implicit fortæller   \n",
       "2                  NaN   Følelse 1. person  Semifonetisk  Eksplicit fortæller   \n",
       "3  Hverdagsbeskrivelse                 NaN  Semifonetisk   Implicit fortæller   \n",
       "3  Hverdagsbeskrivelse                 NaN      Fonetisk   Implicit fortæller   \n",
       "\n",
       "   Tekstbånd Fremstillingsform Semantisk univers Holistisk vurdering  \\\n",
       "0        NaN       Beskrivende         Mennesker                   1   \n",
       "1  Semantisk       Beskrivende         Vilde dyr                   1   \n",
       "2        NaN       Beskrivende          Mig selv                   0   \n",
       "3        NaN       Beskrivende           Kæledyr                   1   \n",
       "3        NaN       Beskrivende           Kæledyr                   1   \n",
       "\n",
       "     Stemmer  book_id  Forbindere Interjektioner Metaforbrug Noter  \n",
       "0  En stemme        0         NaN            NaN         NaN   NaN  \n",
       "1  En stemme        1         NaN            NaN         NaN   NaN  \n",
       "2  En stemme        2  Tilføjelse            NaN         NaN   NaN  \n",
       "3  En stemme        3         NaN            NaN         NaN   NaN  \n",
       "3  En stemme        3         NaN            NaN         NaN   NaN  "
      ]
     },
     "execution_count": 56,
     "metadata": {},
     "output_type": "execute_result"
    }
   ],
   "source": [
    "ex_book_df.head()"
   ]
  },
  {
   "cell_type": "code",
   "execution_count": 57,
   "id": "66a211be-ad90-4a34-aba1-9f4d27d8b977",
   "metadata": {},
   "outputs": [],
   "source": [
    "ex_book_df[ex_book_df['Semantisk univers'] == 'Vilde dyr\\xa0'] = 'Vilde dyr'"
   ]
  },
  {
   "cell_type": "code",
   "execution_count": 66,
   "id": "2b74e92b-5b24-4707-aa53-5b09402276dd",
   "metadata": {},
   "outputs": [
    {
     "data": {
      "application/vnd.plotly.v1+json": {
       "config": {
        "plotlyServerURL": "https://plot.ly"
       },
       "data": [
        {
         "alignmentgroup": "True",
         "bingroup": "x",
         "hovertemplate": "Semantisk univers=%{x}<br>count=%{y}<extra></extra>",
         "legendgroup": "",
         "marker": {
          "color": "#636efa",
          "pattern": {
           "shape": ""
          }
         },
         "name": "",
         "offsetgroup": "",
         "orientation": "v",
         "showlegend": false,
         "type": "histogram",
         "x": [
          "Mennesker",
          "Vilde dyr",
          "Mig selv",
          "Kæledyr",
          "Familie",
          "Højtider",
          "Familie",
          "Vilde dyr",
          "Vilde dyr (danske)",
          "Venner",
          "Monstre, guder og andre fantasivæsener",
          "Vilde dyr",
          "Vilde dyr (danske)",
          "Husdyr",
          "Vilde dyr (danske)",
          "Monstre, guder og andre fantasivæsener",
          null,
          "Familie",
          "Legetøj og mine ting",
          "Højtider",
          "Kæledyr",
          "Mad",
          "Monstre, guder og andre fantasivæsener",
          "Venner",
          "Venner",
          "Højtider",
          "Mad",
          "Venner",
          "Oplevelse",
          "Monstre, guder og andre fantasivæsener",
          "Højtider",
          "Venner",
          "Vilde dyr",
          "Vilde dyr",
          "Vilde dyr (danske)",
          "Vilde dyr",
          "Højtider",
          "Venner",
          "Familie",
          "Venner",
          "Familie",
          "Mennesker",
          "Højtider",
          "Venner",
          "Familie",
          "Venner",
          "Monstre, guder og andre fantasivæsener",
          "Familie",
          "Legetøj og mine ting",
          "Natur",
          "Bøger, film, musik, computerspil",
          "Højtider",
          "Skole",
          "Monstre, guder og andre fantasivæsener",
          "Monstre, guder og andre fantasivæsener",
          "Monstre, guder og andre fantasivæsener",
          "Skole",
          "Højtider",
          "Venner",
          "Kæledyr",
          "Højtider",
          "Kæledyr",
          "Mad",
          "Bøger, film, musik, computerspil",
          "Monstre, guder og andre fantasivæsener",
          "Højtider",
          "Venner",
          "Venner",
          "Højtider",
          "Biler og andre køretøjer",
          "Skole",
          "Familie",
          "Monstre, guder og andre fantasivæsener",
          null,
          "Biler og andre køretøjer",
          "Vilde dyr (danske)",
          "Kæledyr",
          null,
          "Husdyr",
          "Skole",
          "Mig selv",
          "Kæledyr",
          "Mig selv",
          "Kæledyr",
          "Monstre, guder og andre fantasivæsener",
          "Monstre, guder og andre fantasivæsener",
          "Oplevelse",
          "Monstre, guder og andre fantasivæsener",
          "Biler og andre køretøjer",
          "Kæledyr",
          "Monstre, guder og andre fantasivæsener",
          "Højtider",
          "Monstre, guder og andre fantasivæsener",
          "Mad",
          "Legetøj og mine ting",
          "Vilde dyr",
          "Bøger, film, musik, computerspil",
          "Oplevelse",
          "Familie",
          "Vilde dyr",
          "Kæledyr",
          "Vilde dyr",
          "Mig selv",
          "Husdyr",
          "Husdyr",
          "Legetøj og mine ting",
          "Biler og andre køretøjer",
          "Vilde dyr",
          "Husdyr",
          "Vilde dyr",
          "Husdyr",
          "Monstre, guder og andre fantasivæsener",
          "Biler og andre køretøjer",
          "Kæledyr",
          "Familie",
          "Mennesker",
          "Venner",
          "Mennesker",
          "Kæledyr",
          null,
          "Legetøj og mine ting",
          "Vilde dyr",
          "Venner",
          "Venner",
          "Venner",
          "Mig selv",
          "Venner",
          "Vilde dyr",
          "Venner",
          "Familie",
          "Familie",
          "Vilde dyr (danske)",
          "Mad",
          "Familie",
          "Natur",
          "Højtider",
          "Højtider",
          null,
          "Oplevelse",
          null,
          "Legetøj og mine ting",
          "Mig selv",
          "Højtider",
          "Mig selv",
          "Vilde dyr",
          "Politi og militær",
          "Legetøj og mine ting",
          "Mig selv",
          "Biler og andre køretøjer",
          "Monstre, guder og andre fantasivæsener",
          "Sport",
          "Monstre, guder og andre fantasivæsener",
          "Legetøj og mine ting",
          "Biler og andre køretøjer",
          "Legetøj og mine ting",
          "Vilde dyr (danske)",
          "Kæledyr",
          "Vilde dyr",
          "Bøger, film, musik, computerspil",
          "Mad",
          "Højtider",
          "Vilde dyr",
          "Natur",
          null,
          "Venner",
          "Højtider",
          "Ubestemmelig",
          "Mad",
          "Mig selv",
          "Sport",
          "Biler og andre køretøjer",
          "Mad",
          "Oplevelse",
          "Biler og andre køretøjer",
          "Mennesker",
          "Sport",
          "Natur",
          "Oplevelse",
          "Familie",
          "Mad",
          "Mad",
          "Vilde dyr",
          "Bøger, film, musik, computerspil",
          "Venner",
          "Legetøj og mine ting",
          "Mad",
          "Teknologi",
          "Monstre, guder og andre fantasivæsener",
          "Husdyr",
          "Legetøj og mine ting",
          "Kæledyr",
          "Husdyr",
          "Venner",
          "Familie",
          "Vilde dyr",
          "Oplevelse",
          "Venner",
          "Mad",
          "Natur",
          "Natur",
          "Højtider",
          "Monstre, guder og andre fantasivæsener",
          "Husdyr",
          "Kæledyr",
          "Kæledyr",
          "Monstre, guder og andre fantasivæsener",
          "Vilde dyr (danske)",
          "Natur",
          "Vilde dyr",
          "Natur",
          "Vilde dyr",
          "Højtider",
          "Vilde dyr (danske)",
          "Vilde dyr (danske)",
          "Vilde dyr (danske)",
          "Mennesker",
          "Vilde dyr",
          "Vilde dyr",
          "Vilde dyr (danske)",
          "Kæledyr",
          "Husdyr",
          "Skole",
          "Vilde dyr",
          "Biler og andre køretøjer",
          "Kæledyr",
          null,
          "Kæledyr",
          "Mennesker",
          "Venner",
          "Vilde dyr (danske)",
          "Kæledyr",
          "Monstre, guder og andre fantasivæsener",
          null,
          "Kæledyr",
          "Natur",
          "Teknologi",
          "Vilde dyr (danske)",
          "Vilde dyr",
          "Kæledyr",
          "Mad",
          "Vilde dyr (danske)",
          "Mad",
          "Ubestemmelig",
          "Kæledyr",
          "Kæledyr",
          "Oplevelse",
          "Familie",
          "Mig selv",
          "Teknologi",
          "Kæledyr",
          "Familie",
          "Vilde dyr",
          "Kæledyr",
          "Natur",
          "Kæledyr",
          "Mennesker",
          "Mig selv",
          "Venner",
          "Vilde dyr",
          "Mad",
          "Oplevelse",
          "Oplevelse",
          "Kæledyr",
          "Ubestemmelig",
          "Sport",
          "Kæledyr",
          "Oplevelse",
          "Monstre, guder og andre fantasivæsener",
          "Teknologi",
          "Oplevelse",
          "Biler og andre køretøjer",
          "Mad",
          "Monstre, guder og andre fantasivæsener",
          "Venner",
          "Højtider",
          "Oplevelse",
          "Venner",
          "Ubestemmelig",
          "Højtider",
          "Højtider",
          "Politi og militær",
          "Oplevelse",
          "Venner",
          "Familie",
          "Vilde dyr",
          "Monstre, guder og andre fantasivæsener",
          "Ubestemmelig",
          "Mig selv",
          "Bøger, film, musik, computerspil",
          "Familie",
          "Kæledyr",
          "Mig selv",
          "Højtider",
          "Bøger, film, musik, computerspil",
          "Husdyr",
          "Bøger, film, musik, computerspil",
          "Kæledyr",
          "Monstre, guder og andre fantasivæsener",
          "Mig selv",
          "Venner",
          "Familie",
          "Bøger, film, musik, computerspil",
          "Sport",
          "Mennesker",
          "Vilde dyr",
          "Kæledyr",
          "Monstre, guder og andre fantasivæsener",
          "Mig selv",
          "Bøger, film, musik, computerspil",
          "Mig selv",
          "Venner",
          "Kæledyr",
          "Venner",
          "Kæledyr",
          "Mennesker",
          "Højtider",
          "Mad",
          "Skole",
          "Højtider",
          "Skole",
          "Højtider",
          "Mad",
          "Teknologi",
          "Mennesker",
          "Bøger, film, musik, computerspil",
          "Højtider",
          "Mad",
          "Natur",
          null,
          "Venner",
          "Monstre, guder og andre fantasivæsener",
          "Familie",
          "Højtider",
          "Monstre, guder og andre fantasivæsener",
          "Højtider",
          "Højtider",
          "Højtider",
          "Højtider",
          "Monstre, guder og andre fantasivæsener",
          "Højtider",
          "Højtider",
          "Kæledyr",
          "Højtider",
          "Biler og andre køretøjer",
          "Højtider",
          "Vilde dyr (danske)",
          "Kæledyr",
          "Oplevelse",
          "Vilde dyr (danske)",
          "Vilde dyr",
          "Natur",
          "Kæledyr",
          "Mennesker",
          "Skole",
          "Legetøj og mine ting",
          "Vilde dyr",
          "Monstre, guder og andre fantasivæsener",
          "Bøger, film, musik, computerspil",
          "Natur",
          "Kæledyr",
          "Venner",
          "Familie",
          "Mig selv",
          "Vilde dyr",
          "Mig selv",
          "Mig selv",
          "Venner",
          "Familie",
          "Skole",
          "Husdyr",
          "Natur",
          "Natur",
          "Natur",
          "Sport",
          "Natur",
          "Natur",
          "Højtider",
          "Højtider",
          "Kæledyr",
          "Højtider",
          "Højtider",
          "Mad",
          "Højtider",
          "Højtider",
          "Kæledyr",
          "Biler og andre køretøjer",
          "Biler og andre køretøjer",
          "Vilde dyr",
          "Natur",
          "Mennesker",
          null,
          "Bøger, film, musik, computerspil",
          "Familie",
          "Bøger, film, musik, computerspil",
          "Ubestemmelig",
          null,
          "Mig selv",
          "Højtider",
          "Kæledyr",
          "Ubestemmelig",
          "Vilde dyr",
          "Venner",
          "Skole",
          "Familie",
          "Venner",
          "Mig selv",
          "Familie",
          "Kæledyr",
          "Biler og andre køretøjer",
          "Ubestemmelig",
          "Ubestemmelig",
          "Mad",
          "Kæledyr",
          "Højtider",
          "Vilde dyr",
          "Mig selv",
          "Biler og andre køretøjer",
          "Bøger, film, musik, computerspil",
          "Oplevelse",
          "Bøger, film, musik, computerspil",
          "Højtider",
          "Kæledyr",
          "Kæledyr",
          "Familie",
          "Højtider",
          "Kæledyr",
          "Familie",
          "Højtider",
          "Vilde dyr",
          "Vilde dyr",
          "Natur",
          "Kæledyr",
          "Vilde dyr",
          "Sport",
          "Sport",
          "Monstre, guder og andre fantasivæsener",
          "Sport",
          "Sport",
          "Venner",
          "Vilde dyr",
          "Højtider",
          "Venner",
          "Kæledyr",
          "Monstre, guder og andre fantasivæsener",
          "Natur",
          "Familie",
          "Familie",
          "Venner",
          "Venner",
          "Oplevelse",
          "Legetøj og mine ting",
          "Monstre, guder og andre fantasivæsener",
          "Kæledyr",
          "Kæledyr",
          "Venner",
          "Højtider",
          "Monstre, guder og andre fantasivæsener",
          "Skole",
          "Monstre, guder og andre fantasivæsener",
          "Højtider",
          "Skole",
          "Ubestemmelig",
          "Ubestemmelig",
          "Mennesker",
          "Oplevelse",
          "Kæledyr",
          "Mennesker",
          "Mad",
          "Mad",
          "Højtider",
          "Højtider",
          "Skole",
          "Teknologi",
          "Familie",
          "Mennesker",
          "Politi og militær",
          "Ubestemmelig",
          "Monstre, guder og andre fantasivæsener",
          "Bøger, film, musik, computerspil",
          "Mennesker",
          "Monstre, guder og andre fantasivæsener",
          "Vilde dyr",
          "Politi og militær",
          "Legetøj og mine ting",
          null,
          "Oplevelse",
          "Familie",
          "Oplevelse",
          "Monstre, guder og andre fantasivæsener",
          "Monstre, guder og andre fantasivæsener",
          "Skole",
          "Højtider",
          "Natur",
          "Bøger, film, musik, computerspil",
          "Ubestemmelig",
          "Højtider",
          "Familie",
          "Skole",
          "Venner",
          "Skole",
          "Teknologi",
          "Skole",
          "Familie",
          "Skole",
          "Mennesker",
          "Legetøj og mine ting",
          "Monstre, guder og andre fantasivæsener",
          "Legetøj og mine ting",
          "Vilde dyr (danske)",
          "Mad",
          "Venner",
          "Vilde dyr",
          "Skole",
          "Mad",
          "Bøger, film, musik, computerspil",
          "Venner",
          "Vilde dyr (danske)",
          "Kæledyr",
          "Kæledyr",
          "Bøger, film, musik, computerspil",
          "Venner",
          "Kæledyr",
          "Mig selv",
          "Venner",
          "Venner",
          "Venner",
          "Bøger, film, musik, computerspil",
          "Oplevelse",
          "Monstre, guder og andre fantasivæsener",
          "Monstre, guder og andre fantasivæsener",
          "Skole",
          "Oplevelse",
          "Vilde dyr (danske)",
          "Skole",
          "Husdyr",
          "Vilde dyr",
          "Vilde dyr (danske)",
          "Bøger, film, musik, computerspil",
          "Oplevelse",
          "Oplevelse",
          "Oplevelse",
          "Oplevelse",
          "Husdyr",
          "Skole",
          "Oplevelse",
          "Oplevelse",
          "Monstre, guder og andre fantasivæsener",
          "Oplevelse",
          "Monstre, guder og andre fantasivæsener",
          "Vilde dyr (danske)",
          "Vilde dyr",
          "Oplevelse",
          "Familie",
          "Venner",
          "Monstre, guder og andre fantasivæsener",
          "Husdyr",
          "Oplevelse",
          "Bøger, film, musik, computerspil",
          "Familie",
          "Vilde dyr",
          "Mad",
          "Ubestemmelig",
          "Kæledyr",
          "Sport",
          "Sport",
          "Bøger, film, musik, computerspil",
          "Højtider",
          "Oplevelse",
          "Bøger, film, musik, computerspil",
          "Oplevelse",
          "Sport",
          "Oplevelse",
          "Højtider",
          "Mig selv",
          "Sport",
          "Sport",
          "Ubestemmelig",
          "Skole",
          "Oplevelse",
          "Oplevelse",
          "Vilde dyr (danske)",
          "Skole",
          "Natur",
          "Monstre, guder og andre fantasivæsener",
          "Skole",
          "Mennesker",
          "Monstre, guder og andre fantasivæsener",
          "Mig selv",
          "Kæledyr",
          "Kæledyr",
          "Kæledyr",
          "Vilde dyr",
          "Mad",
          "Kæledyr",
          "Skole",
          "Natur",
          "Monstre, guder og andre fantasivæsener",
          "Højtider",
          "Skole",
          "Skole",
          "Monstre, guder og andre fantasivæsener",
          "Højtider",
          "Venner",
          "Familie",
          "Oplevelse",
          "Oplevelse",
          "Legetøj og mine ting",
          "Mig selv",
          "Familie",
          "Oplevelse",
          "Monstre, guder og andre fantasivæsener",
          "Monstre, guder og andre fantasivæsener",
          "Monstre, guder og andre fantasivæsener",
          "Venner",
          "Kæledyr",
          "Mennesker",
          "Vilde dyr",
          "Vilde dyr",
          "Mennesker",
          "Mad",
          "Kæledyr",
          "Vilde dyr",
          "Venner",
          "Vilde dyr",
          "Oplevelse",
          "Vilde dyr",
          "Mig selv",
          "Bøger, film, musik, computerspil",
          "Skole",
          "Oplevelse",
          "Højtider",
          "Skole",
          "Vilde dyr",
          "Kæledyr",
          null,
          "Skole",
          "Kæledyr",
          "Husdyr",
          "Vilde dyr (danske)",
          "Vilde dyr",
          "Mig selv",
          null,
          "Mennesker",
          "Skole",
          "Oplevelse",
          "Natur",
          "Biler og andre køretøjer",
          "Natur",
          "Monstre, guder og andre fantasivæsener",
          "Ubestemmelig",
          "Venner",
          "Mennesker",
          "Bøger, film, musik, computerspil",
          "Monstre, guder og andre fantasivæsener",
          "Venner",
          "Natur",
          "Bøger, film, musik, computerspil",
          "Bøger, film, musik, computerspil",
          "Monstre, guder og andre fantasivæsener",
          "Monstre, guder og andre fantasivæsener",
          "Højtider",
          "Ubestemmelig",
          "Kæledyr",
          "Mennesker",
          "Mennesker",
          "Politi og militær",
          "Kæledyr",
          "Ubestemmelig",
          "Monstre, guder og andre fantasivæsener",
          "Ubestemmelig",
          "Vilde dyr (danske)",
          "Husdyr",
          "Mig selv",
          "Vilde dyr",
          "Biler og andre køretøjer",
          "Højtider",
          "Ubestemmelig",
          "Sport",
          "Kæledyr",
          "Monstre, guder og andre fantasivæsener",
          "Mad",
          "Oplevelse",
          "Biler og andre køretøjer",
          "Biler og andre køretøjer",
          "Oplevelse",
          "Vilde dyr",
          "Sport",
          "Vilde dyr",
          "Vilde dyr",
          "Natur",
          "Monstre, guder og andre fantasivæsener",
          "Oplevelse",
          "Monstre, guder og andre fantasivæsener",
          "Monstre, guder og andre fantasivæsener",
          "Ubestemmelig",
          "Mad",
          "Vilde dyr",
          "Mig selv",
          "Vilde dyr",
          "Venner",
          "Vilde dyr",
          "Vilde dyr",
          "Oplevelse",
          "Kæledyr",
          "Bøger, film, musik, computerspil",
          "Skole",
          "Kæledyr",
          "Kæledyr",
          "Monstre, guder og andre fantasivæsener",
          "Kæledyr",
          "Vilde dyr",
          "Skole",
          "Ubestemmelig",
          "Husdyr",
          "Vilde dyr",
          "Bøger, film, musik, computerspil",
          "Højtider",
          "Familie",
          "Vilde dyr",
          "Skole",
          "Kæledyr",
          "Vilde dyr (danske)",
          "Oplevelse",
          "Oplevelse",
          "Ubestemmelig",
          "Monstre, guder og andre fantasivæsener",
          "Monstre, guder og andre fantasivæsener",
          "Legetøj og mine ting",
          "Bøger, film, musik, computerspil",
          "Monstre, guder og andre fantasivæsener",
          "Oplevelse",
          "Monstre, guder og andre fantasivæsener",
          "Monstre, guder og andre fantasivæsener",
          "Monstre, guder og andre fantasivæsener",
          "Vilde dyr (danske)",
          "Mennesker",
          null,
          "Vilde dyr",
          "Natur",
          "Oplevelse",
          "Venner",
          "Mennesker",
          "Politi og militær",
          "Mennesker",
          "Natur",
          "Kæledyr",
          "Kæledyr",
          "Natur",
          "Biler og andre køretøjer",
          "Mennesker",
          "Skole",
          "Kæledyr",
          "Kæledyr",
          "Kæledyr",
          "Ubestemmelig",
          "Venner",
          "Mig selv",
          "Højtider",
          "Natur",
          "Oplevelse",
          "Biler og andre køretøjer",
          "Legetøj og mine ting",
          "Biler og andre køretøjer",
          "Biler og andre køretøjer",
          "Mennesker",
          "Mennesker",
          "Mennesker",
          "Højtider",
          "Skole",
          "Biler og andre køretøjer",
          "Mig selv",
          "Sport",
          "Monstre, guder og andre fantasivæsener",
          "Familie",
          "Kæledyr",
          "Husdyr",
          "Bøger, film, musik, computerspil",
          "Vilde dyr",
          "Bøger, film, musik, computerspil",
          "Venner",
          "Familie",
          "Politi og militær",
          "Bøger, film, musik, computerspil",
          "Mennesker",
          "Mig selv",
          "Venner",
          "Natur",
          "Bøger, film, musik, computerspil",
          "Ubestemmelig",
          "Mig selv",
          "Vilde dyr",
          "Vilde dyr",
          "Vilde dyr",
          "Kæledyr",
          "Venner",
          "Højtider",
          "Mad",
          "Husdyr",
          "Natur",
          "Teknologi",
          "Bøger, film, musik, computerspil",
          "Legetøj og mine ting",
          "Bøger, film, musik, computerspil",
          "Oplevelse",
          "Vilde dyr (danske)",
          "Natur",
          "Skole",
          "Oplevelse",
          "Mig selv",
          "Mad",
          "Sport",
          "Bøger, film, musik, computerspil",
          "Venner",
          "Familie",
          "Mig selv",
          "Skole",
          "Vilde dyr (danske)",
          "Mennesker",
          "Legetøj og mine ting",
          "Oplevelse",
          "Venner",
          "Familie",
          "Skole",
          "Mig selv",
          "Skole",
          "Bøger, film, musik, computerspil",
          "Skole",
          "Familie",
          "Bøger, film, musik, computerspil",
          "Biler og andre køretøjer",
          "Bøger, film, musik, computerspil",
          "Kæledyr",
          "Biler og andre køretøjer",
          "Natur",
          "Monstre, guder og andre fantasivæsener",
          "Højtider",
          "Venner",
          "Oplevelse",
          "Familie",
          "Ubestemmelig",
          "Oplevelse",
          "Familie",
          "Skole",
          "Mig selv",
          "Kæledyr",
          "Mad",
          "Ubestemmelig",
          "Bøger, film, musik, computerspil",
          "Oplevelse",
          "Kæledyr",
          "Skole",
          "Skole"
         ],
         "xaxis": "x",
         "yaxis": "y"
        }
       ],
       "layout": {
        "autosize": true,
        "barmode": "relative",
        "legend": {
         "tracegroupgap": 0
        },
        "margin": {
         "t": 60
        },
        "template": {
         "data": {
          "bar": [
           {
            "error_x": {
             "color": "#2a3f5f"
            },
            "error_y": {
             "color": "#2a3f5f"
            },
            "marker": {
             "line": {
              "color": "#E5ECF6",
              "width": 0.5
             },
             "pattern": {
              "fillmode": "overlay",
              "size": 10,
              "solidity": 0.2
             }
            },
            "type": "bar"
           }
          ],
          "barpolar": [
           {
            "marker": {
             "line": {
              "color": "#E5ECF6",
              "width": 0.5
             },
             "pattern": {
              "fillmode": "overlay",
              "size": 10,
              "solidity": 0.2
             }
            },
            "type": "barpolar"
           }
          ],
          "carpet": [
           {
            "aaxis": {
             "endlinecolor": "#2a3f5f",
             "gridcolor": "white",
             "linecolor": "white",
             "minorgridcolor": "white",
             "startlinecolor": "#2a3f5f"
            },
            "baxis": {
             "endlinecolor": "#2a3f5f",
             "gridcolor": "white",
             "linecolor": "white",
             "minorgridcolor": "white",
             "startlinecolor": "#2a3f5f"
            },
            "type": "carpet"
           }
          ],
          "choropleth": [
           {
            "colorbar": {
             "outlinewidth": 0,
             "ticks": ""
            },
            "type": "choropleth"
           }
          ],
          "contour": [
           {
            "colorbar": {
             "outlinewidth": 0,
             "ticks": ""
            },
            "colorscale": [
             [
              0,
              "#0d0887"
             ],
             [
              0.1111111111111111,
              "#46039f"
             ],
             [
              0.2222222222222222,
              "#7201a8"
             ],
             [
              0.3333333333333333,
              "#9c179e"
             ],
             [
              0.4444444444444444,
              "#bd3786"
             ],
             [
              0.5555555555555556,
              "#d8576b"
             ],
             [
              0.6666666666666666,
              "#ed7953"
             ],
             [
              0.7777777777777778,
              "#fb9f3a"
             ],
             [
              0.8888888888888888,
              "#fdca26"
             ],
             [
              1,
              "#f0f921"
             ]
            ],
            "type": "contour"
           }
          ],
          "contourcarpet": [
           {
            "colorbar": {
             "outlinewidth": 0,
             "ticks": ""
            },
            "type": "contourcarpet"
           }
          ],
          "heatmap": [
           {
            "colorbar": {
             "outlinewidth": 0,
             "ticks": ""
            },
            "colorscale": [
             [
              0,
              "#0d0887"
             ],
             [
              0.1111111111111111,
              "#46039f"
             ],
             [
              0.2222222222222222,
              "#7201a8"
             ],
             [
              0.3333333333333333,
              "#9c179e"
             ],
             [
              0.4444444444444444,
              "#bd3786"
             ],
             [
              0.5555555555555556,
              "#d8576b"
             ],
             [
              0.6666666666666666,
              "#ed7953"
             ],
             [
              0.7777777777777778,
              "#fb9f3a"
             ],
             [
              0.8888888888888888,
              "#fdca26"
             ],
             [
              1,
              "#f0f921"
             ]
            ],
            "type": "heatmap"
           }
          ],
          "heatmapgl": [
           {
            "colorbar": {
             "outlinewidth": 0,
             "ticks": ""
            },
            "colorscale": [
             [
              0,
              "#0d0887"
             ],
             [
              0.1111111111111111,
              "#46039f"
             ],
             [
              0.2222222222222222,
              "#7201a8"
             ],
             [
              0.3333333333333333,
              "#9c179e"
             ],
             [
              0.4444444444444444,
              "#bd3786"
             ],
             [
              0.5555555555555556,
              "#d8576b"
             ],
             [
              0.6666666666666666,
              "#ed7953"
             ],
             [
              0.7777777777777778,
              "#fb9f3a"
             ],
             [
              0.8888888888888888,
              "#fdca26"
             ],
             [
              1,
              "#f0f921"
             ]
            ],
            "type": "heatmapgl"
           }
          ],
          "histogram": [
           {
            "marker": {
             "pattern": {
              "fillmode": "overlay",
              "size": 10,
              "solidity": 0.2
             }
            },
            "type": "histogram"
           }
          ],
          "histogram2d": [
           {
            "colorbar": {
             "outlinewidth": 0,
             "ticks": ""
            },
            "colorscale": [
             [
              0,
              "#0d0887"
             ],
             [
              0.1111111111111111,
              "#46039f"
             ],
             [
              0.2222222222222222,
              "#7201a8"
             ],
             [
              0.3333333333333333,
              "#9c179e"
             ],
             [
              0.4444444444444444,
              "#bd3786"
             ],
             [
              0.5555555555555556,
              "#d8576b"
             ],
             [
              0.6666666666666666,
              "#ed7953"
             ],
             [
              0.7777777777777778,
              "#fb9f3a"
             ],
             [
              0.8888888888888888,
              "#fdca26"
             ],
             [
              1,
              "#f0f921"
             ]
            ],
            "type": "histogram2d"
           }
          ],
          "histogram2dcontour": [
           {
            "colorbar": {
             "outlinewidth": 0,
             "ticks": ""
            },
            "colorscale": [
             [
              0,
              "#0d0887"
             ],
             [
              0.1111111111111111,
              "#46039f"
             ],
             [
              0.2222222222222222,
              "#7201a8"
             ],
             [
              0.3333333333333333,
              "#9c179e"
             ],
             [
              0.4444444444444444,
              "#bd3786"
             ],
             [
              0.5555555555555556,
              "#d8576b"
             ],
             [
              0.6666666666666666,
              "#ed7953"
             ],
             [
              0.7777777777777778,
              "#fb9f3a"
             ],
             [
              0.8888888888888888,
              "#fdca26"
             ],
             [
              1,
              "#f0f921"
             ]
            ],
            "type": "histogram2dcontour"
           }
          ],
          "mesh3d": [
           {
            "colorbar": {
             "outlinewidth": 0,
             "ticks": ""
            },
            "type": "mesh3d"
           }
          ],
          "parcoords": [
           {
            "line": {
             "colorbar": {
              "outlinewidth": 0,
              "ticks": ""
             }
            },
            "type": "parcoords"
           }
          ],
          "pie": [
           {
            "automargin": true,
            "type": "pie"
           }
          ],
          "scatter": [
           {
            "fillpattern": {
             "fillmode": "overlay",
             "size": 10,
             "solidity": 0.2
            },
            "type": "scatter"
           }
          ],
          "scatter3d": [
           {
            "line": {
             "colorbar": {
              "outlinewidth": 0,
              "ticks": ""
             }
            },
            "marker": {
             "colorbar": {
              "outlinewidth": 0,
              "ticks": ""
             }
            },
            "type": "scatter3d"
           }
          ],
          "scattercarpet": [
           {
            "marker": {
             "colorbar": {
              "outlinewidth": 0,
              "ticks": ""
             }
            },
            "type": "scattercarpet"
           }
          ],
          "scattergeo": [
           {
            "marker": {
             "colorbar": {
              "outlinewidth": 0,
              "ticks": ""
             }
            },
            "type": "scattergeo"
           }
          ],
          "scattergl": [
           {
            "marker": {
             "colorbar": {
              "outlinewidth": 0,
              "ticks": ""
             }
            },
            "type": "scattergl"
           }
          ],
          "scattermapbox": [
           {
            "marker": {
             "colorbar": {
              "outlinewidth": 0,
              "ticks": ""
             }
            },
            "type": "scattermapbox"
           }
          ],
          "scatterpolar": [
           {
            "marker": {
             "colorbar": {
              "outlinewidth": 0,
              "ticks": ""
             }
            },
            "type": "scatterpolar"
           }
          ],
          "scatterpolargl": [
           {
            "marker": {
             "colorbar": {
              "outlinewidth": 0,
              "ticks": ""
             }
            },
            "type": "scatterpolargl"
           }
          ],
          "scatterternary": [
           {
            "marker": {
             "colorbar": {
              "outlinewidth": 0,
              "ticks": ""
             }
            },
            "type": "scatterternary"
           }
          ],
          "surface": [
           {
            "colorbar": {
             "outlinewidth": 0,
             "ticks": ""
            },
            "colorscale": [
             [
              0,
              "#0d0887"
             ],
             [
              0.1111111111111111,
              "#46039f"
             ],
             [
              0.2222222222222222,
              "#7201a8"
             ],
             [
              0.3333333333333333,
              "#9c179e"
             ],
             [
              0.4444444444444444,
              "#bd3786"
             ],
             [
              0.5555555555555556,
              "#d8576b"
             ],
             [
              0.6666666666666666,
              "#ed7953"
             ],
             [
              0.7777777777777778,
              "#fb9f3a"
             ],
             [
              0.8888888888888888,
              "#fdca26"
             ],
             [
              1,
              "#f0f921"
             ]
            ],
            "type": "surface"
           }
          ],
          "table": [
           {
            "cells": {
             "fill": {
              "color": "#EBF0F8"
             },
             "line": {
              "color": "white"
             }
            },
            "header": {
             "fill": {
              "color": "#C8D4E3"
             },
             "line": {
              "color": "white"
             }
            },
            "type": "table"
           }
          ]
         },
         "layout": {
          "annotationdefaults": {
           "arrowcolor": "#2a3f5f",
           "arrowhead": 0,
           "arrowwidth": 1
          },
          "autotypenumbers": "strict",
          "coloraxis": {
           "colorbar": {
            "outlinewidth": 0,
            "ticks": ""
           }
          },
          "colorscale": {
           "diverging": [
            [
             0,
             "#8e0152"
            ],
            [
             0.1,
             "#c51b7d"
            ],
            [
             0.2,
             "#de77ae"
            ],
            [
             0.3,
             "#f1b6da"
            ],
            [
             0.4,
             "#fde0ef"
            ],
            [
             0.5,
             "#f7f7f7"
            ],
            [
             0.6,
             "#e6f5d0"
            ],
            [
             0.7,
             "#b8e186"
            ],
            [
             0.8,
             "#7fbc41"
            ],
            [
             0.9,
             "#4d9221"
            ],
            [
             1,
             "#276419"
            ]
           ],
           "sequential": [
            [
             0,
             "#0d0887"
            ],
            [
             0.1111111111111111,
             "#46039f"
            ],
            [
             0.2222222222222222,
             "#7201a8"
            ],
            [
             0.3333333333333333,
             "#9c179e"
            ],
            [
             0.4444444444444444,
             "#bd3786"
            ],
            [
             0.5555555555555556,
             "#d8576b"
            ],
            [
             0.6666666666666666,
             "#ed7953"
            ],
            [
             0.7777777777777778,
             "#fb9f3a"
            ],
            [
             0.8888888888888888,
             "#fdca26"
            ],
            [
             1,
             "#f0f921"
            ]
           ],
           "sequentialminus": [
            [
             0,
             "#0d0887"
            ],
            [
             0.1111111111111111,
             "#46039f"
            ],
            [
             0.2222222222222222,
             "#7201a8"
            ],
            [
             0.3333333333333333,
             "#9c179e"
            ],
            [
             0.4444444444444444,
             "#bd3786"
            ],
            [
             0.5555555555555556,
             "#d8576b"
            ],
            [
             0.6666666666666666,
             "#ed7953"
            ],
            [
             0.7777777777777778,
             "#fb9f3a"
            ],
            [
             0.8888888888888888,
             "#fdca26"
            ],
            [
             1,
             "#f0f921"
            ]
           ]
          },
          "colorway": [
           "#636efa",
           "#EF553B",
           "#00cc96",
           "#ab63fa",
           "#FFA15A",
           "#19d3f3",
           "#FF6692",
           "#B6E880",
           "#FF97FF",
           "#FECB52"
          ],
          "font": {
           "color": "#2a3f5f"
          },
          "geo": {
           "bgcolor": "white",
           "lakecolor": "white",
           "landcolor": "#E5ECF6",
           "showlakes": true,
           "showland": true,
           "subunitcolor": "white"
          },
          "hoverlabel": {
           "align": "left"
          },
          "hovermode": "closest",
          "mapbox": {
           "style": "light"
          },
          "paper_bgcolor": "white",
          "plot_bgcolor": "#E5ECF6",
          "polar": {
           "angularaxis": {
            "gridcolor": "white",
            "linecolor": "white",
            "ticks": ""
           },
           "bgcolor": "#E5ECF6",
           "radialaxis": {
            "gridcolor": "white",
            "linecolor": "white",
            "ticks": ""
           }
          },
          "scene": {
           "xaxis": {
            "backgroundcolor": "#E5ECF6",
            "gridcolor": "white",
            "gridwidth": 2,
            "linecolor": "white",
            "showbackground": true,
            "ticks": "",
            "zerolinecolor": "white"
           },
           "yaxis": {
            "backgroundcolor": "#E5ECF6",
            "gridcolor": "white",
            "gridwidth": 2,
            "linecolor": "white",
            "showbackground": true,
            "ticks": "",
            "zerolinecolor": "white"
           },
           "zaxis": {
            "backgroundcolor": "#E5ECF6",
            "gridcolor": "white",
            "gridwidth": 2,
            "linecolor": "white",
            "showbackground": true,
            "ticks": "",
            "zerolinecolor": "white"
           }
          },
          "shapedefaults": {
           "line": {
            "color": "#2a3f5f"
           }
          },
          "ternary": {
           "aaxis": {
            "gridcolor": "white",
            "linecolor": "white",
            "ticks": ""
           },
           "baxis": {
            "gridcolor": "white",
            "linecolor": "white",
            "ticks": ""
           },
           "bgcolor": "#E5ECF6",
           "caxis": {
            "gridcolor": "white",
            "linecolor": "white",
            "ticks": ""
           }
          },
          "title": {
           "x": 0.05
          },
          "xaxis": {
           "automargin": true,
           "gridcolor": "white",
           "linecolor": "white",
           "ticks": "",
           "title": {
            "standoff": 15
           },
           "zerolinecolor": "white",
           "zerolinewidth": 2
          },
          "yaxis": {
           "automargin": true,
           "gridcolor": "white",
           "linecolor": "white",
           "ticks": "",
           "title": {
            "standoff": 15
           },
           "zerolinecolor": "white",
           "zerolinewidth": 2
          }
         }
        },
        "xaxis": {
         "anchor": "y",
         "autorange": true,
         "categoryorder": "total descending",
         "domain": [
          0,
          1
         ],
         "range": [
          -0.5,
          20.5
         ],
         "title": {
          "text": "Semantisk univers"
         },
         "type": "category"
        },
        "yaxis": {
         "anchor": "x",
         "autorange": true,
         "domain": [
          0,
          1
         ],
         "range": [
          0,
          84.21052631578948
         ],
         "title": {
          "text": "count"
         }
        }
       }
      },
      "image/png": "[encoded data removed]",
      "text/html": [
       "<div>                            <div id=\"c560bb60-59b2-4058-9df9-b4d9c6411a72\" class=\"plotly-graph-div\" style=\"height:525px; width:100%;\"></div>            <script type=\"text/javascript\">                require([\"plotly\"], function(Plotly) {                    window.PLOTLYENV=window.PLOTLYENV || {};                                    if (document.getElementById(\"c560bb60-59b2-4058-9df9-b4d9c6411a72\")) {                    Plotly.newPlot(                        \"c560bb60-59b2-4058-9df9-b4d9c6411a72\",                        [{\"alignmentgroup\":\"True\",\"bingroup\":\"x\",\"hovertemplate\":\"Semantisk univers=%{x}<br>count=%{y}<extra></extra>\",\"legendgroup\":\"\",\"marker\":{\"color\":\"#636efa\",\"pattern\":{\"shape\":\"\"}},\"name\":\"\",\"offsetgroup\":\"\",\"orientation\":\"v\",\"showlegend\":false,\"x\":[\"Mennesker\",\"Vilde dyr\",\"Mig selv\",\"K\\u00e6ledyr\",\"Familie\",\"H\\u00f8jtider\",\"Familie\",\"Vilde dyr\",\"Vilde dyr (danske)\",\"Venner\",\"Monstre, guder og andre fantasiv\\u00e6sener\",\"Vilde dyr\",\"Vilde dyr (danske)\",\"Husdyr\",\"Vilde dyr (danske)\",\"Monstre, guder og andre fantasiv\\u00e6sener\",null,\"Familie\",\"Leget\\u00f8j og mine ting\",\"H\\u00f8jtider\",\"K\\u00e6ledyr\",\"Mad\",\"Monstre, guder og andre fantasiv\\u00e6sener\",\"Venner\",\"Venner\",\"H\\u00f8jtider\",\"Mad\",\"Venner\",\"Oplevelse\",\"Monstre, guder og andre fantasiv\\u00e6sener\",\"H\\u00f8jtider\",\"Venner\",\"Vilde dyr\",\"Vilde dyr\",\"Vilde dyr (danske)\",\"Vilde dyr\",\"H\\u00f8jtider\",\"Venner\",\"Familie\",\"Venner\",\"Familie\",\"Mennesker\",\"H\\u00f8jtider\",\"Venner\",\"Familie\",\"Venner\",\"Monstre, guder og andre fantasiv\\u00e6sener\",\"Familie\",\"Leget\\u00f8j og mine ting\",\"Natur\",\"B\\u00f8ger, film, musik, computerspil\",\"H\\u00f8jtider\",\"Skole\",\"Monstre, guder og andre fantasiv\\u00e6sener\",\"Monstre, guder og andre fantasiv\\u00e6sener\",\"Monstre, guder og andre fantasiv\\u00e6sener\",\"Skole\",\"H\\u00f8jtider\",\"Venner\",\"K\\u00e6ledyr\",\"H\\u00f8jtider\",\"K\\u00e6ledyr\",\"Mad\",\"B\\u00f8ger, film, musik, computerspil\",\"Monstre, guder og andre fantasiv\\u00e6sener\",\"H\\u00f8jtider\",\"Venner\",\"Venner\",\"H\\u00f8jtider\",\"Biler og andre k\\u00f8ret\\u00f8jer\",\"Skole\",\"Familie\",\"Monstre, guder og andre fantasiv\\u00e6sener\",null,\"Biler og andre k\\u00f8ret\\u00f8jer\",\"Vilde dyr (danske)\",\"K\\u00e6ledyr\",null,\"Husdyr\",\"Skole\",\"Mig selv\",\"K\\u00e6ledyr\",\"Mig selv\",\"K\\u00e6ledyr\",\"Monstre, guder og andre fantasiv\\u00e6sener\",\"Monstre, guder og andre fantasiv\\u00e6sener\",\"Oplevelse\",\"Monstre, guder og andre fantasiv\\u00e6sener\",\"Biler og andre k\\u00f8ret\\u00f8jer\",\"K\\u00e6ledyr\",\"Monstre, guder og andre fantasiv\\u00e6sener\",\"H\\u00f8jtider\",\"Monstre, guder og andre fantasiv\\u00e6sener\",\"Mad\",\"Leget\\u00f8j og mine ting\",\"Vilde dyr\",\"B\\u00f8ger, film, musik, computerspil\",\"Oplevelse\",\"Familie\",\"Vilde dyr\",\"K\\u00e6ledyr\",\"Vilde dyr\",\"Mig selv\",\"Husdyr\",\"Husdyr\",\"Leget\\u00f8j og mine ting\",\"Biler og andre k\\u00f8ret\\u00f8jer\",\"Vilde dyr\",\"Husdyr\",\"Vilde dyr\",\"Husdyr\",\"Monstre, guder og andre fantasiv\\u00e6sener\",\"Biler og andre k\\u00f8ret\\u00f8jer\",\"K\\u00e6ledyr\",\"Familie\",\"Mennesker\",\"Venner\",\"Mennesker\",\"K\\u00e6ledyr\",null,\"Leget\\u00f8j og mine ting\",\"Vilde dyr\",\"Venner\",\"Venner\",\"Venner\",\"Mig selv\",\"Venner\",\"Vilde dyr\",\"Venner\",\"Familie\",\"Familie\",\"Vilde dyr (danske)\",\"Mad\",\"Familie\",\"Natur\",\"H\\u00f8jtider\",\"H\\u00f8jtider\",null,\"Oplevelse\",null,\"Leget\\u00f8j og mine ting\",\"Mig selv\",\"H\\u00f8jtider\",\"Mig selv\",\"Vilde dyr\",\"Politi og milit\\u00e6r\",\"Leget\\u00f8j og mine ting\",\"Mig selv\",\"Biler og andre k\\u00f8ret\\u00f8jer\",\"Monstre, guder og andre fantasiv\\u00e6sener\",\"Sport\",\"Monstre, guder og andre fantasiv\\u00e6sener\",\"Leget\\u00f8j og mine ting\",\"Biler og andre k\\u00f8ret\\u00f8jer\",\"Leget\\u00f8j og mine ting\",\"Vilde dyr (danske)\",\"K\\u00e6ledyr\",\"Vilde dyr\",\"B\\u00f8ger, film, musik, computerspil\",\"Mad\",\"H\\u00f8jtider\",\"Vilde dyr\",\"Natur\",null,\"Venner\",\"H\\u00f8jtider\",\"Ubestemmelig\",\"Mad\",\"Mig selv\",\"Sport\",\"Biler og andre k\\u00f8ret\\u00f8jer\",\"Mad\",\"Oplevelse\",\"Biler og andre k\\u00f8ret\\u00f8jer\",\"Mennesker\",\"Sport\",\"Natur\",\"Oplevelse\",\"Familie\",\"Mad\",\"Mad\",\"Vilde dyr\",\"B\\u00f8ger, film, musik, computerspil\",\"Venner\",\"Leget\\u00f8j og mine ting\",\"Mad\",\"Teknologi\",\"Monstre, guder og andre fantasiv\\u00e6sener\",\"Husdyr\",\"Leget\\u00f8j og mine ting\",\"K\\u00e6ledyr\",\"Husdyr\",\"Venner\",\"Familie\",\"Vilde dyr\",\"Oplevelse\",\"Venner\",\"Mad\",\"Natur\",\"Natur\",\"H\\u00f8jtider\",\"Monstre, guder og andre fantasiv\\u00e6sener\",\"Husdyr\",\"K\\u00e6ledyr\",\"K\\u00e6ledyr\",\"Monstre, guder og andre fantasiv\\u00e6sener\",\"Vilde dyr (danske)\",\"Natur\",\"Vilde dyr\",\"Natur\",\"Vilde dyr\",\"H\\u00f8jtider\",\"Vilde dyr (danske)\",\"Vilde dyr (danske)\",\"Vilde dyr (danske)\",\"Mennesker\",\"Vilde dyr\",\"Vilde dyr\",\"Vilde dyr (danske)\",\"K\\u00e6ledyr\",\"Husdyr\",\"Skole\",\"Vilde dyr\",\"Biler og andre k\\u00f8ret\\u00f8jer\",\"K\\u00e6ledyr\",null,\"K\\u00e6ledyr\",\"Mennesker\",\"Venner\",\"Vilde dyr (danske)\",\"K\\u00e6ledyr\",\"Monstre, guder og andre fantasiv\\u00e6sener\",null,\"K\\u00e6ledyr\",\"Natur\",\"Teknologi\",\"Vilde dyr (danske)\",\"Vilde dyr\",\"K\\u00e6ledyr\",\"Mad\",\"Vilde dyr (danske)\",\"Mad\",\"Ubestemmelig\",\"K\\u00e6ledyr\",\"K\\u00e6ledyr\",\"Oplevelse\",\"Familie\",\"Mig selv\",\"Teknologi\",\"K\\u00e6ledyr\",\"Familie\",\"Vilde dyr\",\"K\\u00e6ledyr\",\"Natur\",\"K\\u00e6ledyr\",\"Mennesker\",\"Mig selv\",\"Venner\",\"Vilde dyr\",\"Mad\",\"Oplevelse\",\"Oplevelse\",\"K\\u00e6ledyr\",\"Ubestemmelig\",\"Sport\",\"K\\u00e6ledyr\",\"Oplevelse\",\"Monstre, guder og andre fantasiv\\u00e6sener\",\"Teknologi\",\"Oplevelse\",\"Biler og andre k\\u00f8ret\\u00f8jer\",\"Mad\",\"Monstre, guder og andre fantasiv\\u00e6sener\",\"Venner\",\"H\\u00f8jtider\",\"Oplevelse\",\"Venner\",\"Ubestemmelig\",\"H\\u00f8jtider\",\"H\\u00f8jtider\",\"Politi og milit\\u00e6r\",\"Oplevelse\",\"Venner\",\"Familie\",\"Vilde dyr\",\"Monstre, guder og andre fantasiv\\u00e6sener\",\"Ubestemmelig\",\"Mig selv\",\"B\\u00f8ger, film, musik, computerspil\",\"Familie\",\"K\\u00e6ledyr\",\"Mig selv\",\"H\\u00f8jtider\",\"B\\u00f8ger, film, musik, computerspil\",\"Husdyr\",\"B\\u00f8ger, film, musik, computerspil\",\"K\\u00e6ledyr\",\"Monstre, guder og andre fantasiv\\u00e6sener\",\"Mig selv\",\"Venner\",\"Familie\",\"B\\u00f8ger, film, musik, computerspil\",\"Sport\",\"Mennesker\",\"Vilde dyr\",\"K\\u00e6ledyr\",\"Monstre, guder og andre fantasiv\\u00e6sener\",\"Mig selv\",\"B\\u00f8ger, film, musik, computerspil\",\"Mig selv\",\"Venner\",\"K\\u00e6ledyr\",\"Venner\",\"K\\u00e6ledyr\",\"Mennesker\",\"H\\u00f8jtider\",\"Mad\",\"Skole\",\"H\\u00f8jtider\",\"Skole\",\"H\\u00f8jtider\",\"Mad\",\"Teknologi\",\"Mennesker\",\"B\\u00f8ger, film, musik, computerspil\",\"H\\u00f8jtider\",\"Mad\",\"Natur\",null,\"Venner\",\"Monstre, guder og andre fantasiv\\u00e6sener\",\"Familie\",\"H\\u00f8jtider\",\"Monstre, guder og andre fantasiv\\u00e6sener\",\"H\\u00f8jtider\",\"H\\u00f8jtider\",\"H\\u00f8jtider\",\"H\\u00f8jtider\",\"Monstre, guder og andre fantasiv\\u00e6sener\",\"H\\u00f8jtider\",\"H\\u00f8jtider\",\"K\\u00e6ledyr\",\"H\\u00f8jtider\",\"Biler og andre k\\u00f8ret\\u00f8jer\",\"H\\u00f8jtider\",\"Vilde dyr (danske)\",\"K\\u00e6ledyr\",\"Oplevelse\",\"Vilde dyr (danske)\",\"Vilde dyr\",\"Natur\",\"K\\u00e6ledyr\",\"Mennesker\",\"Skole\",\"Leget\\u00f8j og mine ting\",\"Vilde dyr\",\"Monstre, guder og andre fantasiv\\u00e6sener\",\"B\\u00f8ger, film, musik, computerspil\",\"Natur\",\"K\\u00e6ledyr\",\"Venner\",\"Familie\",\"Mig selv\",\"Vilde dyr\",\"Mig selv\",\"Mig selv\",\"Venner\",\"Familie\",\"Skole\",\"Husdyr\",\"Natur\",\"Natur\",\"Natur\",\"Sport\",\"Natur\",\"Natur\",\"H\\u00f8jtider\",\"H\\u00f8jtider\",\"K\\u00e6ledyr\",\"H\\u00f8jtider\",\"H\\u00f8jtider\",\"Mad\",\"H\\u00f8jtider\",\"H\\u00f8jtider\",\"K\\u00e6ledyr\",\"Biler og andre k\\u00f8ret\\u00f8jer\",\"Biler og andre k\\u00f8ret\\u00f8jer\",\"Vilde dyr\",\"Natur\",\"Mennesker\",null,\"B\\u00f8ger, film, musik, computerspil\",\"Familie\",\"B\\u00f8ger, film, musik, computerspil\",\"Ubestemmelig\",null,\"Mig selv\",\"H\\u00f8jtider\",\"K\\u00e6ledyr\",\"Ubestemmelig\",\"Vilde dyr\",\"Venner\",\"Skole\",\"Familie\",\"Venner\",\"Mig selv\",\"Familie\",\"K\\u00e6ledyr\",\"Biler og andre k\\u00f8ret\\u00f8jer\",\"Ubestemmelig\",\"Ubestemmelig\",\"Mad\",\"K\\u00e6ledyr\",\"H\\u00f8jtider\",\"Vilde dyr\",\"Mig selv\",\"Biler og andre k\\u00f8ret\\u00f8jer\",\"B\\u00f8ger, film, musik, computerspil\",\"Oplevelse\",\"B\\u00f8ger, film, musik, computerspil\",\"H\\u00f8jtider\",\"K\\u00e6ledyr\",\"K\\u00e6ledyr\",\"Familie\",\"H\\u00f8jtider\",\"K\\u00e6ledyr\",\"Familie\",\"H\\u00f8jtider\",\"Vilde dyr\",\"Vilde dyr\",\"Natur\",\"K\\u00e6ledyr\",\"Vilde dyr\",\"Sport\",\"Sport\",\"Monstre, guder og andre fantasiv\\u00e6sener\",\"Sport\",\"Sport\",\"Venner\",\"Vilde dyr\",\"H\\u00f8jtider\",\"Venner\",\"K\\u00e6ledyr\",\"Monstre, guder og andre fantasiv\\u00e6sener\",\"Natur\",\"Familie\",\"Familie\",\"Venner\",\"Venner\",\"Oplevelse\",\"Leget\\u00f8j og mine ting\",\"Monstre, guder og andre fantasiv\\u00e6sener\",\"K\\u00e6ledyr\",\"K\\u00e6ledyr\",\"Venner\",\"H\\u00f8jtider\",\"Monstre, guder og andre fantasiv\\u00e6sener\",\"Skole\",\"Monstre, guder og andre fantasiv\\u00e6sener\",\"H\\u00f8jtider\",\"Skole\",\"Ubestemmelig\",\"Ubestemmelig\",\"Mennesker\",\"Oplevelse\",\"K\\u00e6ledyr\",\"Mennesker\",\"Mad\",\"Mad\",\"H\\u00f8jtider\",\"H\\u00f8jtider\",\"Skole\",\"Teknologi\",\"Familie\",\"Mennesker\",\"Politi og milit\\u00e6r\",\"Ubestemmelig\",\"Monstre, guder og andre fantasiv\\u00e6sener\",\"B\\u00f8ger, film, musik, computerspil\",\"Mennesker\",\"Monstre, guder og andre fantasiv\\u00e6sener\",\"Vilde dyr\",\"Politi og milit\\u00e6r\",\"Leget\\u00f8j og mine ting\",null,\"Oplevelse\",\"Familie\",\"Oplevelse\",\"Monstre, guder og andre fantasiv\\u00e6sener\",\"Monstre, guder og andre fantasiv\\u00e6sener\",\"Skole\",\"H\\u00f8jtider\",\"Natur\",\"B\\u00f8ger, film, musik, computerspil\",\"Ubestemmelig\",\"H\\u00f8jtider\",\"Familie\",\"Skole\",\"Venner\",\"Skole\",\"Teknologi\",\"Skole\",\"Familie\",\"Skole\",\"Mennesker\",\"Leget\\u00f8j og mine ting\",\"Monstre, guder og andre fantasiv\\u00e6sener\",\"Leget\\u00f8j og mine ting\",\"Vilde dyr (danske)\",\"Mad\",\"Venner\",\"Vilde dyr\",\"Skole\",\"Mad\",\"B\\u00f8ger, film, musik, computerspil\",\"Venner\",\"Vilde dyr (danske)\",\"K\\u00e6ledyr\",\"K\\u00e6ledyr\",\"B\\u00f8ger, film, musik, computerspil\",\"Venner\",\"K\\u00e6ledyr\",\"Mig selv\",\"Venner\",\"Venner\",\"Venner\",\"B\\u00f8ger, film, musik, computerspil\",\"Oplevelse\",\"Monstre, guder og andre fantasiv\\u00e6sener\",\"Monstre, guder og andre fantasiv\\u00e6sener\",\"Skole\",\"Oplevelse\",\"Vilde dyr (danske)\",\"Skole\",\"Husdyr\",\"Vilde dyr\",\"Vilde dyr (danske)\",\"B\\u00f8ger, film, musik, computerspil\",\"Oplevelse\",\"Oplevelse\",\"Oplevelse\",\"Oplevelse\",\"Husdyr\",\"Skole\",\"Oplevelse\",\"Oplevelse\",\"Monstre, guder og andre fantasiv\\u00e6sener\",\"Oplevelse\",\"Monstre, guder og andre fantasiv\\u00e6sener\",\"Vilde dyr (danske)\",\"Vilde dyr\",\"Oplevelse\",\"Familie\",\"Venner\",\"Monstre, guder og andre fantasiv\\u00e6sener\",\"Husdyr\",\"Oplevelse\",\"B\\u00f8ger, film, musik, computerspil\",\"Familie\",\"Vilde dyr\",\"Mad\",\"Ubestemmelig\",\"K\\u00e6ledyr\",\"Sport\",\"Sport\",\"B\\u00f8ger, film, musik, computerspil\",\"H\\u00f8jtider\",\"Oplevelse\",\"B\\u00f8ger, film, musik, computerspil\",\"Oplevelse\",\"Sport\",\"Oplevelse\",\"H\\u00f8jtider\",\"Mig selv\",\"Sport\",\"Sport\",\"Ubestemmelig\",\"Skole\",\"Oplevelse\",\"Oplevelse\",\"Vilde dyr (danske)\",\"Skole\",\"Natur\",\"Monstre, guder og andre fantasiv\\u00e6sener\",\"Skole\",\"Mennesker\",\"Monstre, guder og andre fantasiv\\u00e6sener\",\"Mig selv\",\"K\\u00e6ledyr\",\"K\\u00e6ledyr\",\"K\\u00e6ledyr\",\"Vilde dyr\",\"Mad\",\"K\\u00e6ledyr\",\"Skole\",\"Natur\",\"Monstre, guder og andre fantasiv\\u00e6sener\",\"H\\u00f8jtider\",\"Skole\",\"Skole\",\"Monstre, guder og andre fantasiv\\u00e6sener\",\"H\\u00f8jtider\",\"Venner\",\"Familie\",\"Oplevelse\",\"Oplevelse\",\"Leget\\u00f8j og mine ting\",\"Mig selv\",\"Familie\",\"Oplevelse\",\"Monstre, guder og andre fantasiv\\u00e6sener\",\"Monstre, guder og andre fantasiv\\u00e6sener\",\"Monstre, guder og andre fantasiv\\u00e6sener\",\"Venner\",\"K\\u00e6ledyr\",\"Mennesker\",\"Vilde dyr\",\"Vilde dyr\",\"Mennesker\",\"Mad\",\"K\\u00e6ledyr\",\"Vilde dyr\",\"Venner\",\"Vilde dyr\",\"Oplevelse\",\"Vilde dyr\",\"Mig selv\",\"B\\u00f8ger, film, musik, computerspil\",\"Skole\",\"Oplevelse\",\"H\\u00f8jtider\",\"Skole\",\"Vilde dyr\",\"K\\u00e6ledyr\",null,\"Skole\",\"K\\u00e6ledyr\",\"Husdyr\",\"Vilde dyr (danske)\",\"Vilde dyr\",\"Mig selv\",null,\"Mennesker\",\"Skole\",\"Oplevelse\",\"Natur\",\"Biler og andre k\\u00f8ret\\u00f8jer\",\"Natur\",\"Monstre, guder og andre fantasiv\\u00e6sener\",\"Ubestemmelig\",\"Venner\",\"Mennesker\",\"B\\u00f8ger, film, musik, computerspil\",\"Monstre, guder og andre fantasiv\\u00e6sener\",\"Venner\",\"Natur\",\"B\\u00f8ger, film, musik, computerspil\",\"B\\u00f8ger, film, musik, computerspil\",\"Monstre, guder og andre fantasiv\\u00e6sener\",\"Monstre, guder og andre fantasiv\\u00e6sener\",\"H\\u00f8jtider\",\"Ubestemmelig\",\"K\\u00e6ledyr\",\"Mennesker\",\"Mennesker\",\"Politi og milit\\u00e6r\",\"K\\u00e6ledyr\",\"Ubestemmelig\",\"Monstre, guder og andre fantasiv\\u00e6sener\",\"Ubestemmelig\",\"Vilde dyr (danske)\",\"Husdyr\",\"Mig selv\",\"Vilde dyr\",\"Biler og andre k\\u00f8ret\\u00f8jer\",\"H\\u00f8jtider\",\"Ubestemmelig\",\"Sport\",\"K\\u00e6ledyr\",\"Monstre, guder og andre fantasiv\\u00e6sener\",\"Mad\",\"Oplevelse\",\"Biler og andre k\\u00f8ret\\u00f8jer\",\"Biler og andre k\\u00f8ret\\u00f8jer\",\"Oplevelse\",\"Vilde dyr\",\"Sport\",\"Vilde dyr\",\"Vilde dyr\",\"Natur\",\"Monstre, guder og andre fantasiv\\u00e6sener\",\"Oplevelse\",\"Monstre, guder og andre fantasiv\\u00e6sener\",\"Monstre, guder og andre fantasiv\\u00e6sener\",\"Ubestemmelig\",\"Mad\",\"Vilde dyr\",\"Mig selv\",\"Vilde dyr\",\"Venner\",\"Vilde dyr\",\"Vilde dyr\",\"Oplevelse\",\"K\\u00e6ledyr\",\"B\\u00f8ger, film, musik, computerspil\",\"Skole\",\"K\\u00e6ledyr\",\"K\\u00e6ledyr\",\"Monstre, guder og andre fantasiv\\u00e6sener\",\"K\\u00e6ledyr\",\"Vilde dyr\",\"Skole\",\"Ubestemmelig\",\"Husdyr\",\"Vilde dyr\",\"B\\u00f8ger, film, musik, computerspil\",\"H\\u00f8jtider\",\"Familie\",\"Vilde dyr\",\"Skole\",\"K\\u00e6ledyr\",\"Vilde dyr (danske)\",\"Oplevelse\",\"Oplevelse\",\"Ubestemmelig\",\"Monstre, guder og andre fantasiv\\u00e6sener\",\"Monstre, guder og andre fantasiv\\u00e6sener\",\"Leget\\u00f8j og mine ting\",\"B\\u00f8ger, film, musik, computerspil\",\"Monstre, guder og andre fantasiv\\u00e6sener\",\"Oplevelse\",\"Monstre, guder og andre fantasiv\\u00e6sener\",\"Monstre, guder og andre fantasiv\\u00e6sener\",\"Monstre, guder og andre fantasiv\\u00e6sener\",\"Vilde dyr (danske)\",\"Mennesker\",null,\"Vilde dyr\",\"Natur\",\"Oplevelse\",\"Venner\",\"Mennesker\",\"Politi og milit\\u00e6r\",\"Mennesker\",\"Natur\",\"K\\u00e6ledyr\",\"K\\u00e6ledyr\",\"Natur\",\"Biler og andre k\\u00f8ret\\u00f8jer\",\"Mennesker\",\"Skole\",\"K\\u00e6ledyr\",\"K\\u00e6ledyr\",\"K\\u00e6ledyr\",\"Ubestemmelig\",\"Venner\",\"Mig selv\",\"H\\u00f8jtider\",\"Natur\",\"Oplevelse\",\"Biler og andre k\\u00f8ret\\u00f8jer\",\"Leget\\u00f8j og mine ting\",\"Biler og andre k\\u00f8ret\\u00f8jer\",\"Biler og andre k\\u00f8ret\\u00f8jer\",\"Mennesker\",\"Mennesker\",\"Mennesker\",\"H\\u00f8jtider\",\"Skole\",\"Biler og andre k\\u00f8ret\\u00f8jer\",\"Mig selv\",\"Sport\",\"Monstre, guder og andre fantasiv\\u00e6sener\",\"Familie\",\"K\\u00e6ledyr\",\"Husdyr\",\"B\\u00f8ger, film, musik, computerspil\",\"Vilde dyr\",\"B\\u00f8ger, film, musik, computerspil\",\"Venner\",\"Familie\",\"Politi og milit\\u00e6r\",\"B\\u00f8ger, film, musik, computerspil\",\"Mennesker\",\"Mig selv\",\"Venner\",\"Natur\",\"B\\u00f8ger, film, musik, computerspil\",\"Ubestemmelig\",\"Mig selv\",\"Vilde dyr\",\"Vilde dyr\",\"Vilde dyr\",\"K\\u00e6ledyr\",\"Venner\",\"H\\u00f8jtider\",\"Mad\",\"Husdyr\",\"Natur\",\"Teknologi\",\"B\\u00f8ger, film, musik, computerspil\",\"Leget\\u00f8j og mine ting\",\"B\\u00f8ger, film, musik, computerspil\",\"Oplevelse\",\"Vilde dyr (danske)\",\"Natur\",\"Skole\",\"Oplevelse\",\"Mig selv\",\"Mad\",\"Sport\",\"B\\u00f8ger, film, musik, computerspil\",\"Venner\",\"Familie\",\"Mig selv\",\"Skole\",\"Vilde dyr (danske)\",\"Mennesker\",\"Leget\\u00f8j og mine ting\",\"Oplevelse\",\"Venner\",\"Familie\",\"Skole\",\"Mig selv\",\"Skole\",\"B\\u00f8ger, film, musik, computerspil\",\"Skole\",\"Familie\",\"B\\u00f8ger, film, musik, computerspil\",\"Biler og andre k\\u00f8ret\\u00f8jer\",\"B\\u00f8ger, film, musik, computerspil\",\"K\\u00e6ledyr\",\"Biler og andre k\\u00f8ret\\u00f8jer\",\"Natur\",\"Monstre, guder og andre fantasiv\\u00e6sener\",\"H\\u00f8jtider\",\"Venner\",\"Oplevelse\",\"Familie\",\"Ubestemmelig\",\"Oplevelse\",\"Familie\",\"Skole\",\"Mig selv\",\"K\\u00e6ledyr\",\"Mad\",\"Ubestemmelig\",\"B\\u00f8ger, film, musik, computerspil\",\"Oplevelse\",\"K\\u00e6ledyr\",\"Skole\",\"Skole\"],\"xaxis\":\"x\",\"yaxis\":\"y\",\"type\":\"histogram\"}],                        {\"template\":{\"data\":{\"histogram2dcontour\":[{\"type\":\"histogram2dcontour\",\"colorbar\":{\"outlinewidth\":0,\"ticks\":\"\"},\"colorscale\":[[0.0,\"#0d0887\"],[0.1111111111111111,\"#46039f\"],[0.2222222222222222,\"#7201a8\"],[0.3333333333333333,\"#9c179e\"],[0.4444444444444444,\"#bd3786\"],[0.5555555555555556,\"#d8576b\"],[0.6666666666666666,\"#ed7953\"],[0.7777777777777778,\"#fb9f3a\"],[0.8888888888888888,\"#fdca26\"],[1.0,\"#f0f921\"]]}],\"choropleth\":[{\"type\":\"choropleth\",\"colorbar\":{\"outlinewidth\":0,\"ticks\":\"\"}}],\"histogram2d\":[{\"type\":\"histogram2d\",\"colorbar\":{\"outlinewidth\":0,\"ticks\":\"\"},\"colorscale\":[[0.0,\"#0d0887\"],[0.1111111111111111,\"#46039f\"],[0.2222222222222222,\"#7201a8\"],[0.3333333333333333,\"#9c179e\"],[0.4444444444444444,\"#bd3786\"],[0.5555555555555556,\"#d8576b\"],[0.6666666666666666,\"#ed7953\"],[0.7777777777777778,\"#fb9f3a\"],[0.8888888888888888,\"#fdca26\"],[1.0,\"#f0f921\"]]}],\"heatmap\":[{\"type\":\"heatmap\",\"colorbar\":{\"outlinewidth\":0,\"ticks\":\"\"},\"colorscale\":[[0.0,\"#0d0887\"],[0.1111111111111111,\"#46039f\"],[0.2222222222222222,\"#7201a8\"],[0.3333333333333333,\"#9c179e\"],[0.4444444444444444,\"#bd3786\"],[0.5555555555555556,\"#d8576b\"],[0.6666666666666666,\"#ed7953\"],[0.7777777777777778,\"#fb9f3a\"],[0.8888888888888888,\"#fdca26\"],[1.0,\"#f0f921\"]]}],\"heatmapgl\":[{\"type\":\"heatmapgl\",\"colorbar\":{\"outlinewidth\":0,\"ticks\":\"\"},\"colorscale\":[[0.0,\"#0d0887\"],[0.1111111111111111,\"#46039f\"],[0.2222222222222222,\"#7201a8\"],[0.3333333333333333,\"#9c179e\"],[0.4444444444444444,\"#bd3786\"],[0.5555555555555556,\"#d8576b\"],[0.6666666666666666,\"#ed7953\"],[0.7777777777777778,\"#fb9f3a\"],[0.8888888888888888,\"#fdca26\"],[1.0,\"#f0f921\"]]}],\"contourcarpet\":[{\"type\":\"contourcarpet\",\"colorbar\":{\"outlinewidth\":0,\"ticks\":\"\"}}],\"contour\":[{\"type\":\"contour\",\"colorbar\":{\"outlinewidth\":0,\"ticks\":\"\"},\"colorscale\":[[0.0,\"#0d0887\"],[0.1111111111111111,\"#46039f\"],[0.2222222222222222,\"#7201a8\"],[0.3333333333333333,\"#9c179e\"],[0.4444444444444444,\"#bd3786\"],[0.5555555555555556,\"#d8576b\"],[0.6666666666666666,\"#ed7953\"],[0.7777777777777778,\"#fb9f3a\"],[0.8888888888888888,\"#fdca26\"],[1.0,\"#f0f921\"]]}],\"surface\":[{\"type\":\"surface\",\"colorbar\":{\"outlinewidth\":0,\"ticks\":\"\"},\"colorscale\":[[0.0,\"#0d0887\"],[0.1111111111111111,\"#46039f\"],[0.2222222222222222,\"#7201a8\"],[0.3333333333333333,\"#9c179e\"],[0.4444444444444444,\"#bd3786\"],[0.5555555555555556,\"#d8576b\"],[0.6666666666666666,\"#ed7953\"],[0.7777777777777778,\"#fb9f3a\"],[0.8888888888888888,\"#fdca26\"],[1.0,\"#f0f921\"]]}],\"mesh3d\":[{\"type\":\"mesh3d\",\"colorbar\":{\"outlinewidth\":0,\"ticks\":\"\"}}],\"scatter\":[{\"fillpattern\":{\"fillmode\":\"overlay\",\"size\":10,\"solidity\":0.2},\"type\":\"scatter\"}],\"parcoords\":[{\"type\":\"parcoords\",\"line\":{\"colorbar\":{\"outlinewidth\":0,\"ticks\":\"\"}}}],\"scatterpolargl\":[{\"type\":\"scatterpolargl\",\"marker\":{\"colorbar\":{\"outlinewidth\":0,\"ticks\":\"\"}}}],\"bar\":[{\"error_x\":{\"color\":\"#2a3f5f\"},\"error_y\":{\"color\":\"#2a3f5f\"},\"marker\":{\"line\":{\"color\":\"#E5ECF6\",\"width\":0.5},\"pattern\":{\"fillmode\":\"overlay\",\"size\":10,\"solidity\":0.2}},\"type\":\"bar\"}],\"scattergeo\":[{\"type\":\"scattergeo\",\"marker\":{\"colorbar\":{\"outlinewidth\":0,\"ticks\":\"\"}}}],\"scatterpolar\":[{\"type\":\"scatterpolar\",\"marker\":{\"colorbar\":{\"outlinewidth\":0,\"ticks\":\"\"}}}],\"histogram\":[{\"marker\":{\"pattern\":{\"fillmode\":\"overlay\",\"size\":10,\"solidity\":0.2}},\"type\":\"histogram\"}],\"scattergl\":[{\"type\":\"scattergl\",\"marker\":{\"colorbar\":{\"outlinewidth\":0,\"ticks\":\"\"}}}],\"scatter3d\":[{\"type\":\"scatter3d\",\"line\":{\"colorbar\":{\"outlinewidth\":0,\"ticks\":\"\"}},\"marker\":{\"colorbar\":{\"outlinewidth\":0,\"ticks\":\"\"}}}],\"scattermapbox\":[{\"type\":\"scattermapbox\",\"marker\":{\"colorbar\":{\"outlinewidth\":0,\"ticks\":\"\"}}}],\"scatterternary\":[{\"type\":\"scatterternary\",\"marker\":{\"colorbar\":{\"outlinewidth\":0,\"ticks\":\"\"}}}],\"scattercarpet\":[{\"type\":\"scattercarpet\",\"marker\":{\"colorbar\":{\"outlinewidth\":0,\"ticks\":\"\"}}}],\"carpet\":[{\"aaxis\":{\"endlinecolor\":\"#2a3f5f\",\"gridcolor\":\"white\",\"linecolor\":\"white\",\"minorgridcolor\":\"white\",\"startlinecolor\":\"#2a3f5f\"},\"baxis\":{\"endlinecolor\":\"#2a3f5f\",\"gridcolor\":\"white\",\"linecolor\":\"white\",\"minorgridcolor\":\"white\",\"startlinecolor\":\"#2a3f5f\"},\"type\":\"carpet\"}],\"table\":[{\"cells\":{\"fill\":{\"color\":\"#EBF0F8\"},\"line\":{\"color\":\"white\"}},\"header\":{\"fill\":{\"color\":\"#C8D4E3\"},\"line\":{\"color\":\"white\"}},\"type\":\"table\"}],\"barpolar\":[{\"marker\":{\"line\":{\"color\":\"#E5ECF6\",\"width\":0.5},\"pattern\":{\"fillmode\":\"overlay\",\"size\":10,\"solidity\":0.2}},\"type\":\"barpolar\"}],\"pie\":[{\"automargin\":true,\"type\":\"pie\"}]},\"layout\":{\"autotypenumbers\":\"strict\",\"colorway\":[\"#636efa\",\"#EF553B\",\"#00cc96\",\"#ab63fa\",\"#FFA15A\",\"#19d3f3\",\"#FF6692\",\"#B6E880\",\"#FF97FF\",\"#FECB52\"],\"font\":{\"color\":\"#2a3f5f\"},\"hovermode\":\"closest\",\"hoverlabel\":{\"align\":\"left\"},\"paper_bgcolor\":\"white\",\"plot_bgcolor\":\"#E5ECF6\",\"polar\":{\"bgcolor\":\"#E5ECF6\",\"angularaxis\":{\"gridcolor\":\"white\",\"linecolor\":\"white\",\"ticks\":\"\"},\"radialaxis\":{\"gridcolor\":\"white\",\"linecolor\":\"white\",\"ticks\":\"\"}},\"ternary\":{\"bgcolor\":\"#E5ECF6\",\"aaxis\":{\"gridcolor\":\"white\",\"linecolor\":\"white\",\"ticks\":\"\"},\"baxis\":{\"gridcolor\":\"white\",\"linecolor\":\"white\",\"ticks\":\"\"},\"caxis\":{\"gridcolor\":\"white\",\"linecolor\":\"white\",\"ticks\":\"\"}},\"coloraxis\":{\"colorbar\":{\"outlinewidth\":0,\"ticks\":\"\"}},\"colorscale\":{\"sequential\":[[0.0,\"#0d0887\"],[0.1111111111111111,\"#46039f\"],[0.2222222222222222,\"#7201a8\"],[0.3333333333333333,\"#9c179e\"],[0.4444444444444444,\"#bd3786\"],[0.5555555555555556,\"#d8576b\"],[0.6666666666666666,\"#ed7953\"],[0.7777777777777778,\"#fb9f3a\"],[0.8888888888888888,\"#fdca26\"],[1.0,\"#f0f921\"]],\"sequentialminus\":[[0.0,\"#0d0887\"],[0.1111111111111111,\"#46039f\"],[0.2222222222222222,\"#7201a8\"],[0.3333333333333333,\"#9c179e\"],[0.4444444444444444,\"#bd3786\"],[0.5555555555555556,\"#d8576b\"],[0.6666666666666666,\"#ed7953\"],[0.7777777777777778,\"#fb9f3a\"],[0.8888888888888888,\"#fdca26\"],[1.0,\"#f0f921\"]],\"diverging\":[[0,\"#8e0152\"],[0.1,\"#c51b7d\"],[0.2,\"#de77ae\"],[0.3,\"#f1b6da\"],[0.4,\"#fde0ef\"],[0.5,\"#f7f7f7\"],[0.6,\"#e6f5d0\"],[0.7,\"#b8e186\"],[0.8,\"#7fbc41\"],[0.9,\"#4d9221\"],[1,\"#276419\"]]},\"xaxis\":{\"gridcolor\":\"white\",\"linecolor\":\"white\",\"ticks\":\"\",\"title\":{\"standoff\":15},\"zerolinecolor\":\"white\",\"automargin\":true,\"zerolinewidth\":2},\"yaxis\":{\"gridcolor\":\"white\",\"linecolor\":\"white\",\"ticks\":\"\",\"title\":{\"standoff\":15},\"zerolinecolor\":\"white\",\"automargin\":true,\"zerolinewidth\":2},\"scene\":{\"xaxis\":{\"backgroundcolor\":\"#E5ECF6\",\"gridcolor\":\"white\",\"linecolor\":\"white\",\"showbackground\":true,\"ticks\":\"\",\"zerolinecolor\":\"white\",\"gridwidth\":2},\"yaxis\":{\"backgroundcolor\":\"#E5ECF6\",\"gridcolor\":\"white\",\"linecolor\":\"white\",\"showbackground\":true,\"ticks\":\"\",\"zerolinecolor\":\"white\",\"gridwidth\":2},\"zaxis\":{\"backgroundcolor\":\"#E5ECF6\",\"gridcolor\":\"white\",\"linecolor\":\"white\",\"showbackground\":true,\"ticks\":\"\",\"zerolinecolor\":\"white\",\"gridwidth\":2}},\"shapedefaults\":{\"line\":{\"color\":\"#2a3f5f\"}},\"annotationdefaults\":{\"arrowcolor\":\"#2a3f5f\",\"arrowhead\":0,\"arrowwidth\":1},\"geo\":{\"bgcolor\":\"white\",\"landcolor\":\"#E5ECF6\",\"subunitcolor\":\"white\",\"showland\":true,\"showlakes\":true,\"lakecolor\":\"white\"},\"title\":{\"x\":0.05},\"mapbox\":{\"style\":\"light\"}}},\"xaxis\":{\"anchor\":\"y\",\"domain\":[0.0,1.0],\"title\":{\"text\":\"Semantisk univers\"},\"categoryorder\":\"total descending\"},\"yaxis\":{\"anchor\":\"x\",\"domain\":[0.0,1.0],\"title\":{\"text\":\"count\"}},\"legend\":{\"tracegroupgap\":0},\"margin\":{\"t\":60},\"barmode\":\"relative\"},                        {\"responsive\": true}                    ).then(function(){\n",
       "                            \n",
       "var gd = document.getElementById('c560bb60-59b2-4058-9df9-b4d9c6411a72');\n",
       "var x = new MutationObserver(function (mutations, observer) {{\n",
       "        var display = window.getComputedStyle(gd).display;\n",
       "        if (!display || display === 'none') {{\n",
       "            console.log([gd, 'removed!']);\n",
       "            Plotly.purge(gd);\n",
       "            observer.disconnect();\n",
       "        }}\n",
       "}});\n",
       "\n",
       "// Listen for the removal of the full notebook cells\n",
       "var notebookContainer = gd.closest('#notebook-container');\n",
       "if (notebookContainer) {{\n",
       "    x.observe(notebookContainer, {childList: true});\n",
       "}}\n",
       "\n",
       "// Listen for the clearing of the current output cell\n",
       "var outputEl = gd.closest('.output');\n",
       "if (outputEl) {{\n",
       "    x.observe(outputEl, {childList: true});\n",
       "}}\n",
       "\n",
       "                        })                };                });            </script>        </div>"
      ]
     },
     "metadata": {},
     "output_type": "display_data"
    }
   ],
   "source": [
    "\n",
    "px.histogram(ex_book_df[['book_id', 'Semantisk univers']].drop_duplicates(), x='Semantisk univers')\\\n",
    "  .update_xaxes(categoryorder='total descending')"
   ]
  },
  {
   "cell_type": "code",
   "execution_count": null,
   "id": "c49c431a-7e7c-4202-98a2-6e51533109ad",
   "metadata": {},
   "outputs": [],
   "source": []
  }
 ],
 "metadata": {
  "kernelspec": {
   "display_name": "Python 3 (ipykernel)",
   "language": "python",
   "name": "python3"
  },
  "language_info": {
   "codemirror_mode": {
    "name": "ipython",
    "version": 3
   },
   "file_extension": ".py",
   "mimetype": "text/x-python",
   "name": "python",
   "nbconvert_exporter": "python",
   "pygments_lexer": "ipython3",
   "version": "3.8.10"
  }
 },
 "nbformat": 4,
 "nbformat_minor": 5
}
