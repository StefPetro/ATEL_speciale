{
 "cells": [
  {
   "cell_type": "code",
   "execution_count": 1,
   "id": "e2bd412b-940c-4f7f-b08c-28b432bf8d6d",
   "metadata": {},
   "outputs": [],
   "source": [
    "import gc\n",
    "import numpy as np\n",
    "import pandas as pd\n",
    "from sklearn.preprocessing import MultiLabelBinarizer\n",
    "\n",
    "import plotly.express as px\n",
    "\n",
    "from atel.data import BookCollection"
   ]
  },
  {
   "cell_type": "code",
   "execution_count": 3,
   "id": "095bc600-4850-4dbc-b017-34e4d943be05",
   "metadata": {},
   "outputs": [
    {
     "name": "stdout",
     "output_type": "stream",
     "text": [
      "Loaded from disk: ./data/book_col_271120.pkl\n",
      "Number of books: 803\n"
     ]
    }
   ],
   "source": [
    "# load data\n",
    "book_col = BookCollection(data_file='./data/book_col_271120.pkl')\n",
    "\n",
    "# Total number of books\n",
    "print(f'Number of books: {book_col.num_books}')"
   ]
  },
  {
   "cell_type": "markdown",
   "id": "4df40d44-94bd-4d19-b7f8-f10f44de3b4d",
   "metadata": {},
   "source": [
    "# Book level"
   ]
  },
  {
   "cell_type": "code",
   "execution_count": 4,
   "id": "68ccd880-678a-4dfb-b203-25af860ab6ad",
   "metadata": {},
   "outputs": [
    {
     "name": "stdout",
     "output_type": "stream",
     "text": [
      "\tGenre                    \t['Selvportræt']\n",
      "\tAttitude                 \t['Bedømmelse positiv']\n",
      "\tStavning                 \t['Semifonetisk']\n",
      "\tPerspektiv               \tEksplicit fortæller\n",
      "\tTekstbånd                \t\n",
      "\tFremstillingsform        \t['Beskrivende']\n",
      "\tSemantisk univers        \t['Mennesker']\n",
      "\tHolistisk vurdering      \t1\n",
      "\tStemmer                  \t['En stemme']\n"
     ]
    }
   ],
   "source": [
    "for key, value in book_col[0].code_dict.items():\n",
    "    print(f\"\\t{key:25s}\\t{value}\")"
   ]
  },
  {
   "cell_type": "code",
   "execution_count": 5,
   "id": "43b548be-cdfb-4983-8208-9a931020d1c8",
   "metadata": {},
   "outputs": [
    {
     "name": "stdout",
     "output_type": "stream",
     "text": [
      "Book with index 509 is None\n"
     ]
    }
   ],
   "source": [
    "data = []\n",
    "\n",
    "for i, book in enumerate(book_col):\n",
    "    if book.code_dict is None:\n",
    "        print(f'Book with index {i} is None')\n",
    "        continue\n",
    "    book.code_dict['book_id'] = i \n",
    "    data.append(book.code_dict)"
   ]
  },
  {
   "cell_type": "code",
   "execution_count": 6,
   "id": "e1593c61-f3dc-4915-a0ef-8f5166887cb0",
   "metadata": {},
   "outputs": [],
   "source": [
    "book_df = pd.DataFrame(data)"
   ]
  },
  {
   "cell_type": "code",
   "execution_count": 7,
   "id": "b61dcd6e-79b5-4096-bee6-5d089ab40399",
   "metadata": {},
   "outputs": [
    {
     "data": {
      "text/html": [
       "<div>\n",
       "<style scoped>\n",
       "    .dataframe tbody tr th:only-of-type {\n",
       "        vertical-align: middle;\n",
       "    }\n",
       "\n",
       "    .dataframe tbody tr th {\n",
       "        vertical-align: top;\n",
       "    }\n",
       "\n",
       "    .dataframe thead th {\n",
       "        text-align: right;\n",
       "    }\n",
       "</style>\n",
       "<table border=\"1\" class=\"dataframe\">\n",
       "  <thead>\n",
       "    <tr style=\"text-align: right;\">\n",
       "      <th></th>\n",
       "      <th>Genre</th>\n",
       "      <th>Attitude</th>\n",
       "      <th>Stavning</th>\n",
       "      <th>Perspektiv</th>\n",
       "      <th>Tekstbånd</th>\n",
       "      <th>Fremstillingsform</th>\n",
       "      <th>Semantisk univers</th>\n",
       "      <th>Holistisk vurdering</th>\n",
       "      <th>Stemmer</th>\n",
       "      <th>book_id</th>\n",
       "      <th>Forbindere</th>\n",
       "      <th>Interjektioner</th>\n",
       "      <th>Metaforbrug</th>\n",
       "      <th>Noter</th>\n",
       "    </tr>\n",
       "  </thead>\n",
       "  <tbody>\n",
       "    <tr>\n",
       "      <th>0</th>\n",
       "      <td>[Selvportræt]</td>\n",
       "      <td>[Bedømmelse positiv]</td>\n",
       "      <td>[Semifonetisk]</td>\n",
       "      <td>Eksplicit fortæller</td>\n",
       "      <td></td>\n",
       "      <td>[Beskrivende]</td>\n",
       "      <td>[Mennesker]</td>\n",
       "      <td>1</td>\n",
       "      <td>[En stemme]</td>\n",
       "      <td>0</td>\n",
       "      <td>NaN</td>\n",
       "      <td>NaN</td>\n",
       "      <td>NaN</td>\n",
       "      <td>NaN</td>\n",
       "    </tr>\n",
       "    <tr>\n",
       "      <th>1</th>\n",
       "      <td>[Rim og remser]</td>\n",
       "      <td>NaN</td>\n",
       "      <td>[Fonetisk]</td>\n",
       "      <td>Implicit fortæller</td>\n",
       "      <td>[Semantisk]</td>\n",
       "      <td>[Beskrivende]</td>\n",
       "      <td>[Vilde dyr]</td>\n",
       "      <td>1</td>\n",
       "      <td>[En stemme]</td>\n",
       "      <td>1</td>\n",
       "      <td>NaN</td>\n",
       "      <td>NaN</td>\n",
       "      <td>NaN</td>\n",
       "      <td>NaN</td>\n",
       "    </tr>\n",
       "    <tr>\n",
       "      <th>2</th>\n",
       "      <td></td>\n",
       "      <td>[Følelse 1. person]</td>\n",
       "      <td>[Semifonetisk]</td>\n",
       "      <td>Eksplicit fortæller</td>\n",
       "      <td>NaN</td>\n",
       "      <td>[Beskrivende]</td>\n",
       "      <td>[Mig selv]</td>\n",
       "      <td>0</td>\n",
       "      <td>[En stemme]</td>\n",
       "      <td>2</td>\n",
       "      <td>[Tilføjelse]</td>\n",
       "      <td>NaN</td>\n",
       "      <td>NaN</td>\n",
       "      <td>NaN</td>\n",
       "    </tr>\n",
       "    <tr>\n",
       "      <th>3</th>\n",
       "      <td>[Hverdagsbeskrivelse]</td>\n",
       "      <td>NaN</td>\n",
       "      <td>[Semifonetisk, Fonetisk]</td>\n",
       "      <td>Implicit fortæller</td>\n",
       "      <td>NaN</td>\n",
       "      <td>[Beskrivende]</td>\n",
       "      <td>[Kæledyr]</td>\n",
       "      <td>1</td>\n",
       "      <td>[En stemme]</td>\n",
       "      <td>3</td>\n",
       "      <td>NaN</td>\n",
       "      <td>NaN</td>\n",
       "      <td>NaN</td>\n",
       "      <td>NaN</td>\n",
       "    </tr>\n",
       "    <tr>\n",
       "      <th>4</th>\n",
       "      <td>[Hverdagsbeskrivelse]</td>\n",
       "      <td>[Følelse 3. person]</td>\n",
       "      <td>[Konventionel skrivning]</td>\n",
       "      <td>Implicit fortæller</td>\n",
       "      <td>NaN</td>\n",
       "      <td>[Beskrivende]</td>\n",
       "      <td>[Familie]</td>\n",
       "      <td>2</td>\n",
       "      <td>[En stemme]</td>\n",
       "      <td>4</td>\n",
       "      <td>NaN</td>\n",
       "      <td>[Attitude]</td>\n",
       "      <td>NaN</td>\n",
       "      <td>NaN</td>\n",
       "    </tr>\n",
       "  </tbody>\n",
       "</table>\n",
       "</div>"
      ],
      "text/plain": [
       "                   Genre              Attitude                  Stavning  \\\n",
       "0          [Selvportræt]  [Bedømmelse positiv]            [Semifonetisk]   \n",
       "1        [Rim og remser]                   NaN                [Fonetisk]   \n",
       "2                          [Følelse 1. person]            [Semifonetisk]   \n",
       "3  [Hverdagsbeskrivelse]                   NaN  [Semifonetisk, Fonetisk]   \n",
       "4  [Hverdagsbeskrivelse]   [Følelse 3. person]  [Konventionel skrivning]   \n",
       "\n",
       "            Perspektiv    Tekstbånd Fremstillingsform Semantisk univers  \\\n",
       "0  Eksplicit fortæller                  [Beskrivende]       [Mennesker]   \n",
       "1   Implicit fortæller  [Semantisk]     [Beskrivende]       [Vilde dyr]   \n",
       "2  Eksplicit fortæller          NaN     [Beskrivende]        [Mig selv]   \n",
       "3   Implicit fortæller          NaN     [Beskrivende]         [Kæledyr]   \n",
       "4   Implicit fortæller          NaN     [Beskrivende]         [Familie]   \n",
       "\n",
       "  Holistisk vurdering      Stemmer  book_id    Forbindere Interjektioner  \\\n",
       "0                   1  [En stemme]        0           NaN            NaN   \n",
       "1                   1  [En stemme]        1           NaN            NaN   \n",
       "2                   0  [En stemme]        2  [Tilføjelse]            NaN   \n",
       "3                   1  [En stemme]        3           NaN            NaN   \n",
       "4                   2  [En stemme]        4           NaN     [Attitude]   \n",
       "\n",
       "  Metaforbrug Noter  \n",
       "0         NaN   NaN  \n",
       "1         NaN   NaN  \n",
       "2         NaN   NaN  \n",
       "3         NaN   NaN  \n",
       "4         NaN   NaN  "
      ]
     },
     "execution_count": 7,
     "metadata": {},
     "output_type": "execute_result"
    }
   ],
   "source": [
    "book_df.head()"
   ]
  },
  {
   "cell_type": "code",
   "execution_count": null,
   "id": "988ba8bf-bcf0-4ac3-875c-4a825999aeb0",
   "metadata": {},
   "outputs": [],
   "source": [
    "list_cols = [\n",
    "    'Genre', 'Attitude', 'Stavning', 'Perspektiv', 'Tekstbånd', 'Fremstillingsform', \n",
    "    'Semantisk univers', 'Stemmer', 'Forbindere', 'Interjektioner'\n",
    "]"
   ]
  },
  {
   "cell_type": "code",
   "execution_count": 196,
   "id": "1aa59b95-16ad-4d64-9a1b-a9714e16b0b1",
   "metadata": {},
   "outputs": [],
   "source": [
    "## Replace empty strings with NaN values\n",
    "book_df = book_df.replace('', np.NaN)\n",
    "\n",
    "## Replace all NaN with empty lists\n",
    "for col in list_cols:\n",
    "    book_df.loc[book_df[col].isnull(), col] = book_df.loc[book_df[col].isnull(), col].apply(lambda x: [])\n",
    "\n",
    "## Interjektion - 3 values are not in list\n",
    "book_df.loc[book_df['Interjektioner'] == 'Attitude', 'Interjektioner'] = book_df.loc[book_df['Interjektioner'] == 'Attitude', 'Interjektioner'].apply(lambda x: [x])\n",
    "\n",
    "## \"Vilde dyr\" is there twice due to typo\n",
    "book_df['Semantisk univers'] = book_df['Semantisk univers'].apply(lambda x: ['Vilde dyr' if i=='Vilde dyr\\xa0' else i for i in x])"
   ]
  },
  {
   "cell_type": "code",
   "execution_count": 197,
   "id": "7e4587b9-d70b-4426-a0b7-87d9b1711960",
   "metadata": {},
   "outputs": [],
   "source": [
    "## Since data is in lists, we use MultiLabelBinarizer to one-hot-encode\n",
    "mlb = MultiLabelBinarizer()\n",
    "\n",
    "## One Hot Book\n",
    "ohb_df = book_df.copy(deep=True)\n",
    "\n",
    "for col in list_cols:\n",
    "    ohb_df = ohb_df.join(pd.DataFrame(mlb.fit_transform(ohb_df.pop(col)),\n",
    "                                      columns=[f'{col}_{x}' for x in mlb.classes_],\n",
    "                                      index=ohb_df.index))"
   ]
  },
  {
   "cell_type": "code",
   "execution_count": 198,
   "id": "ffd10404-ec82-4d0b-bf81-908d1657674d",
   "metadata": {},
   "outputs": [
    {
     "data": {
      "text/plain": [
       "(802, 91)"
      ]
     },
     "execution_count": 198,
     "metadata": {},
     "output_type": "execute_result"
    }
   ],
   "source": [
    "ohb_df.shape"
   ]
  },
  {
   "cell_type": "code",
   "execution_count": 201,
   "id": "eaf2722e-6bb6-4b9b-b302-6a00cc33e6aa",
   "metadata": {},
   "outputs": [
    {
     "data": {
      "text/html": [
       "<div>\n",
       "<style scoped>\n",
       "    .dataframe tbody tr th:only-of-type {\n",
       "        vertical-align: middle;\n",
       "    }\n",
       "\n",
       "    .dataframe tbody tr th {\n",
       "        vertical-align: top;\n",
       "    }\n",
       "\n",
       "    .dataframe thead th {\n",
       "        text-align: right;\n",
       "    }\n",
       "</style>\n",
       "<table border=\"1\" class=\"dataframe\">\n",
       "  <thead>\n",
       "    <tr style=\"text-align: right;\">\n",
       "      <th></th>\n",
       "      <th>Holistisk vurdering</th>\n",
       "      <th>book_id</th>\n",
       "      <th>Metaforbrug</th>\n",
       "      <th>Noter</th>\n",
       "      <th>Genre_Anmeldelse</th>\n",
       "      <th>Genre_Billedtekster</th>\n",
       "      <th>Genre_Eventyr</th>\n",
       "      <th>Genre_Fagbog</th>\n",
       "      <th>Genre_Fantasifortælling</th>\n",
       "      <th>Genre_Gyserfortælling</th>\n",
       "      <th>...</th>\n",
       "      <th>Stemmer_Flere konkrete stemmer</th>\n",
       "      <th>Stemmer_Flere potentielle stemmer</th>\n",
       "      <th>Forbindere_Alternativ</th>\n",
       "      <th>Forbindere_Betingelse</th>\n",
       "      <th>Forbindere_Modsætning</th>\n",
       "      <th>Forbindere_Tid</th>\n",
       "      <th>Forbindere_Tilføjelse</th>\n",
       "      <th>Forbindere_Årsag</th>\n",
       "      <th>Interjektioner_Attitude</th>\n",
       "      <th>Interjektioner_Effekt</th>\n",
       "    </tr>\n",
       "  </thead>\n",
       "  <tbody>\n",
       "    <tr>\n",
       "      <th>0</th>\n",
       "      <td>1</td>\n",
       "      <td>0</td>\n",
       "      <td>NaN</td>\n",
       "      <td>NaN</td>\n",
       "      <td>0</td>\n",
       "      <td>0</td>\n",
       "      <td>0</td>\n",
       "      <td>0</td>\n",
       "      <td>0</td>\n",
       "      <td>0</td>\n",
       "      <td>...</td>\n",
       "      <td>0</td>\n",
       "      <td>0</td>\n",
       "      <td>0</td>\n",
       "      <td>0</td>\n",
       "      <td>0</td>\n",
       "      <td>0</td>\n",
       "      <td>0</td>\n",
       "      <td>0</td>\n",
       "      <td>0</td>\n",
       "      <td>0</td>\n",
       "    </tr>\n",
       "    <tr>\n",
       "      <th>1</th>\n",
       "      <td>1</td>\n",
       "      <td>1</td>\n",
       "      <td>NaN</td>\n",
       "      <td>NaN</td>\n",
       "      <td>0</td>\n",
       "      <td>0</td>\n",
       "      <td>0</td>\n",
       "      <td>0</td>\n",
       "      <td>0</td>\n",
       "      <td>0</td>\n",
       "      <td>...</td>\n",
       "      <td>0</td>\n",
       "      <td>0</td>\n",
       "      <td>0</td>\n",
       "      <td>0</td>\n",
       "      <td>0</td>\n",
       "      <td>0</td>\n",
       "      <td>0</td>\n",
       "      <td>0</td>\n",
       "      <td>0</td>\n",
       "      <td>0</td>\n",
       "    </tr>\n",
       "    <tr>\n",
       "      <th>2</th>\n",
       "      <td>0</td>\n",
       "      <td>2</td>\n",
       "      <td>NaN</td>\n",
       "      <td>NaN</td>\n",
       "      <td>0</td>\n",
       "      <td>0</td>\n",
       "      <td>0</td>\n",
       "      <td>0</td>\n",
       "      <td>0</td>\n",
       "      <td>0</td>\n",
       "      <td>...</td>\n",
       "      <td>0</td>\n",
       "      <td>0</td>\n",
       "      <td>0</td>\n",
       "      <td>0</td>\n",
       "      <td>0</td>\n",
       "      <td>0</td>\n",
       "      <td>1</td>\n",
       "      <td>0</td>\n",
       "      <td>0</td>\n",
       "      <td>0</td>\n",
       "    </tr>\n",
       "    <tr>\n",
       "      <th>3</th>\n",
       "      <td>1</td>\n",
       "      <td>3</td>\n",
       "      <td>NaN</td>\n",
       "      <td>NaN</td>\n",
       "      <td>0</td>\n",
       "      <td>0</td>\n",
       "      <td>0</td>\n",
       "      <td>0</td>\n",
       "      <td>0</td>\n",
       "      <td>0</td>\n",
       "      <td>...</td>\n",
       "      <td>0</td>\n",
       "      <td>0</td>\n",
       "      <td>0</td>\n",
       "      <td>0</td>\n",
       "      <td>0</td>\n",
       "      <td>0</td>\n",
       "      <td>0</td>\n",
       "      <td>0</td>\n",
       "      <td>0</td>\n",
       "      <td>0</td>\n",
       "    </tr>\n",
       "    <tr>\n",
       "      <th>4</th>\n",
       "      <td>2</td>\n",
       "      <td>4</td>\n",
       "      <td>NaN</td>\n",
       "      <td>NaN</td>\n",
       "      <td>0</td>\n",
       "      <td>0</td>\n",
       "      <td>0</td>\n",
       "      <td>0</td>\n",
       "      <td>0</td>\n",
       "      <td>0</td>\n",
       "      <td>...</td>\n",
       "      <td>0</td>\n",
       "      <td>0</td>\n",
       "      <td>0</td>\n",
       "      <td>0</td>\n",
       "      <td>0</td>\n",
       "      <td>0</td>\n",
       "      <td>0</td>\n",
       "      <td>0</td>\n",
       "      <td>1</td>\n",
       "      <td>0</td>\n",
       "    </tr>\n",
       "  </tbody>\n",
       "</table>\n",
       "<p>5 rows × 91 columns</p>\n",
       "</div>"
      ],
      "text/plain": [
       "  Holistisk vurdering  book_id Metaforbrug Noter  Genre_Anmeldelse  \\\n",
       "0                   1        0         NaN   NaN                 0   \n",
       "1                   1        1         NaN   NaN                 0   \n",
       "2                   0        2         NaN   NaN                 0   \n",
       "3                   1        3         NaN   NaN                 0   \n",
       "4                   2        4         NaN   NaN                 0   \n",
       "\n",
       "   Genre_Billedtekster  Genre_Eventyr  Genre_Fagbog  Genre_Fantasifortælling  \\\n",
       "0                    0              0             0                        0   \n",
       "1                    0              0             0                        0   \n",
       "2                    0              0             0                        0   \n",
       "3                    0              0             0                        0   \n",
       "4                    0              0             0                        0   \n",
       "\n",
       "   Genre_Gyserfortælling  ...  Stemmer_Flere konkrete stemmer  \\\n",
       "0                      0  ...                               0   \n",
       "1                      0  ...                               0   \n",
       "2                      0  ...                               0   \n",
       "3                      0  ...                               0   \n",
       "4                      0  ...                               0   \n",
       "\n",
       "   Stemmer_Flere potentielle stemmer  Forbindere_Alternativ  \\\n",
       "0                                  0                      0   \n",
       "1                                  0                      0   \n",
       "2                                  0                      0   \n",
       "3                                  0                      0   \n",
       "4                                  0                      0   \n",
       "\n",
       "   Forbindere_Betingelse  Forbindere_Modsætning  Forbindere_Tid  \\\n",
       "0                      0                      0               0   \n",
       "1                      0                      0               0   \n",
       "2                      0                      0               0   \n",
       "3                      0                      0               0   \n",
       "4                      0                      0               0   \n",
       "\n",
       "   Forbindere_Tilføjelse  Forbindere_Årsag  Interjektioner_Attitude  \\\n",
       "0                      0                 0                        0   \n",
       "1                      0                 0                        0   \n",
       "2                      1                 0                        0   \n",
       "3                      0                 0                        0   \n",
       "4                      0                 0                        1   \n",
       "\n",
       "   Interjektioner_Effekt  \n",
       "0                      0  \n",
       "1                      0  \n",
       "2                      0  \n",
       "3                      0  \n",
       "4                      0  \n",
       "\n",
       "[5 rows x 91 columns]"
      ]
     },
     "execution_count": 201,
     "metadata": {},
     "output_type": "execute_result"
    }
   ],
   "source": [
    "ohb_df.head()"
   ]
  },
  {
   "cell_type": "markdown",
   "id": "0e6ec0a9-fd5c-4d0b-8c57-bb6ad02109ce",
   "metadata": {},
   "source": [
    "# Sentence level"
   ]
  },
  {
   "cell_type": "code",
   "execution_count": 232,
   "id": "7f17fe67-64f5-49b3-ac30-0028c46f5116",
   "metadata": {},
   "outputs": [
    {
     "name": "stdout",
     "output_type": "stream",
     "text": [
      "Number of empty strings: 2596\n"
     ]
    }
   ],
   "source": [
    "text_array = []\n",
    "empty_sen = 0\n",
    "\n",
    "## Goal - create an array with shape (b, p, s), containing all sentences\n",
    "for book in book_col:\n",
    "    for page in book.pages:\n",
    "        for sentence in page:\n",
    "            if sentence.text == \"\":\n",
    "                empty_sen += 1\n",
    "                continue\n",
    "            text_array.append([sentence.text])\n",
    "\n",
    "print(f'Number of empty strings: {empty_sen}')"
   ]
  },
  {
   "cell_type": "code",
   "execution_count": 237,
   "id": "248c2062-508c-43c3-a280-b2aa5dd88c8d",
   "metadata": {},
   "outputs": [
    {
     "data": {
      "text/plain": [
       "(8834, 1)"
      ]
     },
     "execution_count": 237,
     "metadata": {},
     "output_type": "execute_result"
    }
   ],
   "source": [
    "np.array(text_array, dtype='object').shape"
   ]
  },
  {
   "cell_type": "code",
   "execution_count": 238,
   "id": "ccfcc01b-e2b0-4dce-91de-8c28ae48eb3d",
   "metadata": {},
   "outputs": [
    {
     "name": "stdout",
     "output_type": "stream",
     "text": [
      "{'V-tid': 'Nutid', 'A-kerne': ['Menneskeriget'], 'Forfelt': 'Subjekt', 'A-person': '1. person ental', 'A-opbygning': ['Pronomen'], 'P-beskriver': ['Bedømmelse'], 'P-opbygning': ['Adjektiv'], 'V-procestype': 'Relationel', 'Tekst-billede-relation': 'Overensstemmelse', 'V-form': 'Nutid', 'A-realisering': 'Subjekt', 'Specificering': 'Almindelig'}\n"
     ]
    }
   ],
   "source": [
    "for book in book_col:\n",
    "    for page in book.pages:\n",
    "        for sentence in page:\n",
    "            if sentence.text == \"\":\n",
    "                empty_sen += 1\n",
    "                continue\n",
    "            print(sentence.code_dict)\n",
    "    break"
   ]
  },
  {
   "cell_type": "code",
   "execution_count": null,
   "id": "db3c5396-1dca-436d-8d63-00e7a5f27b7a",
   "metadata": {},
   "outputs": [],
   "source": []
  }
 ],
 "metadata": {
  "kernelspec": {
   "display_name": "Python 3 (ipykernel)",
   "language": "python",
   "name": "python3"
  },
  "language_info": {
   "codemirror_mode": {
    "name": "ipython",
    "version": 3
   },
   "file_extension": ".py",
   "mimetype": "text/x-python",
   "name": "python",
   "nbconvert_exporter": "python",
   "pygments_lexer": "ipython3",
   "version": "3.8.10"
  },
  "vscode": {
   "interpreter": {
    "hash": "000d89547fc55ae922e486db18b5beb8a5f917b898b89eb599cdd184a9733888"
   }
  }
 },
 "nbformat": 4,
 "nbformat_minor": 5
}
