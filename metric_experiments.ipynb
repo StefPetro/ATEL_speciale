{
 "cells": [
  {
   "cell_type": "code",
   "execution_count": 127,
   "id": "40035283-0c4e-494c-84ba-6858563c6a27",
   "metadata": {},
   "outputs": [],
   "source": [
    "import torch\n",
    "from torchmetrics.classification import MultilabelAccuracy\n",
    "from torchmetrics.functional.classification import multilabel_accuracy, multilabel_f1_score\n",
    "from torchmetrics.functional.classification import multilabel_recall, multilabel_precision\n",
    "from torchmetrics.functional.classification import multiclass_auroc, multilabel_auroc\n",
    "from torchmetrics.functional.classification import multilabel_exact_match"
   ]
  },
  {
   "cell_type": "markdown",
   "id": "e44f1d60-0a52-421f-9d65-1f833c218414",
   "metadata": {},
   "source": [
    "## Multi-label"
   ]
  },
  {
   "cell_type": "code",
   "execution_count": 131,
   "id": "58c204b7-7947-48fe-9356-bd3cc3b2dfab",
   "metadata": {},
   "outputs": [
    {
     "data": {
      "text/plain": [
       "tensor(0.5000)"
      ]
     },
     "execution_count": 131,
     "metadata": {},
     "output_type": "execute_result"
    }
   ],
   "source": [
    "preds = torch.tensor(\n",
    "    [\n",
    "        [1, 0, 1, 0],\n",
    "        [1, 1, 0, 0]\n",
    "    ]\n",
    ")\n",
    "\n",
    "target = torch.tensor(\n",
    "    [\n",
    "        [1, 0, 1, 0],\n",
    "        [0, 1, 1, 1]S\n",
    "    ]\n",
    ")\n",
    "\n",
    "# for individual samples\n",
    "TP, TN = 2, 2\n",
    "FP, FN = 2, 2\n",
    "\n",
    "multilabel_exact_match(preds, target, num_labels=4)"
   ]
  },
  {
   "cell_type": "code",
   "execution_count": 132,
   "id": "0c200bb5-76f3-4f5b-bd1c-be3a76bb740f",
   "metadata": {},
   "outputs": [
    {
     "data": {
      "text/plain": [
       "tensor(0.6250)"
      ]
     },
     "execution_count": 132,
     "metadata": {},
     "output_type": "execute_result"
    }
   ],
   "source": [
    "multilabel_accuracy(preds, target, num_labels=4, average='micro')"
   ]
  },
  {
   "cell_type": "code",
   "execution_count": 96,
   "id": "c4898c66-0c0b-4407-95db-7c6cad2f956f",
   "metadata": {},
   "outputs": [
    {
     "data": {
      "text/plain": [
       "(tensor(0.3750), 0.5)"
      ]
     },
     "execution_count": 96,
     "metadata": {},
     "output_type": "execute_result"
    }
   ],
   "source": [
    "r = multilabel_recall(preds, target, num_labels=4)\n",
    "r, TP/(TP+FN)"
   ]
  },
  {
   "cell_type": "code",
   "execution_count": 95,
   "id": "d9be5b60-7c30-4546-97fb-d70581e216b5",
   "metadata": {},
   "outputs": [
    {
     "data": {
      "text/plain": [
       "(tensor(0.3750), 0.5)"
      ]
     },
     "execution_count": 95,
     "metadata": {},
     "output_type": "execute_result"
    }
   ],
   "source": [
    "p = multilabel_precision(preds, target, num_labels=4,)\n",
    "p, TP/(TP+FP)"
   ]
  },
  {
   "cell_type": "code",
   "execution_count": 97,
   "id": "9d38de61-f85c-45ee-9192-6a75bca537c7",
   "metadata": {},
   "outputs": [
    {
     "data": {
      "text/plain": [
       "(tensor(0.3333), tensor(0.3750))"
      ]
     },
     "execution_count": 97,
     "metadata": {},
     "output_type": "execute_result"
    }
   ],
   "source": [
    "f1 = multilabel_f1_score(preds, target, num_labels=4)\n",
    "f1, 2*(p*r)/(p+r)"
   ]
  },
  {
   "cell_type": "code",
   "execution_count": 63,
   "id": "5d0fd3e7-6db3-4ca6-b91c-5d7d1acc7f3f",
   "metadata": {},
   "outputs": [
    {
     "data": {
      "text/plain": [
       "tensor(0.3750)"
      ]
     },
     "execution_count": 63,
     "metadata": {},
     "output_type": "execute_result"
    }
   ],
   "source": [
    "2*(p*r)/(p+r)"
   ]
  },
  {
   "cell_type": "code",
   "execution_count": 86,
   "id": "e61c01d4-7c3a-4a52-88dd-88875a61876b",
   "metadata": {},
   "outputs": [
    {
     "data": {
      "text/plain": [
       "array([0.66666667, 0.        , 0.66666667, 0.        ])"
      ]
     },
     "execution_count": 86,
     "metadata": {},
     "output_type": "execute_result"
    }
   ],
   "source": [
    "from sklearn.metrics import f1_score, precision_score, recall_score\n",
    "f1_score(target.detach(), preds.detach(), average=None)"
   ]
  },
  {
   "cell_type": "code",
   "execution_count": 76,
   "id": "d7e1e115-6435-4a91-8573-e8416a7e9720",
   "metadata": {},
   "outputs": [
    {
     "name": "stderr",
     "output_type": "stream",
     "text": [
      "c:\\users\\spetr\\documents\\github\\atel_speciale\\venv\\lib\\site-packages\\sklearn\\metrics\\_classification.py:1334: UndefinedMetricWarning: Precision is ill-defined and being set to 0.0 in labels with no predicted samples. Use `zero_division` parameter to control this behavior.\n",
      "  _warn_prf(average, modifier, msg_start, len(result))\n"
     ]
    },
    {
     "data": {
      "text/plain": [
       "0.375"
      ]
     },
     "execution_count": 76,
     "metadata": {},
     "output_type": "execute_result"
    }
   ],
   "source": [
    "precision_score(target.detach(), preds.detach(), average='macro')"
   ]
  },
  {
   "cell_type": "code",
   "execution_count": 77,
   "id": "d80a4904-7f5e-4e41-a0a2-2fb61ead5eaf",
   "metadata": {},
   "outputs": [
    {
     "name": "stderr",
     "output_type": "stream",
     "text": [
      "c:\\users\\spetr\\documents\\github\\atel_speciale\\venv\\lib\\site-packages\\sklearn\\metrics\\_classification.py:1334: UndefinedMetricWarning: Recall is ill-defined and being set to 0.0 in labels with no true samples. Use `zero_division` parameter to control this behavior.\n",
      "  _warn_prf(average, modifier, msg_start, len(result))\n"
     ]
    },
    {
     "data": {
      "text/plain": [
       "0.375"
      ]
     },
     "execution_count": 77,
     "metadata": {},
     "output_type": "execute_result"
    }
   ],
   "source": [
    "recall_score(target.detach(), preds.detach(), average='macro')"
   ]
  },
  {
   "cell_type": "code",
   "execution_count": 126,
   "id": "8505ee5f-1b88-47bc-b2ab-bf996bf51557",
   "metadata": {},
   "outputs": [
    {
     "data": {
      "text/plain": [
       "tensor(0.6528)"
      ]
     },
     "execution_count": 126,
     "metadata": {},
     "output_type": "execute_result"
    }
   ],
   "source": [
    "preds = torch.tensor([[0.75, 0.05, 0.35],\n",
    "                      [0.45, 0.75, 0.05],\n",
    "                      [0.05, 0.55, 0.75],\n",
    "                      [0.05, 0.65, 0.05]])\n",
    "target = torch.tensor([[1, 0, 1],\n",
    "                       [0, 0, 0],\n",
    "                       [0, 1, 1],\n",
    "                       [1, 1, 1]])\n",
    "multilabel_auroc(preds, target, num_labels=3, average=\"macro\", thresholds=None)"
   ]
  },
  {
   "cell_type": "code",
   "execution_count": 124,
   "id": "8aeb8196-6522-47ec-ba4d-e7883a56962f",
   "metadata": {},
   "outputs": [
    {
     "data": {
      "text/plain": [
       "tensor(0.6528)"
      ]
     },
     "execution_count": 124,
     "metadata": {},
     "output_type": "execute_result"
    }
   ],
   "source": [
    "multilabel_auroc(preds, target, num_labels=3, average=None, thresholds=None).mean()"
   ]
  },
  {
   "cell_type": "markdown",
   "id": "5fa82451-166e-4cee-aad9-7c700bc23c16",
   "metadata": {},
   "source": [
    "## Multi-class"
   ]
  },
  {
   "cell_type": "code",
   "execution_count": 111,
   "id": "c92573a8-18c4-49bd-916d-1fd8697e9771",
   "metadata": {},
   "outputs": [],
   "source": [
    "from torchmetrics.functional.classification import multiclass_accuracy, multiclass_f1_score\n",
    "from torchmetrics.functional.classification import multiclass_recall, multiclass_precision\n",
    "from torchmetrics.functional.classification import multiclass_accuracy\n",
    "from torchmetrics.functional import accuracy"
   ]
  },
  {
   "cell_type": "code",
   "execution_count": 100,
   "id": "f8ae64c9-1426-4a28-a543-b8626ac9a4e2",
   "metadata": {},
   "outputs": [],
   "source": [
    "target = torch.tensor([2, 1, 0, 0])\n",
    "preds = torch.tensor([\n",
    "  [0.16, 0.26, 0.58],\n",
    "  [0.22, 0.61, 0.17],\n",
    "  [0.71, 0.09, 0.20],\n",
    "  [0.05, 0.82, 0.13],\n",
    "])"
   ]
  },
  {
   "cell_type": "code",
   "execution_count": 112,
   "id": "0a94aba1-e825-4638-b65e-395d6eb9880f",
   "metadata": {},
   "outputs": [
    {
     "data": {
      "text/plain": [
       "tensor(0.7500)"
      ]
     },
     "execution_count": 112,
     "metadata": {},
     "output_type": "execute_result"
    }
   ],
   "source": [
    "accuracy(preds, target)"
   ]
  },
  {
   "cell_type": "code",
   "execution_count": 119,
   "id": "6913dd47-db17-4bd3-8040-97d9d3538993",
   "metadata": {},
   "outputs": [
    {
     "data": {
      "text/plain": [
       "tensor(0.8333)"
      ]
     },
     "execution_count": 119,
     "metadata": {},
     "output_type": "execute_result"
    }
   ],
   "source": [
    "multiclass_accuracy(preds, target, num_classes=3, average='none').mean()"
   ]
  },
  {
   "cell_type": "code",
   "execution_count": 110,
   "id": "69064986-faeb-41ae-bffc-b4c736ac8b1c",
   "metadata": {},
   "outputs": [
    {
     "data": {
      "text/plain": [
       "tensor([0.6667, 0.6667, 1.0000])"
      ]
     },
     "execution_count": 110,
     "metadata": {},
     "output_type": "execute_result"
    }
   ],
   "source": [
    "# 2*(p*r)/(p+r)\n",
    "multiclass_f1_score(preds, target, num_classes=3, average='none')"
   ]
  },
  {
   "cell_type": "code",
   "execution_count": 109,
   "id": "64f5be28-1e9c-4cd4-8ca9-0209b9f342a6",
   "metadata": {},
   "outputs": [
    {
     "data": {
      "text/plain": [
       "tensor([1.0000, 0.5000, 1.0000])"
      ]
     },
     "execution_count": 109,
     "metadata": {},
     "output_type": "execute_result"
    }
   ],
   "source": [
    "# TP/(TP+FP)\n",
    "multiclass_precision(preds, target, num_classes=3, average='none')"
   ]
  },
  {
   "cell_type": "code",
   "execution_count": 108,
   "id": "61a99f6a-f90c-4390-b9e9-ab33e081b1cb",
   "metadata": {},
   "outputs": [
    {
     "data": {
      "text/plain": [
       "tensor([0.5000, 1.0000, 1.0000])"
      ]
     },
     "execution_count": 108,
     "metadata": {},
     "output_type": "execute_result"
    }
   ],
   "source": [
    "# TP/(TP+FN)\n",
    "multiclass_recall(preds, target, num_classes=3, average='none')"
   ]
  },
  {
   "cell_type": "code",
   "execution_count": null,
   "id": "8f353e76-2020-43e0-8e46-346a7b3cfa7e",
   "metadata": {},
   "outputs": [],
   "source": []
  }
 ],
 "metadata": {
  "kernelspec": {
   "display_name": "Python 3 (ipykernel)",
   "language": "python",
   "name": "python3"
  },
  "language_info": {
   "codemirror_mode": {
    "name": "ipython",
    "version": 3
   },
   "file_extension": ".py",
   "mimetype": "text/x-python",
   "name": "python",
   "nbconvert_exporter": "python",
   "pygments_lexer": "ipython3",
   "version": "3.8.10"
  }
 },
 "nbformat": 4,
 "nbformat_minor": 5
}
